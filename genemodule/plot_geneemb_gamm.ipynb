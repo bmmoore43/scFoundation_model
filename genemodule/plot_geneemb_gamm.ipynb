{
 "cells": [
  {
   "cell_type": "code",
   "execution_count": 1,
   "id": "2e91e8c6-eecf-4f86-ba6e-53d21822ecdc",
   "metadata": {},
   "outputs": [],
   "source": [
    "%matplotlib inline\n",
    "import scanpy as sc\n",
    "import pandas as pd\n",
    "import seaborn as sns\n",
    "import numpy as np\n",
    "import pandas as pd\n",
    "import igraph\n",
    "import leidenalg"
   ]
  },
  {
   "cell_type": "code",
   "execution_count": 66,
   "id": "955300dd",
   "metadata": {},
   "outputs": [
    {
     "data": {
      "text/plain": [
       "AnnData object with n_obs × n_vars = 516 × 16711\n",
       "    obs: 'orig.ident', 'nCount_RNA', 'nFeature_RNA', 'ident', 'scDblFinder.class', 'scDblFinder.score', 'scDblFinder.weighted', 'scDblFinder.cxds_score', 'percent.mt', 'sizeFactors', 'S.Score', 'G2M.Score', 'Phase', 'old.ident', 'RNA_snn_res.0.5', 'seurat_clusters', 'CellType', 'CellType_manual'\n",
       "    var: 'features', 'old_names'\n",
       "    uns: 'neighbors'\n",
       "    obsm: 'X_harmony', 'X_pca', 'X_umap'\n",
       "    varm: 'HARMONY', 'PCs'\n",
       "    obsp: 'distances'"
      ]
     },
     "execution_count": 66,
     "metadata": {},
     "output_type": "execute_result"
    }
   ],
   "source": [
    "# read in subsetted ann data object\n",
    "adata = sc.read_h5ad(\"/w5home/bmoore/scRNAseq/GAMM/GAMM_S2/output_20230830_155530/GAMM_S2_clabeled-clusters_0.5_cones_orthologs.h5ad\")\n",
    "adata\n"
   ]
  },
  {
   "cell_type": "code",
   "execution_count": 3,
   "id": "66ab0b6d",
   "metadata": {},
   "outputs": [
    {
     "name": "stdout",
     "output_type": "stream",
     "text": [
      "                        A1BG      A1CF       A2M     A2ML1   A3GALT2  \\\n",
      "AAACGAAGTTTCGGCG_1 -0.042346 -0.105030 -0.427844 -0.184739 -0.036179   \n",
      "AAACGAATCGTCTACC_1 -0.043150  6.128100 -0.379275 -0.179870 -0.040108   \n",
      "AACAAGACAACGATTC_1 -0.037658 -0.103802 -0.357409 -0.204344 -0.052037   \n",
      "AACAGGGAGTCATAGA_1 -0.044894 -0.102238 -0.508249 -0.175131 -0.022941   \n",
      "AACCACATCACCCTTG_1 -0.042375 -0.106361 -0.412149 -0.184219 -0.037850   \n",
      "...                      ...       ...       ...       ...       ...   \n",
      "TTTACCACACTGTCGG_2 -0.039420 -0.097577 -0.465289 -0.199000 -0.037152   \n",
      "TTTCATGAGCCAGAGT_2 -0.037614 -0.093242 -0.485196 -0.207719 -0.038104   \n",
      "TTTGGAGCAGAAGCGT_2 -0.044068 -0.110562 -0.391849 -0.176000 -0.037136   \n",
      "TTTGGAGCAGGAGACT_2 -0.045522 -0.111476 -0.407204 -0.169757 -0.032928   \n",
      "TTTGGTTGTCTTCTAT_2 -0.041736 -0.103496 -0.435414 -0.187704 -0.036407   \n",
      "\n",
      "                      A4GALT     A4GNT      AAAS      AACS     AADAC  ...  \\\n",
      "AAACGAAGTTTCGGCG_1 -0.076534 -0.036593 -0.261514 -0.318321 -0.052184  ...   \n",
      "AAACGAATCGTCTACC_1 -0.077283 -0.017294 -0.252992  1.590552 -0.048194  ...   \n",
      "AACAAGACAACGATTC_1 -0.092230 -0.055485 -0.241782 -0.317517 -0.084048  ...   \n",
      "AACAGGGAGTCATAGA_1 -0.065613 -0.037479 -0.280508 -0.329647 -0.033840  ...   \n",
      "AACCACATCACCCTTG_1 -0.077353 -0.032209 -0.258469 -0.314157 -0.052382  ...   \n",
      "...                      ...       ...       ...       ...       ...  ...   \n",
      "TTTACCACACTGTCGG_2 -0.081712 -0.069944 -0.265179 -0.338866 -0.070094  ...   \n",
      "TTTCATGAGCCAGAGT_2 -0.085088 -0.089674 -0.266813 -0.350716 -0.081222  ...   \n",
      "TTTGGAGCAGAAGCGT_2 -0.074278 -0.013270 -0.256617  2.808629 -0.041983  ...   \n",
      "TTTGGAGCAGGAGACT_2 -0.069778 -0.005690  3.536150 -0.301191 -0.032256  ...   \n",
      "TTTGGTTGTCTTCTAT_2 -0.077625 -0.043479 -0.262232 -0.322541 -0.055920  ...   \n",
      "\n",
      "                      ZWILCH     ZWINT  ZXDA  ZXDB      ZXDC    ZYG11A  \\\n",
      "AAACGAAGTTTCGGCG_1  1.785113 -0.094897   0.0   0.0  1.544678 -0.080738   \n",
      "AAACGAATCGTCTACC_1 -0.397847 -0.080915   0.0   0.0  0.817142 -0.062783   \n",
      "AACAAGACAACGATTC_1 -0.340625 -0.054137   0.0   0.0 -0.500603 -0.099650   \n",
      "AACAGGGAGTCATAGA_1 -0.439619 -0.131617   0.0   0.0  1.436413 -0.080678   \n",
      "AACCACATCACCCTTG_1 -0.396723 -0.089569   0.0   0.0 -0.492975 -0.076712   \n",
      "...                      ...       ...   ...   ...       ...       ...   \n",
      "TTTACCACACTGTCGG_2 -0.378487 -0.097606   0.0   0.0 -0.531532 -0.112291   \n",
      "TTTCATGAGCCAGAGT_2 -0.364916 -0.098172   0.0   0.0 -0.550238 -0.130984   \n",
      "TTTGGAGCAGAAGCGT_2 -0.409139 -0.088476   0.0   0.0 -0.474801 -0.058783   \n",
      "TTTGGAGCAGGAGACT_2 -0.426141  8.159082   0.0   0.0  1.738733 -0.051341   \n",
      "TTTGGTTGTCTTCTAT_2 -0.395065 -0.095382   0.0   0.0 -0.505856 -0.087255   \n",
      "\n",
      "                      ZYG11B       ZYX     ZZEF1      ZZZ3  \n",
      "AAACGAAGTTTCGGCG_1  2.173786 -0.643024 -0.676821 -1.091205  \n",
      "AAACGAATCGTCTACC_1  1.316336 -0.699179 -0.673096  0.497170  \n",
      "AACAAGACAACGATTC_1  2.488279 -0.851256 -0.659867  0.685701  \n",
      "AACAGGGAGTCATAGA_1  1.504793 -0.466044 -0.690642 -0.038811  \n",
      "AACCACATCACCCTTG_1  2.118825 -0.666180 -0.675161  1.451693  \n",
      "...                      ...       ...       ...       ...  \n",
      "TTTACCACACTGTCGG_2  1.507870 -0.649690 -0.675140  1.066979  \n",
      "TTTCATGAGCCAGAGT_2 -0.654560 -0.658642 -0.673754  1.484243  \n",
      "TTTGGAGCAGAAGCGT_2  0.823521 -0.660244 -0.676283 -1.102881  \n",
      "TTTGGAGCAGGAGACT_2 -0.735036  1.611694 -0.680832  0.129191  \n",
      "TTTGGTTGTCTTCTAT_2 -0.697684 -0.644759 -0.676446 -1.085603  \n",
      "\n",
      "[516 rows x 19264 columns]\n"
     ]
    }
   ],
   "source": [
    "# get correct gene names based on gene list\n",
    "def main_gene_selection(X_df, gene_list):\n",
    "    \"\"\"\n",
    "    Describe:\n",
    "        rebuild the input adata to select target genes encode protein \n",
    "    Parameters:\n",
    "        adata->`~anndata.AnnData` object: adata with var index_name by gene symbol\n",
    "        gene_list->list: wanted target gene \n",
    "    Returns:\n",
    "        adata_new->`~anndata.AnnData` object\n",
    "        to_fill_columns->list: zero padding gene\n",
    "    \"\"\"\n",
    "    to_fill_columns = list(set(gene_list) - set(X_df.columns))\n",
    "    padding_df = pd.DataFrame(np.zeros((X_df.shape[0], len(to_fill_columns))), \n",
    "                              columns=to_fill_columns, \n",
    "                              index=X_df.index)\n",
    "    X_df = pd.DataFrame(np.concatenate([df.values for df in [X_df, padding_df]], axis=1), \n",
    "                        index=X_df.index, \n",
    "                        columns=list(X_df.columns) + list(padding_df.columns))\n",
    "    X_df = X_df[gene_list]\n",
    "    \n",
    "    var = pd.DataFrame(index=X_df.columns)\n",
    "    var['mask'] = [1 if i in to_fill_columns else 0 for i in list(var.index)]\n",
    "    return X_df, to_fill_columns,var\n",
    "\n",
    "gene_list_df = pd.read_csv('/w5home/bmoore/scFoundation/model/OS_scRNA_gene_index.19264.tsv', header=0, delimiter='\\t')\n",
    "gene_list = list(gene_list_df['gene_name'])\n",
    "X_df= adata.to_df()\n",
    "X_df, to_fill_columns, var = main_gene_selection(X_df, gene_list)\n",
    "print(X_df)"
   ]
  },
  {
   "cell_type": "code",
   "execution_count": 4,
   "id": "2276790a",
   "metadata": {},
   "outputs": [
    {
     "name": "stderr",
     "output_type": "stream",
     "text": [
      "/w5home/bmoore/miniconda3/envs/scfound2/lib/python3.12/site-packages/scanpy/preprocessing/_highly_variable_genes.py:305: RuntimeWarning: invalid value encountered in log\n",
      "  dispersion = np.log(dispersion)\n"
     ]
    }
   ],
   "source": [
    "import skmisc\n",
    "# turn back to anndata object\n",
    "#get variable gene_list\n",
    "adata = sc.AnnData(X_df)\n",
    "sc.pp.highly_variable_genes(adata) # ,flavor=\"seurat_v3\""
   ]
  },
  {
   "cell_type": "code",
   "execution_count": 5,
   "id": "4c04db87",
   "metadata": {},
   "outputs": [
    {
     "name": "stdout",
     "output_type": "stream",
     "text": [
      "[False  True False ... False False False]\n"
     ]
    }
   ],
   "source": [
    "hvg_mask = adata.var['highly_variable'].values\n",
    "print(hvg_mask)"
   ]
  },
  {
   "cell_type": "code",
   "execution_count": 6,
   "id": "873c3de0",
   "metadata": {},
   "outputs": [
    {
     "name": "stdout",
     "output_type": "stream",
     "text": [
      "3125\n"
     ]
    }
   ],
   "source": [
    "hvg_indices = np.where(hvg_mask)[0]\n",
    "print(len(hvg_indices))"
   ]
  },
  {
   "cell_type": "code",
   "execution_count": 7,
   "id": "7d9cc038",
   "metadata": {},
   "outputs": [],
   "source": [
    "# get embedding\n",
    "cell_geneemb = np.load('/w5home/bmoore/scRNAseq/GAMM/GAMM_S2/Gamm_gene_embed/Gamm_01B-resolution_sc_gene_embedding_a5_cones-orthos.npy')"
   ]
  },
  {
   "cell_type": "code",
   "execution_count": 8,
   "id": "de9a3072",
   "metadata": {},
   "outputs": [
    {
     "name": "stdout",
     "output_type": "stream",
     "text": [
      "[[[            nan             nan             nan ...             nan\n",
      "               nan             nan]\n",
      "  [            nan             nan             nan ...             nan\n",
      "               nan             nan]\n",
      "  [            nan             nan             nan ...             nan\n",
      "               nan             nan]\n",
      "  ...\n",
      "  [            nan             nan             nan ...             nan\n",
      "               nan             nan]\n",
      "  [            nan             nan             nan ...             nan\n",
      "               nan             nan]\n",
      "  [            nan             nan             nan ...             nan\n",
      "               nan             nan]]\n",
      "\n",
      " [[-6.92784712e-02  4.02336717e-02  6.18375018e-02 ...  5.92425205e-02\n",
      "   -4.71354797e-02 -7.37854242e-02]\n",
      "  [-2.90654786e-02  1.18232556e-01 -4.62347120e-02 ...  2.64367014e-01\n",
      "   -8.53215754e-02 -1.75835326e-01]\n",
      "  [-2.14098692e-01 -1.27610832e-01  1.59268841e-01 ...  7.89054856e-02\n",
      "    1.71321929e-02 -2.16537789e-01]\n",
      "  ...\n",
      "  [ 3.32181691e-03 -9.60577875e-02  1.94980577e-01 ...  1.30087063e-01\n",
      "    3.40430588e-02 -6.72504529e-02]\n",
      "  [ 3.50947939e-02 -3.17301065e-01  4.65935647e-01 ...  2.30184406e-01\n",
      "    7.76511729e-02 -2.53426433e-01]\n",
      "  [ 1.28917679e-01  1.62208304e-01 -3.29015821e-01 ...  3.48783135e-01\n",
      "   -1.22060560e-01 -2.93545038e-01]]\n",
      "\n",
      " [[-9.76842493e-02 -3.45189939e-03  7.41257146e-02 ...  1.33233875e-01\n",
      "   -6.54058009e-02 -6.12395070e-02]\n",
      "  [-9.23403725e-02 -1.58933222e-01  2.91497260e-02 ...  1.52160481e-01\n",
      "   -6.09604344e-02  2.73091141e-02]\n",
      "  [-1.05053782e-01 -1.19987518e-01  1.08020470e-01 ...  1.22364573e-01\n",
      "    1.03592044e-02 -1.88037157e-02]\n",
      "  ...\n",
      "  [-2.29021627e-03 -1.04625352e-01  1.74878851e-01 ...  1.20760031e-01\n",
      "   -8.03384464e-03 -5.76261282e-02]\n",
      "  [-1.82544980e-02 -1.88004181e-01  2.07826227e-01 ...  1.85626432e-01\n",
      "   -5.08120023e-02 -4.40743752e-02]\n",
      "  [ 1.07095003e-01  5.76489389e-01 -5.51807702e-01 ...  5.81044257e-01\n",
      "    3.87005731e-02 -3.16008866e-01]]\n",
      "\n",
      " ...\n",
      "\n",
      " [[            nan             nan             nan ...             nan\n",
      "               nan             nan]\n",
      "  [            nan             nan             nan ...             nan\n",
      "               nan             nan]\n",
      "  [            nan             nan             nan ...             nan\n",
      "               nan             nan]\n",
      "  ...\n",
      "  [            nan             nan             nan ...             nan\n",
      "               nan             nan]\n",
      "  [            nan             nan             nan ...             nan\n",
      "               nan             nan]\n",
      "  [            nan             nan             nan ...             nan\n",
      "               nan             nan]]\n",
      "\n",
      " [[-7.92076290e-02 -5.75201027e-03  6.37317300e-02 ...  1.57753214e-01\n",
      "   -8.59277397e-02 -2.96944100e-02]\n",
      "  [-9.99092013e-02 -1.84705108e-01  1.69466268e-02 ...  1.74364299e-01\n",
      "   -8.06610584e-02  4.22795936e-02]\n",
      "  [-9.87484530e-02 -1.55162826e-01  1.02353811e-01 ...  1.33888692e-01\n",
      "    6.39896549e-04 -9.74553730e-03]\n",
      "  ...\n",
      "  [ 8.37940797e-02  3.02524090e-01 -6.55512691e-01 ...  2.40241766e-01\n",
      "    8.34801123e-02 -3.83827180e-01]\n",
      "  [ 8.28315318e-03 -2.12343171e-01  2.36552253e-01 ...  1.89824373e-01\n",
      "   -7.86637664e-02 -3.94455250e-03]\n",
      "  [-1.79949496e-02  4.99306381e-01 -3.39881778e-01 ...  4.16031867e-01\n",
      "   -1.41332716e-01 -3.28828216e-01]]\n",
      "\n",
      " [[            nan             nan             nan ...             nan\n",
      "               nan             nan]\n",
      "  [            nan             nan             nan ...             nan\n",
      "               nan             nan]\n",
      "  [            nan             nan             nan ...             nan\n",
      "               nan             nan]\n",
      "  ...\n",
      "  [            nan             nan             nan ...             nan\n",
      "               nan             nan]\n",
      "  [            nan             nan             nan ...             nan\n",
      "               nan             nan]\n",
      "  [            nan             nan             nan ...             nan\n",
      "               nan             nan]]]\n"
     ]
    }
   ],
   "source": [
    "print(cell_geneemb)"
   ]
  },
  {
   "cell_type": "code",
   "execution_count": 9,
   "id": "7302c1e3",
   "metadata": {},
   "outputs": [
    {
     "name": "stdout",
     "output_type": "stream",
     "text": [
      "(516, 19264)\n"
     ]
    },
    {
     "data": {
      "text/plain": [
       "array([[        nan,         nan,         nan, ...,         nan,\n",
       "                nan,         nan],\n",
       "       [-0.06927847, -0.02906548, -0.21409869, ...,  0.00332182,\n",
       "         0.03509479,  0.12891768],\n",
       "       [-0.09768425, -0.09234037, -0.10505378, ..., -0.00229022,\n",
       "        -0.0182545 ,  0.107095  ],\n",
       "       ...,\n",
       "       [        nan,         nan,         nan, ...,         nan,\n",
       "                nan,         nan],\n",
       "       [-0.07920763, -0.0999092 , -0.09874845, ...,  0.08379408,\n",
       "         0.00828315, -0.01799495],\n",
       "       [        nan,         nan,         nan, ...,         nan,\n",
       "                nan,         nan]], dtype=float32)"
      ]
     },
     "execution_count": 9,
     "metadata": {},
     "output_type": "execute_result"
    }
   ],
   "source": [
    "#len(cell_geneemb[:, 0, :])\n",
    "print(cell_geneemb[:, :, 0].shape)\n",
    "cell_geneemb[:, :, 0]"
   ]
  },
  {
   "cell_type": "code",
   "execution_count": 10,
   "id": "b1fe7608",
   "metadata": {},
   "outputs": [
    {
     "name": "stdout",
     "output_type": "stream",
     "text": [
      "[[        nan         nan         nan ...         nan         nan\n",
      "          nan]\n",
      " [-0.06927847 -0.02906548 -0.21409869 ...  0.00332182  0.03509479\n",
      "   0.12891768]\n",
      " [-0.09768425 -0.09234037 -0.10505378 ... -0.00229022 -0.0182545\n",
      "   0.107095  ]\n",
      " ...\n",
      " [        nan         nan         nan ...         nan         nan\n",
      "          nan]\n",
      " [-0.07920763 -0.0999092  -0.09874845 ...  0.08379408  0.00828315\n",
      "  -0.01799495]\n",
      " [        nan         nan         nan ...         nan         nan\n",
      "          nan]]\n",
      "(516, 19264)\n"
     ]
    }
   ],
   "source": [
    "# get variable genes and merge with embedding\n",
    "\n",
    "# Get boolean mask of highly variable genes\n",
    "# hvg_mask = adata.var['highly_variable']\n",
    "\n",
    "# # Get indices where genes are highly variable\n",
    "# hvg_indices = np.where(hvg_mask)[0]\n",
    "\n",
    "# Now you can use these indices with your gene embeddings\n",
    "#geneemb_merge = cell_geneemb[:, hvg_indices, :].mean(0)\n",
    "geneemb_merge = cell_geneemb[:, :, 0]\n",
    "#geneemb_merge = cell_geneemb[:,selected_gene,:].mean(0)\n",
    "#geneemb_merge.shape\n",
    "print(geneemb_merge)\n",
    "print(geneemb_merge.shape)\n",
    "# geneemb_merge_t = np.transpose(geneemb_merge)\n",
    "# valid_cells = ~np.isnan(geneemb_merge_t).any(axis=1)\n",
    "# valid_genes = ~np.isnan(geneemb_merge_t).any(axis=0)\n",
    "# print(valid_cells)\n",
    "# print(valid_genes)"
   ]
  },
  {
   "cell_type": "code",
   "execution_count": 11,
   "id": "a95dea3c-887b-4a27-8891-d5eee9b4e36f",
   "metadata": {},
   "outputs": [
    {
     "name": "stdout",
     "output_type": "stream",
     "text": [
      "Number of genes in AnnData: 19264\n",
      "Number of genes in embeddings: 19264\n"
     ]
    }
   ],
   "source": [
    "\n",
    "# check that anndata and gene embddings line up\n",
    "anndata_genes = adata.var_names.tolist()\n",
    "# Check dimensions\n",
    "print(f\"Number of genes in AnnData: {len(anndata_genes)}\")\n",
    "print(f\"Number of genes in embeddings: {cell_geneemb.shape[1]}\")\n"
   ]
  },
  {
   "cell_type": "code",
   "execution_count": 12,
   "id": "5ba3c4c3",
   "metadata": {},
   "outputs": [
    {
     "name": "stdout",
     "output_type": "stream",
     "text": [
      "19264 19264\n",
      "['A1CF' 'A2ML1' 'AAAS' ... 'ZSWIM9' 'ZW10' 'ZWILCH'] 3125\n"
     ]
    }
   ],
   "source": [
    "print(len(anndata_genes), len(gene_list))\n",
    "hvg_genes=np.array(anndata_genes)[hvg_indices]\n",
    "print(hvg_genes, len(hvg_genes))"
   ]
  },
  {
   "cell_type": "code",
   "execution_count": 13,
   "id": "1bc4c76a",
   "metadata": {},
   "outputs": [
    {
     "name": "stdout",
     "output_type": "stream",
     "text": [
      "         A1BG      A1CF       A2M     A2ML1   A3GALT2    A4GALT     A4GNT  \\\n",
      "0         NaN       NaN       NaN       NaN       NaN       NaN       NaN   \n",
      "1   -0.069278 -0.029065 -0.214099 -0.005372 -0.058932 -0.047527  0.005206   \n",
      "2   -0.097684 -0.092340 -0.105054  0.004172 -0.051394 -0.063024  0.030592   \n",
      "3         NaN       NaN       NaN       NaN       NaN       NaN       NaN   \n",
      "4   -0.068726 -0.077428 -0.128097 -0.003263 -0.049141 -0.063823  0.015812   \n",
      "..        ...       ...       ...       ...       ...       ...       ...   \n",
      "511 -0.071202 -0.100276 -0.098706  0.015107 -0.042486 -0.065167  0.045055   \n",
      "512 -0.078018 -0.108053 -0.110498  0.009195 -0.054351 -0.064812  0.036263   \n",
      "513       NaN       NaN       NaN       NaN       NaN       NaN       NaN   \n",
      "514 -0.079208 -0.099909 -0.098748  0.013776 -0.044926 -0.094632  0.038794   \n",
      "515       NaN       NaN       NaN       NaN       NaN       NaN       NaN   \n",
      "\n",
      "         AAAS      AACS     AADAC  ...    ZWILCH     ZWINT      ZXDA  \\\n",
      "0         NaN       NaN       NaN  ...       NaN       NaN       NaN   \n",
      "1   -0.114743  0.122950 -0.057442  ... -0.011435 -0.086031 -0.040427   \n",
      "2   -0.100836 -0.054240 -0.009563  ... -0.031564 -0.093144 -0.059322   \n",
      "3         NaN       NaN       NaN  ...       NaN       NaN       NaN   \n",
      "4   -0.105324 -0.088393 -0.028572  ... -0.021220 -0.083768 -0.044176   \n",
      "..        ...       ...       ...  ...       ...       ...       ...   \n",
      "511 -0.084346 -0.050935 -0.005066  ... -0.032924 -0.100664 -0.058605   \n",
      "512 -0.090761 -0.047182 -0.006933  ... -0.038622 -0.093051 -0.064728   \n",
      "513       NaN       NaN       NaN  ...       NaN       NaN       NaN   \n",
      "514  0.010288 -0.066402 -0.022676  ... -0.032756 -0.109414 -0.066114   \n",
      "515       NaN       NaN       NaN  ...       NaN       NaN       NaN   \n",
      "\n",
      "         ZXDB      ZXDC    ZYG11A    ZYG11B       ZYX     ZZEF1      ZZZ3  \n",
      "0         NaN       NaN       NaN       NaN       NaN       NaN       NaN  \n",
      "1   -0.010402  0.095771 -0.003656 -0.008362  0.003322  0.035095  0.128918  \n",
      "2    0.012956 -0.031870 -0.037865 -0.192290 -0.002290 -0.018254  0.107095  \n",
      "3         NaN       NaN       NaN       NaN       NaN       NaN       NaN  \n",
      "4    0.005488 -0.034394 -0.016913 -0.084677  0.008529  0.009669  0.101773  \n",
      "..        ...       ...       ...       ...       ...       ...       ...  \n",
      "511  0.027446 -0.043664 -0.054710 -0.109590  0.001844  0.001023  0.007768  \n",
      "512  0.008959 -0.050374 -0.043231 -0.070168 -0.008368 -0.019596  0.043990  \n",
      "513       NaN       NaN       NaN       NaN       NaN       NaN       NaN  \n",
      "514  0.016066 -0.013932 -0.058854 -0.032683  0.083794  0.008283 -0.017995  \n",
      "515       NaN       NaN       NaN       NaN       NaN       NaN       NaN  \n",
      "\n",
      "[516 rows x 19264 columns]\n",
      "         A1CF     A2ML1      AAAS      AARD      AASS    ABCA13     ABCA5  \\\n",
      "0         NaN       NaN       NaN       NaN       NaN       NaN       NaN   \n",
      "1   -0.029065 -0.005372 -0.114743 -0.112098 -0.169690 -0.084562 -0.346212   \n",
      "2   -0.092340  0.004172 -0.100836 -0.128004 -0.117614 -0.043266 -0.249092   \n",
      "3         NaN       NaN       NaN       NaN       NaN       NaN       NaN   \n",
      "4   -0.077428 -0.003263 -0.105324 -0.128132 -0.132012 -0.064145 -0.305729   \n",
      "..        ...       ...       ...       ...       ...       ...       ...   \n",
      "511 -0.100276  0.015107 -0.084346 -0.148606 -0.159394 -0.107632 -0.367042   \n",
      "512 -0.108053  0.009195 -0.090761 -0.159595 -0.138632 -0.034819 -0.310519   \n",
      "513       NaN       NaN       NaN       NaN       NaN       NaN       NaN   \n",
      "514 -0.099909  0.013776  0.010288 -0.203303 -0.152641 -0.040009 -0.364620   \n",
      "515       NaN       NaN       NaN       NaN       NaN       NaN       NaN   \n",
      "\n",
      "        ABCA9     ABCB8     ABCB9  ...    ZSCAN2   ZSCAN20   ZSCAN25  \\\n",
      "0         NaN       NaN       NaN  ...       NaN       NaN       NaN   \n",
      "1   -0.140627 -0.157289 -0.030398  ... -0.004298 -0.064888 -0.078708   \n",
      "2   -0.148551 -0.075033  0.013764  ... -0.029348 -0.047648 -0.068024   \n",
      "3         NaN       NaN       NaN  ...       NaN       NaN       NaN   \n",
      "4   -0.120727 -0.105219 -0.009937  ... -0.024160 -0.055399 -0.071109   \n",
      "..        ...       ...       ...  ...       ...       ...       ...   \n",
      "511 -0.201095 -0.067404  0.043179  ... -0.029400 -0.044339 -0.058901   \n",
      "512 -0.222583 -0.067770  0.033839  ... -0.042728 -0.050537 -0.059805   \n",
      "513       NaN       NaN       NaN  ...       NaN       NaN       NaN   \n",
      "514 -0.187561 -0.073860  0.027728  ... -0.028468 -0.047219 -0.066916   \n",
      "515       NaN       NaN       NaN  ...       NaN       NaN       NaN   \n",
      "\n",
      "      ZSCAN26    ZSCAN9    ZSWIM7    ZSWIM8    ZSWIM9      ZW10    ZWILCH  \n",
      "0         NaN       NaN       NaN       NaN       NaN       NaN       NaN  \n",
      "1   -0.067953 -0.162540 -0.022041 -0.065015 -0.150419 -0.069469 -0.011435  \n",
      "2   -0.071134 -0.102639 -0.053252 -0.076956 -0.110792 -0.072212 -0.031564  \n",
      "3         NaN       NaN       NaN       NaN       NaN       NaN       NaN  \n",
      "4   -0.071301 -0.151710 -0.043096 -0.073474 -0.137636 -0.077365 -0.021220  \n",
      "..        ...       ...       ...       ...       ...       ...       ...  \n",
      "511 -0.058028 -0.103669 -0.027957 -0.079956 -0.105123 -0.074706 -0.032924  \n",
      "512 -0.075252 -0.092281 -0.047145 -0.085814 -0.104312 -0.074210 -0.038622  \n",
      "513       NaN       NaN       NaN       NaN       NaN       NaN       NaN  \n",
      "514 -0.062389 -0.102668 -0.038244 -0.069530 -0.112174 -0.076380 -0.032756  \n",
      "515       NaN       NaN       NaN       NaN       NaN       NaN       NaN  \n",
      "\n",
      "[516 rows x 3125 columns]\n"
     ]
    }
   ],
   "source": [
    "gene_df = pd.DataFrame(geneemb_merge,columns=anndata_genes)\n",
    "print(gene_df)\n",
    "gene_df_hvg =gene_df[hvg_genes]\n",
    "print(gene_df_hvg)"
   ]
  },
  {
   "cell_type": "code",
   "execution_count": 14,
   "id": "9be44e3b-5320-4720-8ac1-d92f1f03a827",
   "metadata": {},
   "outputs": [
    {
     "name": "stdout",
     "output_type": "stream",
     "text": [
      "AnnData object with n_obs × n_vars = 516 × 19264\n",
      "AnnData object with n_obs × n_vars = 516 × 3125\n"
     ]
    },
    {
     "name": "stderr",
     "output_type": "stream",
     "text": [
      "/w5home/bmoore/miniconda3/envs/scfound2/lib/python3.12/site-packages/anndata/_core/aligned_df.py:67: ImplicitModificationWarning: Transforming to str index.\n",
      "  warnings.warn(\"Transforming to str index.\", ImplicitModificationWarning)\n",
      "/w5home/bmoore/miniconda3/envs/scfound2/lib/python3.12/site-packages/anndata/_core/aligned_df.py:67: ImplicitModificationWarning: Transforming to str index.\n",
      "  warnings.warn(\"Transforming to str index.\", ImplicitModificationWarning)\n"
     ]
    }
   ],
   "source": [
    "# add gene names into merged embeddings\n",
    "gene_adata=sc.AnnData(gene_df)\n",
    "print(gene_adata)\n",
    "gene_adata_hvg=sc.AnnData(gene_df_hvg)\n",
    "print(gene_adata_hvg)"
   ]
  },
  {
   "cell_type": "code",
   "execution_count": 15,
   "id": "79c72f22",
   "metadata": {},
   "outputs": [
    {
     "name": "stdout",
     "output_type": "stream",
     "text": [
      "(516, 3125)\n",
      "(516, 3125)\n"
     ]
    }
   ],
   "source": [
    "print(gene_adata_hvg.X.shape)\n",
    "print(gene_adata_hvg.shape)"
   ]
  },
  {
   "cell_type": "code",
   "execution_count": 16,
   "id": "591b37af",
   "metadata": {},
   "outputs": [
    {
     "name": "stdout",
     "output_type": "stream",
     "text": [
      "[False False False ... False False False]\n",
      "[False  True  True False  True  True  True False False False  True False\n",
      "  True  True False  True False  True  True  True  True  True  True  True\n",
      " False  True  True False  True  True False  True False  True  True False\n",
      "  True  True  True  True  True  True  True False  True  True False  True\n",
      " False False  True  True  True False  True  True False  True  True  True\n",
      "  True False  True  True  True False  True False False False  True False\n",
      "  True  True False False  True  True  True  True False False  True  True\n",
      " False False False False  True  True  True  True False  True  True  True\n",
      " False  True False False False False  True False False  True  True  True\n",
      " False False  True  True  True  True  True False  True  True False  True\n",
      " False False  True  True False False  True False  True  True  True False\n",
      " False False  True  True  True  True False  True  True  True  True  True\n",
      "  True False  True False  True  True  True  True  True  True False  True\n",
      " False  True  True False False False  True  True  True False False  True\n",
      "  True  True False  True False  True  True  True False False False False\n",
      "  True  True  True  True  True  True  True  True False  True  True  True\n",
      "  True  True  True  True False  True  True False  True  True False  True\n",
      "  True False  True  True  True  True  True  True  True False  True False\n",
      "  True  True False  True  True  True  True False  True  True  True False\n",
      "  True  True False  True False False  True False  True False  True False\n",
      "  True  True  True  True  True False False False  True  True  True  True\n",
      "  True  True False  True False False  True False  True  True  True False\n",
      " False False False  True False  True  True False  True False  True  True\n",
      "  True  True  True  True  True False  True False  True  True False  True\n",
      " False  True  True False  True False  True  True False  True  True  True\n",
      "  True  True  True False False  True False False  True  True  True False\n",
      "  True  True False  True False  True  True False False  True  True  True\n",
      "  True  True False False  True False  True  True  True False False  True\n",
      "  True  True  True False False  True  True False False False False False\n",
      "  True  True  True  True False  True  True  True False  True False False\n",
      " False False False  True  True  True  True  True  True  True  True  True\n",
      "  True  True  True False  True  True False  True False False  True  True\n",
      "  True False  True False  True  True  True False False False  True False\n",
      "  True  True False  True False  True  True  True  True False  True  True\n",
      "  True  True  True  True  True  True False  True  True False False  True\n",
      "  True  True  True False False  True  True  True  True False  True False\n",
      "  True  True  True False False False False  True  True  True  True  True\n",
      "  True  True  True False  True  True  True  True  True  True  True  True\n",
      "  True  True  True  True  True  True  True  True False  True  True  True\n",
      "  True  True  True  True False  True False  True  True False  True  True\n",
      "  True  True False  True  True  True  True  True  True False  True False\n",
      "  True  True  True  True False False  True  True  True  True  True  True\n",
      " False False False  True  True  True  True  True  True False  True False]\n"
     ]
    },
    {
     "data": {
      "text/plain": [
       "View of AnnData object with n_obs × n_vars = 343 × 3125"
      ]
     },
     "execution_count": 16,
     "metadata": {},
     "output_type": "execute_result"
    }
   ],
   "source": [
    "valid_genes = ~np.isnan(gene_adata_hvg.X).any(axis=0)\n",
    "print(valid_genes)\n",
    "# gene_adata_hvg = gene_adata_hvg[:, valid_genes]\n",
    "# gene_adata_hvg\n",
    "valid_cells = ~np.isnan(gene_adata_hvg.X).any(axis=1)\n",
    "print(valid_cells)\n",
    "gene_adata_hvg= gene_adata_hvg[valid_cells, :]\n",
    "gene_adata_hvg\n"
   ]
  },
  {
   "cell_type": "code",
   "execution_count": 17,
   "id": "6e320334",
   "metadata": {},
   "outputs": [
    {
     "data": {
      "text/plain": [
       "Index(['1', '2', '4', '5', '6', '10', '12', '13', '15', '17',\n",
       "       ...\n",
       "       '501', '502', '503', '507', '508', '509', '510', '511', '512', '514'],\n",
       "      dtype='object', length=343)"
      ]
     },
     "execution_count": 17,
     "metadata": {},
     "output_type": "execute_result"
    }
   ],
   "source": [
    "gene_adata_hvg.var_names\n",
    "gene_adata_hvg.obs_names"
   ]
  },
  {
   "cell_type": "code",
   "execution_count": 56,
   "id": "b913fb9c-bdbe-4862-a9af-32da1c887e07",
   "metadata": {},
   "outputs": [],
   "source": [
    "sc.pp.neighbors(gene_adata_hvg,use_rep='X')\n",
    "sc.tl.umap(gene_adata_hvg)\n",
    "sc.tl.leiden(gene_adata_hvg,resolution=2.5)"
   ]
  },
  {
   "cell_type": "code",
   "execution_count": 57,
   "id": "3fefbca9-874c-407e-ba14-15eb37ea32be",
   "metadata": {},
   "outputs": [
    {
     "data": {
      "image/png": "[encoded data removed]",
      "text/plain": [
       "<Figure size 640x480 with 1 Axes>"
      ]
     },
     "metadata": {},
     "output_type": "display_data"
    }
   ],
   "source": [
    "sc.pl.umap(gene_adata_hvg,color='leiden')"
   ]
  },
  {
   "cell_type": "code",
   "execution_count": 81,
   "id": "8c4180c7-5ad7-4d19-a9f5-e6f59209a715",
   "metadata": {},
   "outputs": [],
   "source": [
    "# The function is modified from https://github.com/bowang-lab/scGPT\n",
    "import collections\n",
    "def get_metagenes(gdata):\n",
    "    metagenes = collections.defaultdict(list)\n",
    "    for x, y in zip(gdata.obs[\"leiden\"], gdata.var.index):\n",
    "        metagenes[x].append(y)\n",
    "    return metagenes\n",
    "\n",
    "metagenes = get_metagenes(gene_adata_hvg)\n",
    "\n",
    "# Obtain the set of gene programs from clusters with #genes >= 5\n",
    "mgs = dict()\n",
    "for mg, genes in metagenes.items():\n",
    "    if len(genes) > 4:\n",
    "        mgs[mg] = genes"
   ]
  },
  {
   "cell_type": "code",
   "execution_count": 82,
   "id": "84c7f826",
   "metadata": {},
   "outputs": [
    {
     "data": {
      "text/plain": [
       "{'12': ['A1CF',\n",
       "  'ABCA5',\n",
       "  'ACAD9',\n",
       "  'ADCY3',\n",
       "  'AMH',\n",
       "  'ARHGAP27',\n",
       "  'ARHGAP8',\n",
       "  'ARSA',\n",
       "  'ATG16L2',\n",
       "  'B4GALT2',\n",
       "  'BCDIN3D',\n",
       "  'BRCA2'],\n",
       " '20': ['A2ML1', 'AASS', 'ALG3', 'ANKRD2', 'BLVRB', 'C2orf73'],\n",
       " '5': ['AAAS',\n",
       "  'ABCC2',\n",
       "  'ABCG5',\n",
       "  'ABITRAM',\n",
       "  'ADAM19',\n",
       "  'AGTRAP',\n",
       "  'AK8',\n",
       "  'AKT2',\n",
       "  'APOBEC3H',\n",
       "  'ARHGAP29',\n",
       "  'ARHGEF26',\n",
       "  'ARHGEF5',\n",
       "  'ARMC5',\n",
       "  'ATOH8',\n",
       "  'BCAT1',\n",
       "  'BCO1',\n",
       "  'BEX5',\n",
       "  'BTBD19',\n",
       "  'C3orf84'],\n",
       " '13': ['AARD',\n",
       "  'ADGRL3',\n",
       "  'AFF2',\n",
       "  'ALDH4A1',\n",
       "  'ANO4',\n",
       "  'ARHGAP36',\n",
       "  'BAMBI',\n",
       "  'BICRA',\n",
       "  'C18orf54'],\n",
       " '19': ['ABCA13', 'ADGRA2', 'AP5Z1', 'ARHGAP44', 'BACE2', 'C20orf204'],\n",
       " '8': ['ABCA9',\n",
       "  'ABCC3',\n",
       "  'ADAMTS10',\n",
       "  'ADGRF5',\n",
       "  'AGT',\n",
       "  'AMIGO2',\n",
       "  'ANAPC4',\n",
       "  'ANKRD37',\n",
       "  'ARHGEF1',\n",
       "  'ARHGEF28',\n",
       "  'ATP13A1',\n",
       "  'BAHD1',\n",
       "  'BCAS4',\n",
       "  'BRINP2',\n",
       "  'C11orf80'],\n",
       " '2': ['ABCB8',\n",
       "  'ABCD2',\n",
       "  'ABHD5',\n",
       "  'ACAD10',\n",
       "  'ACADS',\n",
       "  'ADAMTS15',\n",
       "  'ADCY9',\n",
       "  'ADGRL1',\n",
       "  'AIF1L',\n",
       "  'AIRE',\n",
       "  'AKAP1',\n",
       "  'ALCAM',\n",
       "  'AMOT',\n",
       "  'AMZ2',\n",
       "  'ANKRD45',\n",
       "  'ARHGEF17',\n",
       "  'ARHGEF19',\n",
       "  'ARL4D',\n",
       "  'ARMCX4',\n",
       "  'AS3MT',\n",
       "  'ATP2B2',\n",
       "  'ATP8B4',\n",
       "  'ATXN7L3',\n",
       "  'B4GALT5',\n",
       "  'BAIAP2L1',\n",
       "  'BCL2L11',\n",
       "  'BCL6',\n",
       "  'BICDL2',\n",
       "  'BRD3OS',\n",
       "  'BRD8',\n",
       "  'C11orf87'],\n",
       " '0': ['ABCB9',\n",
       "  'ABHD4',\n",
       "  'ACHE',\n",
       "  'ACP2',\n",
       "  'ACSM5',\n",
       "  'ACTR8',\n",
       "  'ADAP2',\n",
       "  'AGBL2',\n",
       "  'AGPAT4',\n",
       "  'AKAP10',\n",
       "  'AKAP14',\n",
       "  'ALKBH3',\n",
       "  'ALX3',\n",
       "  'ANKRD6',\n",
       "  'ANO1',\n",
       "  'ANXA11',\n",
       "  'ANXA13',\n",
       "  'ANXA4',\n",
       "  'APOBEC2',\n",
       "  'ARFGAP3',\n",
       "  'ARID5B',\n",
       "  'ASF1A',\n",
       "  'ASNSD1',\n",
       "  'ATG12',\n",
       "  'ATG4D',\n",
       "  'BCAR1',\n",
       "  'BEGAIN',\n",
       "  'BET1',\n",
       "  'BMP6',\n",
       "  'BPNT1',\n",
       "  'C15orf40',\n",
       "  'C17orf58',\n",
       "  'C19orf81',\n",
       "  'C19orf85',\n",
       "  'C2orf68',\n",
       "  'C4orf3'],\n",
       " '1': ['ABCC10',\n",
       "  'ABHD15',\n",
       "  'ABHD8',\n",
       "  'ACVR2B',\n",
       "  'ADAM23',\n",
       "  'ADAMTS7',\n",
       "  'ADAT1',\n",
       "  'ALOX15B',\n",
       "  'ALOX5AP',\n",
       "  'ANAPC5',\n",
       "  'ANKRD34B',\n",
       "  'APC2',\n",
       "  'ARAP1',\n",
       "  'ARHGAP28',\n",
       "  'ARHGEF2',\n",
       "  'ARHGEF39',\n",
       "  'ARHGEF9',\n",
       "  'ARVCF',\n",
       "  'ATG10',\n",
       "  'ATIC',\n",
       "  'ATP11C',\n",
       "  'ATP6V1C1',\n",
       "  'AXL',\n",
       "  'B3GNTL1',\n",
       "  'BAIAP3',\n",
       "  'BLM',\n",
       "  'BOLA2B',\n",
       "  'BPIFB3',\n",
       "  'BRIP1',\n",
       "  'BYSL',\n",
       "  'C2orf66',\n",
       "  'C4orf19'],\n",
       " '4': ['ABCC6',\n",
       "  'ADAMTS20',\n",
       "  'ADCK1',\n",
       "  'ADGRD2',\n",
       "  'AFAP1',\n",
       "  'AGA',\n",
       "  'AKT1S1',\n",
       "  'ALG2',\n",
       "  'ANKRD49',\n",
       "  'APEX1',\n",
       "  'APH1B',\n",
       "  'ARID5A',\n",
       "  'ATP6V0C',\n",
       "  'B3GALT2',\n",
       "  'BAD',\n",
       "  'BBOF1',\n",
       "  'BBS12',\n",
       "  'BEND6',\n",
       "  'BEST3',\n",
       "  'BLMH',\n",
       "  'BTN2A2',\n",
       "  'C11orf24',\n",
       "  'C12orf43',\n",
       "  'C2orf72',\n",
       "  'C2orf74',\n",
       "  'C3orf14'],\n",
       " '3': ['ABCC9',\n",
       "  'ACAD11',\n",
       "  'ACSF3',\n",
       "  'ADARB2',\n",
       "  'ADHFE1',\n",
       "  'AFMID',\n",
       "  'AGBL1',\n",
       "  'ALOX5',\n",
       "  'AOPEP',\n",
       "  'APTX',\n",
       "  'ARHGAP15',\n",
       "  'ARHGAP19',\n",
       "  'ARHGAP21',\n",
       "  'ARHGAP22',\n",
       "  'ARHGEF38',\n",
       "  'ARRDC4',\n",
       "  'ASXL3',\n",
       "  'ATL1',\n",
       "  'AURKB',\n",
       "  'B3GAT1',\n",
       "  'BATF3',\n",
       "  'BBS10',\n",
       "  'BBS2',\n",
       "  'BORCS7',\n",
       "  'C1S',\n",
       "  'C4B',\n",
       "  'C4orf36',\n",
       "  'C4orf47',\n",
       "  'C4orf50',\n",
       "  'C5orf63'],\n",
       " '9': ['ABCD1',\n",
       "  'ACAP1',\n",
       "  'ACOT12',\n",
       "  'ADCY6',\n",
       "  'ALG12',\n",
       "  'ALKBH8',\n",
       "  'ANGPT1',\n",
       "  'ARHGEF33',\n",
       "  'ASIC1',\n",
       "  'B4GALT3',\n",
       "  'BMP7',\n",
       "  'BSCL2',\n",
       "  'BTBD3',\n",
       "  'C19orf47',\n",
       "  'C19orf84'],\n",
       " '18': ['ABTB1', 'ADAM12', 'ADCY8', 'APBA2', 'B4GALT4', 'C21orf62'],\n",
       " '11': ['ACAA2',\n",
       "  'ACOT9',\n",
       "  'ACP6',\n",
       "  'ACSM3',\n",
       "  'AGBL5',\n",
       "  'ALG8',\n",
       "  'ARMC12',\n",
       "  'ARMCX2',\n",
       "  'ARSK',\n",
       "  'ASIC5',\n",
       "  'ATAD5',\n",
       "  'BCAN',\n",
       "  'BMP2',\n",
       "  'C1orf87'],\n",
       " '17': ['ACADL', 'ACOX2', 'ADAMTSL1', 'ARSD', 'ASNS', 'ATP6V1G3'],\n",
       " '6': ['ACAP3',\n",
       "  'ACSL5',\n",
       "  'ACTR5',\n",
       "  'ADGRL4',\n",
       "  'AIDA',\n",
       "  'AMER1',\n",
       "  'ANKAR',\n",
       "  'ANKRD50',\n",
       "  'ANOS1',\n",
       "  'APEX2',\n",
       "  'ASB4',\n",
       "  'ATAD3A',\n",
       "  'BAP1',\n",
       "  'BCL11A',\n",
       "  'BRCA1',\n",
       "  'C10orf105',\n",
       "  'C12orf56'],\n",
       " '7': ['ACP4',\n",
       "  'ADAMTSL3',\n",
       "  'ADAP1',\n",
       "  'ADCY10',\n",
       "  'ALKBH2',\n",
       "  'ANG',\n",
       "  'AP3D1',\n",
       "  'ASTE1',\n",
       "  'ATP8B2',\n",
       "  'ATP8B3',\n",
       "  'B4GALNT4',\n",
       "  'BMP5',\n",
       "  'BST2',\n",
       "  'C1orf105',\n",
       "  'C22orf39'],\n",
       " '16': ['ACRBP',\n",
       "  'ANGEL1',\n",
       "  'ANGPTL2',\n",
       "  'ANPEP',\n",
       "  'ASTN1',\n",
       "  'BTBD1',\n",
       "  'BTG1',\n",
       "  'C19orf54'],\n",
       " '14': ['ACSL4', 'ADAM22', 'AGXT2', 'AP5M1', 'ATAD2', 'ATP10D', 'BCAT2', 'C2'],\n",
       " '15': ['ADAM15',\n",
       "  'ALDH1L2',\n",
       "  'ALG5',\n",
       "  'APOBEC3F',\n",
       "  'ATL3',\n",
       "  'BGLAP',\n",
       "  'BMF',\n",
       "  'C3orf49'],\n",
       " '10': ['ADAMTS14',\n",
       "  'ADPRH',\n",
       "  'AK5',\n",
       "  'ALPL',\n",
       "  'ANKS6',\n",
       "  'ARG1',\n",
       "  'ATP2A3',\n",
       "  'BAZ1A',\n",
       "  'BCL7A',\n",
       "  'BET1L',\n",
       "  'BPIFC',\n",
       "  'C11orf71',\n",
       "  'C16orf95',\n",
       "  'C4orf33']}"
      ]
     },
     "execution_count": 82,
     "metadata": {},
     "output_type": "execute_result"
    }
   ],
   "source": [
    "mgs\n",
    "#gene_adata_hvg.obs[\"leiden\"]\n",
    "#gene_adata_hvg.var.index"
   ]
  },
  {
   "cell_type": "code",
   "execution_count": 60,
   "id": "7887505f-2f39-4662-84f7-da70a8abf7cc",
   "metadata": {},
   "outputs": [],
   "source": [
    "import pickle\n",
    "with open ('mgs.pkl','wb') as f:\n",
    "    pickle.dump(mgs,f)"
   ]
  },
  {
   "cell_type": "code",
   "execution_count": 61,
   "id": "9db00f27-ac06-4310-ae3f-389da3bccf8e",
   "metadata": {},
   "outputs": [
    {
     "data": {
      "text/plain": [
       "21"
      ]
     },
     "execution_count": 61,
     "metadata": {},
     "output_type": "execute_result"
    }
   ],
   "source": [
    "len(mgs)"
   ]
  },
  {
   "cell_type": "code",
   "execution_count": 62,
   "id": "f685748f-92db-442b-a9e7-50f7ed972440",
   "metadata": {},
   "outputs": [],
   "source": [
    "# The function is modified from https://github.com/bowang-lab/scGPT\n",
    "\n",
    "from sklearn.metrics.pairwise import cosine_similarity\n",
    "from sklearn.preprocessing import MinMaxScaler\n",
    "from tqdm import tqdm\n",
    "def score_metagenes(adata, metagenes):\n",
    "    for p, genes in tqdm(metagenes.items()):\n",
    "        try:\n",
    "            sc.tl.score_genes(adata, score_name=str(p) + \"_SCORE\", gene_list=genes)\n",
    "            scores = np.array(adata.obs[str(p) + \"_SCORE\"].tolist()).reshape(-1, 1)\n",
    "            scaler = MinMaxScaler()\n",
    "            scores = scaler.fit_transform(scores)\n",
    "            scores = list(scores.reshape(1, -1))[0]\n",
    "            adata.obs[str(p) + \"_SCORE\"] = scores\n",
    "        except Exception as e:\n",
    "            adata.obs[str(p) + \"_SCORE\"] = 0.0"
   ]
  },
  {
   "cell_type": "code",
   "execution_count": 67,
   "id": "330d89ba-31e4-4171-a316-82dea2a2bdaa",
   "metadata": {
    "scrolled": true,
    "tags": []
   },
   "outputs": [
    {
     "name": "stderr",
     "output_type": "stream",
     "text": [
      "  0%|          | 0/21 [00:00<?, ?it/s]"
     ]
    },
    {
     "name": "stdout",
     "output_type": "stream",
     "text": [
      "WARNING: genes are not in var_names and ignored: Index(['A1CF', 'ABCA5', 'ACAD9', 'ADCY3', 'AMH', 'ARHGAP27', 'ARHGAP8', 'ARSA',\n",
      "       'ATG16L2', 'B4GALT2', 'BCDIN3D', 'BRCA2'],\n",
      "      dtype='object')\n",
      "WARNING: genes are not in var_names and ignored: Index(['A2ML1', 'AASS', 'ALG3', 'ANKRD2', 'BLVRB', 'C2orf73'], dtype='object')\n",
      "WARNING: genes are not in var_names and ignored: Index(['AAAS', 'ABCC2', 'ABCG5', 'ABITRAM', 'ADAM19', 'AGTRAP', 'AK8', 'AKT2',\n",
      "       'APOBEC3H', 'ARHGAP29', 'ARHGEF26', 'ARHGEF5', 'ARMC5', 'ATOH8',\n",
      "       'BCAT1', 'BCO1', 'BEX5', 'BTBD19', 'C3orf84'],\n",
      "      dtype='object')\n",
      "WARNING: genes are not in var_names and ignored: Index(['AARD', 'ADGRL3', 'AFF2', 'ALDH4A1', 'ANO4', 'ARHGAP36', 'BAMBI',\n",
      "       'BICRA', 'C18orf54'],\n",
      "      dtype='object')\n",
      "WARNING: genes are not in var_names and ignored: Index(['ABCA13', 'ADGRA2', 'AP5Z1', 'ARHGAP44', 'BACE2', 'C20orf204'], dtype='object')\n",
      "WARNING: genes are not in var_names and ignored: Index(['ABCA9', 'ABCC3', 'ADAMTS10', 'ADGRF5', 'AGT', 'AMIGO2', 'ANAPC4',\n",
      "       'ANKRD37', 'ARHGEF1', 'ARHGEF28', 'ATP13A1', 'BAHD1', 'BCAS4', 'BRINP2',\n",
      "       'C11orf80'],\n",
      "      dtype='object')\n",
      "WARNING: genes are not in var_names and ignored: Index(['ABCB8', 'ABCD2', 'ABHD5', 'ACAD10', 'ACADS', 'ADAMTS15', 'ADCY9',\n",
      "       'ADGRL1', 'AIF1L', 'AIRE', 'AKAP1', 'ALCAM', 'AMOT', 'AMZ2', 'ANKRD45',\n",
      "       'ARHGEF17', 'ARHGEF19', 'ARL4D', 'ARMCX4', 'AS3MT', 'ATP2B2', 'ATP8B4',\n",
      "       'ATXN7L3', 'B4GALT5', 'BAIAP2L1', 'BCL2L11', 'BCL6', 'BICDL2', 'BRD3OS',\n",
      "       'BRD8', 'C11orf87'],\n",
      "      dtype='object')\n",
      "WARNING: genes are not in var_names and ignored: Index(['ABCB9', 'ABHD4', 'ACHE', 'ACP2', 'ACSM5', 'ACTR8', 'ADAP2', 'AGBL2',\n",
      "       'AGPAT4', 'AKAP10', 'AKAP14', 'ALKBH3', 'ALX3', 'ANKRD6', 'ANO1',\n",
      "       'ANXA11', 'ANXA13', 'ANXA4', 'APOBEC2', 'ARFGAP3', 'ARID5B', 'ASF1A',\n",
      "       'ASNSD1', 'ATG12', 'ATG4D', 'BCAR1', 'BEGAIN', 'BET1', 'BMP6', 'BPNT1',\n",
      "       'C15orf40', 'C17orf58', 'C19orf81', 'C19orf85', 'C2orf68', 'C4orf3'],\n",
      "      dtype='object')\n",
      "WARNING: genes are not in var_names and ignored: Index(['ABCC10', 'ABHD15', 'ABHD8', 'ACVR2B', 'ADAM23', 'ADAMTS7', 'ADAT1',\n",
      "       'ALOX15B', 'ALOX5AP', 'ANAPC5', 'ANKRD34B', 'APC2', 'ARAP1', 'ARHGAP28',\n",
      "       'ARHGEF2', 'ARHGEF39', 'ARHGEF9', 'ARVCF', 'ATG10', 'ATIC', 'ATP11C',\n",
      "       'ATP6V1C1', 'AXL', 'B3GNTL1', 'BAIAP3', 'BLM', 'BOLA2B', 'BPIFB3',\n",
      "       'BRIP1', 'BYSL', 'C2orf66', 'C4orf19'],\n",
      "      dtype='object')\n",
      "WARNING: genes are not in var_names and ignored: Index(['ABCC6', 'ADAMTS20', 'ADCK1', 'ADGRD2', 'AFAP1', 'AGA', 'AKT1S1',\n",
      "       'ALG2', 'ANKRD49', 'APEX1', 'APH1B', 'ARID5A', 'ATP6V0C', 'B3GALT2',\n",
      "       'BAD', 'BBOF1', 'BBS12', 'BEND6', 'BEST3', 'BLMH', 'BTN2A2', 'C11orf24',\n",
      "       'C12orf43', 'C2orf72', 'C2orf74', 'C3orf14'],\n",
      "      dtype='object')\n",
      "WARNING: genes are not in var_names and ignored: Index(['ABCC9', 'ACAD11', 'ACSF3', 'ADARB2', 'ADHFE1', 'AFMID', 'AGBL1',\n",
      "       'ALOX5', 'AOPEP', 'APTX', 'ARHGAP15', 'ARHGAP19', 'ARHGAP21',\n",
      "       'ARHGAP22', 'ARHGEF38', 'ARRDC4', 'ASXL3', 'ATL1', 'AURKB', 'B3GAT1',\n",
      "       'BATF3', 'BBS10', 'BBS2', 'BORCS7', 'C1S', 'C4B', 'C4orf36', 'C4orf47',\n",
      "       'C4orf50', 'C5orf63'],\n",
      "      dtype='object')\n",
      "WARNING: genes are not in var_names and ignored: Index(['ABCD1', 'ACAP1', 'ACOT12', 'ADCY6', 'ALG12', 'ALKBH8', 'ANGPT1',\n",
      "       'ARHGEF33', 'ASIC1', 'B4GALT3', 'BMP7', 'BSCL2', 'BTBD3', 'C19orf47',\n",
      "       'C19orf84'],\n",
      "      dtype='object')\n",
      "WARNING: genes are not in var_names and ignored: Index(['ABTB1', 'ADAM12', 'ADCY8', 'APBA2', 'B4GALT4', 'C21orf62'], dtype='object')\n",
      "WARNING: genes are not in var_names and ignored: Index(['ACAA2', 'ACOT9', 'ACP6', 'ACSM3', 'AGBL5', 'ALG8', 'ARMC12', 'ARMCX2',\n",
      "       'ARSK', 'ASIC5', 'ATAD5', 'BCAN', 'BMP2', 'C1orf87'],\n",
      "      dtype='object')\n",
      "WARNING: genes are not in var_names and ignored: Index(['ACADL', 'ACOX2', 'ADAMTSL1', 'ARSD', 'ASNS', 'ATP6V1G3'], dtype='object')\n",
      "WARNING: genes are not in var_names and ignored: Index(['ACAP3', 'ACSL5', 'ACTR5', 'ADGRL4', 'AIDA', 'AMER1', 'ANKAR',\n",
      "       'ANKRD50', 'ANOS1', 'APEX2', 'ASB4', 'ATAD3A', 'BAP1', 'BCL11A',\n",
      "       'BRCA1', 'C10orf105', 'C12orf56'],\n",
      "      dtype='object')\n",
      "WARNING: genes are not in var_names and ignored: Index(['ACP4', 'ADAMTSL3', 'ADAP1', 'ADCY10', 'ALKBH2', 'ANG', 'AP3D1',\n",
      "       'ASTE1', 'ATP8B2', 'ATP8B3', 'B4GALNT4', 'BMP5', 'BST2', 'C1orf105',\n",
      "       'C22orf39'],\n",
      "      dtype='object')\n",
      "WARNING: genes are not in var_names and ignored: Index(['ACRBP', 'ANGEL1', 'ANGPTL2', 'ANPEP', 'ASTN1', 'BTBD1', 'BTG1',\n",
      "       'C19orf54'],\n",
      "      dtype='object')\n",
      "WARNING: genes are not in var_names and ignored: Index(['ACSL4', 'ADAM22', 'AGXT2', 'AP5M1', 'ATAD2', 'ATP10D', 'BCAT2', 'C2'], dtype='object')\n",
      "WARNING: genes are not in var_names and ignored: Index(['ADAM15', 'ALDH1L2', 'ALG5', 'APOBEC3F', 'ATL3', 'BGLAP', 'BMF',\n",
      "       'C3orf49'],\n",
      "      dtype='object')\n",
      "WARNING: genes are not in var_names and ignored: Index(['ADAMTS14', 'ADPRH', 'AK5', 'ALPL', 'ANKS6', 'ARG1', 'ATP2A3', 'BAZ1A',\n",
      "       'BCL7A', 'BET1L', 'BPIFC', 'C11orf71', 'C16orf95', 'C4orf33'],\n",
      "      dtype='object')\n"
     ]
    },
    {
     "name": "stderr",
     "output_type": "stream",
     "text": [
      "100%|██████████| 21/21 [00:00<00:00, 268.62it/s]\n"
     ]
    }
   ],
   "source": [
    "#adata = sc.read_h5ad('./data/zheng_downsampled_cd8t_b_mono.h5ad')\n",
    "\n",
    "#sc.pp.normalize_total(adata)\n",
    "#sc.pp.log1p(adata)\n",
    "\n",
    "score_metagenes(adata,mgs)"
   ]
  },
  {
   "cell_type": "code",
   "execution_count": 68,
   "id": "41053a59",
   "metadata": {},
   "outputs": [
    {
     "data": {
      "text/plain": [
       "AnnData object with n_obs × n_vars = 516 × 16711\n",
       "    obs: 'orig.ident', 'nCount_RNA', 'nFeature_RNA', 'ident', 'scDblFinder.class', 'scDblFinder.score', 'scDblFinder.weighted', 'scDblFinder.cxds_score', 'percent.mt', 'sizeFactors', 'S.Score', 'G2M.Score', 'Phase', 'old.ident', 'RNA_snn_res.0.5', 'seurat_clusters', 'CellType', 'CellType_manual', '12_SCORE', '20_SCORE', '5_SCORE', '13_SCORE', '19_SCORE', '8_SCORE', '2_SCORE', '0_SCORE', '1_SCORE', '4_SCORE', '3_SCORE', '9_SCORE', '18_SCORE', '11_SCORE', '17_SCORE', '6_SCORE', '7_SCORE', '16_SCORE', '14_SCORE', '15_SCORE', '10_SCORE'\n",
       "    var: 'features', 'old_names'\n",
       "    uns: 'neighbors'\n",
       "    obsm: 'X_harmony', 'X_pca', 'X_umap'\n",
       "    varm: 'HARMONY', 'PCs'\n",
       "    obsp: 'distances'"
      ]
     },
     "execution_count": 68,
     "metadata": {},
     "output_type": "execute_result"
    }
   ],
   "source": [
    "adata"
   ]
  },
  {
   "cell_type": "code",
   "execution_count": 71,
   "id": "edf2d57a",
   "metadata": {},
   "outputs": [
    {
     "data": {
      "text/plain": [
       "['12_SCORE',\n",
       " '20_SCORE',\n",
       " '5_SCORE',\n",
       " '13_SCORE',\n",
       " '19_SCORE',\n",
       " '8_SCORE',\n",
       " '2_SCORE',\n",
       " '0_SCORE',\n",
       " '1_SCORE',\n",
       " '4_SCORE',\n",
       " '3_SCORE',\n",
       " '9_SCORE',\n",
       " '18_SCORE',\n",
       " '11_SCORE',\n",
       " '17_SCORE',\n",
       " '6_SCORE',\n",
       " '7_SCORE',\n",
       " '16_SCORE',\n",
       " '14_SCORE',\n",
       " '15_SCORE',\n",
       " '10_SCORE']"
      ]
     },
     "execution_count": 71,
     "metadata": {},
     "output_type": "execute_result"
    }
   ],
   "source": [
    "genescoreadata\n",
    "scorelist"
   ]
  },
  {
   "cell_type": "code",
   "execution_count": 72,
   "id": "ed4e8afb-8d21-4439-a868-f1c5560c0b69",
   "metadata": {},
   "outputs": [],
   "source": [
    "scorelist = [x for x in adata.obs.columns if x.__contains__('SCORE')]\n",
    "genescoreadata = sc.AnnData(adata.obs[scorelist])\n",
    "genescoreadata.obs = adata.obs.iloc[:,:3].copy()\n",
    "sc.tl.rank_genes_groups(adata,groupby='CellType')"
   ]
  },
  {
   "cell_type": "code",
   "execution_count": 75,
   "id": "dc35dcd4-949f-4392-936c-895412aafa86",
   "metadata": {
    "tags": []
   },
   "outputs": [
    {
     "name": "stdout",
     "output_type": "stream",
     "text": [
      "WARNING: Dendrogram not added. Dendrogram is added only when the number of categories to plot > 2\n",
      "WARNING: saving figure to file figures/matrixplot_celltype_module.pdf\n"
     ]
    },
    {
     "data": {
      "image/png": "[encoded data removed]",
      "text/plain": [
       "<Figure size 335x250 with 4 Axes>"
      ]
     },
     "metadata": {},
     "output_type": "display_data"
    }
   ],
   "source": [
    "mpl.rcParams['pdf.fonttype'] = 42\n",
    "mpl.rcParams['ps.fonttype'] = 42\n",
    "sc.pl.rank_genes_groups_matrixplot(adata, n_genes=5, standard_scale='var', cmap='Blues',save='celltype_module')"
   ]
  },
  {
   "cell_type": "code",
   "execution_count": 83,
   "id": "f4732982-15b2-4fc7-9b49-7cd39c0a05fa",
   "metadata": {},
   "outputs": [
    {
     "name": "stdout",
     "output_type": "stream",
     "text": [
      "['A1CF', 'ABCA5', 'ACAD9', 'ADCY3', 'AMH', 'ARHGAP27', 'ARHGAP8', 'ARSA', 'ATG16L2', 'B4GALT2', 'BCDIN3D', 'BRCA2']\n"
     ]
    }
   ],
   "source": [
    "genesub =list(genesub)\n",
    "print(genesub)"
   ]
  },
  {
   "cell_type": "code",
   "execution_count": null,
   "id": "c7897176-a8d6-4457-97ee-6cacbe584336",
   "metadata": {},
   "outputs": [
    {
     "name": "stdout",
     "output_type": "stream",
     "text": [
      "<bound method AnnData.to_df of AnnData object with n_obs × n_vars = 343 × 3125\n",
      "    obs: 'leiden'\n",
      "    uns: 'neighbors', 'umap', 'leiden', 'leiden_colors'\n",
      "    obsm: 'X_umap'\n",
      "    obsp: 'distances', 'connectivities'>\n",
      "         A1CF     A2ML1      AAAS      AARD      AASS    ABCA13     ABCA5  \\\n",
      "1   -0.029065 -0.005372 -0.114743 -0.112098 -0.169690 -0.084562 -0.346212   \n",
      "2   -0.092340  0.004172 -0.100836 -0.128004 -0.117614 -0.043266 -0.249092   \n",
      "4   -0.077428 -0.003263 -0.105324 -0.128132 -0.132012 -0.064145 -0.305729   \n",
      "5   -0.100685  0.000377 -0.083629 -0.096238 -0.146213 -0.038254 -0.323039   \n",
      "6   -0.079831  0.011001 -0.090202 -0.162864 -0.121616 -0.120161 -0.200099   \n",
      "..        ...       ...       ...       ...       ...       ...       ...   \n",
      "509 -0.113288 -0.004302 -0.083514 -0.185191 -0.242597 -0.069888 -0.429932   \n",
      "510 -0.095878  0.014114 -0.084381 -0.168374 -0.019550 -0.080027 -0.317537   \n",
      "511 -0.100276  0.015107 -0.084346 -0.148606 -0.159394 -0.107632 -0.367042   \n",
      "512 -0.108053  0.009195 -0.090761 -0.159595 -0.138632 -0.034819 -0.310519   \n",
      "514 -0.099909  0.013776  0.010288 -0.203303 -0.152641 -0.040009 -0.364620   \n",
      "\n",
      "        ABCA9     ABCB8     ABCB9  ...    ZSCAN2   ZSCAN20   ZSCAN25  \\\n",
      "1   -0.140627 -0.157289 -0.030398  ... -0.004298 -0.064888 -0.078708   \n",
      "2   -0.148551 -0.075033  0.013764  ... -0.029348 -0.047648 -0.068024   \n",
      "4   -0.120727 -0.105219 -0.009937  ... -0.024160 -0.055399 -0.071109   \n",
      "5   -0.163991 -0.051553  0.024906  ... -0.020267 -0.043934 -0.052894   \n",
      "6   -0.140574 -0.056620  0.024415  ... -0.032477 -0.045502 -0.053984   \n",
      "..        ...       ...       ...  ...       ...       ...       ...   \n",
      "509 -0.225823 -0.082435  0.006692  ... -0.030891 -0.056272 -0.073782   \n",
      "510 -0.146657 -0.074151  0.022600  ... -0.036228 -0.052038 -0.103041   \n",
      "511 -0.201095 -0.067404  0.043179  ... -0.029400 -0.044339 -0.058901   \n",
      "512 -0.222583 -0.067770  0.033839  ... -0.042728 -0.050537 -0.059805   \n",
      "514 -0.187561 -0.073860  0.027728  ... -0.028468 -0.047219 -0.066916   \n",
      "\n",
      "      ZSCAN26    ZSCAN9    ZSWIM7    ZSWIM8    ZSWIM9      ZW10    ZWILCH  \n",
      "1   -0.067953 -0.162540 -0.022041 -0.065015 -0.150419 -0.069469 -0.011435  \n",
      "2   -0.071134 -0.102639 -0.053252 -0.076956 -0.110792 -0.072212 -0.031564  \n",
      "4   -0.071301 -0.151710 -0.043096 -0.073474 -0.137636 -0.077365 -0.021220  \n",
      "5   -0.066355 -0.084738 -0.048256 -0.072023 -0.109791 -0.086027 -0.032765  \n",
      "6   -0.061886 -0.191855 -0.054373 -0.082667 -0.110233 -0.081739 -0.027962  \n",
      "..        ...       ...       ...       ...       ...       ...       ...  \n",
      "509 -0.065580 -0.124690 -0.048362 -0.066620 -0.126857 -0.087258 -0.029507  \n",
      "510 -0.067813 -0.108304 -0.045219 -0.074490 -0.111909 -0.003360 -0.032738  \n",
      "511 -0.058028 -0.103669 -0.027957 -0.079956 -0.105123 -0.074706 -0.032924  \n",
      "512 -0.075252 -0.092281 -0.047145 -0.085814 -0.104312 -0.074210 -0.038622  \n",
      "514 -0.062389 -0.102668 -0.038244 -0.069530 -0.112174 -0.076380 -0.032756  \n",
      "\n",
      "[343 rows x 3125 columns]\n"
     ]
    }
   ],
   "source": [
    "# df1 = gene_adata_hvg.to_df\n",
    "# print(df1)\n",
    "df2 = pd.DataFrame(gene_adata_hvg.X,index=gene_adata_hvg.obs_names,columns=gene_adata_hvg.var_names)\n",
    "#print(df2)\n",
    "df2_t = df2.transpose()\n",
    "genesub = mgs['12']\n",
    "genesub =list(genesub)\n",
    "clust12df = df2_t.loc[genesub]"
   ]
  },
  {
   "cell_type": "code",
   "execution_count": 86,
   "id": "b80a1c8a",
   "metadata": {},
   "outputs": [
    {
     "data": {
      "text/html": [
       "<div>\n",
       "<style scoped>\n",
       "    .dataframe tbody tr th:only-of-type {\n",
       "        vertical-align: middle;\n",
       "    }\n",
       "\n",
       "    .dataframe tbody tr th {\n",
       "        vertical-align: top;\n",
       "    }\n",
       "\n",
       "    .dataframe thead th {\n",
       "        text-align: right;\n",
       "    }\n",
       "</style>\n",
       "<table border=\"1\" class=\"dataframe\">\n",
       "  <thead>\n",
       "    <tr style=\"text-align: right;\">\n",
       "      <th></th>\n",
       "      <th>1</th>\n",
       "      <th>2</th>\n",
       "      <th>4</th>\n",
       "      <th>5</th>\n",
       "      <th>6</th>\n",
       "      <th>10</th>\n",
       "      <th>12</th>\n",
       "      <th>13</th>\n",
       "      <th>15</th>\n",
       "      <th>17</th>\n",
       "      <th>...</th>\n",
       "      <th>501</th>\n",
       "      <th>502</th>\n",
       "      <th>503</th>\n",
       "      <th>507</th>\n",
       "      <th>508</th>\n",
       "      <th>509</th>\n",
       "      <th>510</th>\n",
       "      <th>511</th>\n",
       "      <th>512</th>\n",
       "      <th>514</th>\n",
       "    </tr>\n",
       "  </thead>\n",
       "  <tbody>\n",
       "    <tr>\n",
       "      <th>A1CF</th>\n",
       "      <td>-0.029065</td>\n",
       "      <td>-0.092340</td>\n",
       "      <td>-0.077428</td>\n",
       "      <td>-0.100685</td>\n",
       "      <td>-0.079831</td>\n",
       "      <td>-0.103836</td>\n",
       "      <td>-0.097853</td>\n",
       "      <td>-0.101262</td>\n",
       "      <td>-0.133450</td>\n",
       "      <td>-0.069199</td>\n",
       "      <td>...</td>\n",
       "      <td>-0.102030</td>\n",
       "      <td>-0.092274</td>\n",
       "      <td>-0.119037</td>\n",
       "      <td>-0.087972</td>\n",
       "      <td>-0.039798</td>\n",
       "      <td>-0.113288</td>\n",
       "      <td>-0.095878</td>\n",
       "      <td>-0.100276</td>\n",
       "      <td>-0.108053</td>\n",
       "      <td>-0.099909</td>\n",
       "    </tr>\n",
       "    <tr>\n",
       "      <th>ABCA5</th>\n",
       "      <td>-0.346212</td>\n",
       "      <td>-0.249092</td>\n",
       "      <td>-0.305729</td>\n",
       "      <td>-0.323039</td>\n",
       "      <td>-0.200099</td>\n",
       "      <td>-0.359173</td>\n",
       "      <td>-0.357415</td>\n",
       "      <td>-0.378974</td>\n",
       "      <td>-0.368221</td>\n",
       "      <td>-0.269713</td>\n",
       "      <td>...</td>\n",
       "      <td>-0.376359</td>\n",
       "      <td>-0.311317</td>\n",
       "      <td>-0.433377</td>\n",
       "      <td>-0.393358</td>\n",
       "      <td>-0.235845</td>\n",
       "      <td>-0.429932</td>\n",
       "      <td>-0.317537</td>\n",
       "      <td>-0.367042</td>\n",
       "      <td>-0.310519</td>\n",
       "      <td>-0.364620</td>\n",
       "    </tr>\n",
       "    <tr>\n",
       "      <th>ACAD9</th>\n",
       "      <td>-0.081819</td>\n",
       "      <td>-0.042977</td>\n",
       "      <td>-0.067011</td>\n",
       "      <td>-0.035952</td>\n",
       "      <td>-0.026111</td>\n",
       "      <td>-0.022897</td>\n",
       "      <td>-0.026598</td>\n",
       "      <td>0.017152</td>\n",
       "      <td>0.065669</td>\n",
       "      <td>-0.021078</td>\n",
       "      <td>...</td>\n",
       "      <td>-0.021283</td>\n",
       "      <td>-0.028738</td>\n",
       "      <td>-0.031028</td>\n",
       "      <td>-0.032708</td>\n",
       "      <td>-0.053053</td>\n",
       "      <td>-0.028110</td>\n",
       "      <td>-0.022582</td>\n",
       "      <td>-0.032530</td>\n",
       "      <td>-0.049679</td>\n",
       "      <td>-0.021429</td>\n",
       "    </tr>\n",
       "    <tr>\n",
       "      <th>ADCY3</th>\n",
       "      <td>-0.084793</td>\n",
       "      <td>-0.056202</td>\n",
       "      <td>-0.061494</td>\n",
       "      <td>-0.052884</td>\n",
       "      <td>-0.047344</td>\n",
       "      <td>-0.049889</td>\n",
       "      <td>-0.049325</td>\n",
       "      <td>-0.050284</td>\n",
       "      <td>-0.064342</td>\n",
       "      <td>-0.045773</td>\n",
       "      <td>...</td>\n",
       "      <td>-0.052581</td>\n",
       "      <td>-0.056300</td>\n",
       "      <td>-0.076259</td>\n",
       "      <td>-0.054718</td>\n",
       "      <td>-0.047859</td>\n",
       "      <td>-0.083233</td>\n",
       "      <td>-0.066334</td>\n",
       "      <td>-0.085645</td>\n",
       "      <td>-0.082937</td>\n",
       "      <td>-0.071963</td>\n",
       "    </tr>\n",
       "    <tr>\n",
       "      <th>AMH</th>\n",
       "      <td>-0.147768</td>\n",
       "      <td>-0.066295</td>\n",
       "      <td>-0.098685</td>\n",
       "      <td>-0.060693</td>\n",
       "      <td>-0.069395</td>\n",
       "      <td>-0.094269</td>\n",
       "      <td>-0.117098</td>\n",
       "      <td>-0.127178</td>\n",
       "      <td>-0.223044</td>\n",
       "      <td>-0.093698</td>\n",
       "      <td>...</td>\n",
       "      <td>-0.112855</td>\n",
       "      <td>-0.100404</td>\n",
       "      <td>-0.062909</td>\n",
       "      <td>-0.095736</td>\n",
       "      <td>-0.076377</td>\n",
       "      <td>-0.102700</td>\n",
       "      <td>0.223724</td>\n",
       "      <td>-0.075988</td>\n",
       "      <td>-0.055975</td>\n",
       "      <td>-0.099199</td>\n",
       "    </tr>\n",
       "    <tr>\n",
       "      <th>ARHGAP27</th>\n",
       "      <td>-0.047974</td>\n",
       "      <td>-0.052980</td>\n",
       "      <td>-0.043622</td>\n",
       "      <td>-0.040638</td>\n",
       "      <td>-0.044847</td>\n",
       "      <td>-0.051240</td>\n",
       "      <td>-0.042002</td>\n",
       "      <td>-0.051900</td>\n",
       "      <td>-0.071494</td>\n",
       "      <td>-0.049366</td>\n",
       "      <td>...</td>\n",
       "      <td>-0.044508</td>\n",
       "      <td>-0.048492</td>\n",
       "      <td>-0.077834</td>\n",
       "      <td>-0.044893</td>\n",
       "      <td>-0.037284</td>\n",
       "      <td>-0.052369</td>\n",
       "      <td>-0.069908</td>\n",
       "      <td>-0.060851</td>\n",
       "      <td>-0.056554</td>\n",
       "      <td>-0.063354</td>\n",
       "    </tr>\n",
       "    <tr>\n",
       "      <th>ARHGAP8</th>\n",
       "      <td>-0.027761</td>\n",
       "      <td>-0.033363</td>\n",
       "      <td>-0.027233</td>\n",
       "      <td>-0.022628</td>\n",
       "      <td>-0.029989</td>\n",
       "      <td>-0.020563</td>\n",
       "      <td>-0.026495</td>\n",
       "      <td>-0.017941</td>\n",
       "      <td>-0.002452</td>\n",
       "      <td>-0.034818</td>\n",
       "      <td>...</td>\n",
       "      <td>-0.013853</td>\n",
       "      <td>-0.029847</td>\n",
       "      <td>-0.034918</td>\n",
       "      <td>-0.014679</td>\n",
       "      <td>-0.023879</td>\n",
       "      <td>-0.039117</td>\n",
       "      <td>-0.037459</td>\n",
       "      <td>-0.015488</td>\n",
       "      <td>-0.036539</td>\n",
       "      <td>-0.030431</td>\n",
       "    </tr>\n",
       "    <tr>\n",
       "      <th>ARSA</th>\n",
       "      <td>0.000863</td>\n",
       "      <td>-0.016973</td>\n",
       "      <td>-0.015346</td>\n",
       "      <td>-0.017348</td>\n",
       "      <td>-0.019830</td>\n",
       "      <td>0.010491</td>\n",
       "      <td>0.013212</td>\n",
       "      <td>0.015461</td>\n",
       "      <td>0.052328</td>\n",
       "      <td>0.019680</td>\n",
       "      <td>...</td>\n",
       "      <td>-0.014297</td>\n",
       "      <td>-0.002709</td>\n",
       "      <td>-0.004956</td>\n",
       "      <td>0.006423</td>\n",
       "      <td>-0.009919</td>\n",
       "      <td>-0.001964</td>\n",
       "      <td>-0.001684</td>\n",
       "      <td>0.068939</td>\n",
       "      <td>-0.019834</td>\n",
       "      <td>0.005282</td>\n",
       "    </tr>\n",
       "    <tr>\n",
       "      <th>ATG16L2</th>\n",
       "      <td>-0.112333</td>\n",
       "      <td>-0.083244</td>\n",
       "      <td>-0.082978</td>\n",
       "      <td>-0.089295</td>\n",
       "      <td>-0.078017</td>\n",
       "      <td>-0.089179</td>\n",
       "      <td>-0.079672</td>\n",
       "      <td>-0.101432</td>\n",
       "      <td>-0.098624</td>\n",
       "      <td>-0.071435</td>\n",
       "      <td>...</td>\n",
       "      <td>-0.087458</td>\n",
       "      <td>-0.083012</td>\n",
       "      <td>-0.101130</td>\n",
       "      <td>-0.092938</td>\n",
       "      <td>-0.061697</td>\n",
       "      <td>-0.085490</td>\n",
       "      <td>-0.078935</td>\n",
       "      <td>-0.083216</td>\n",
       "      <td>-0.094878</td>\n",
       "      <td>-0.087018</td>\n",
       "    </tr>\n",
       "    <tr>\n",
       "      <th>B4GALT2</th>\n",
       "      <td>-0.083692</td>\n",
       "      <td>0.083067</td>\n",
       "      <td>-0.101870</td>\n",
       "      <td>-0.095201</td>\n",
       "      <td>-0.094905</td>\n",
       "      <td>-0.108304</td>\n",
       "      <td>-0.087858</td>\n",
       "      <td>-0.095983</td>\n",
       "      <td>-0.070243</td>\n",
       "      <td>-0.080293</td>\n",
       "      <td>...</td>\n",
       "      <td>-0.093941</td>\n",
       "      <td>-0.091796</td>\n",
       "      <td>-0.077391</td>\n",
       "      <td>-0.085747</td>\n",
       "      <td>-0.108411</td>\n",
       "      <td>-0.091114</td>\n",
       "      <td>-0.079068</td>\n",
       "      <td>-0.079908</td>\n",
       "      <td>-0.083839</td>\n",
       "      <td>-0.086045</td>\n",
       "    </tr>\n",
       "    <tr>\n",
       "      <th>BCDIN3D</th>\n",
       "      <td>0.012547</td>\n",
       "      <td>-0.069210</td>\n",
       "      <td>-0.106218</td>\n",
       "      <td>-0.062504</td>\n",
       "      <td>-0.067151</td>\n",
       "      <td>-0.100257</td>\n",
       "      <td>-0.132780</td>\n",
       "      <td>-0.118509</td>\n",
       "      <td>-0.155652</td>\n",
       "      <td>-0.089318</td>\n",
       "      <td>...</td>\n",
       "      <td>-0.111600</td>\n",
       "      <td>-0.098239</td>\n",
       "      <td>-0.081528</td>\n",
       "      <td>-0.101428</td>\n",
       "      <td>-0.081178</td>\n",
       "      <td>-0.195154</td>\n",
       "      <td>-0.076596</td>\n",
       "      <td>-0.065415</td>\n",
       "      <td>-0.059823</td>\n",
       "      <td>-0.077259</td>\n",
       "    </tr>\n",
       "    <tr>\n",
       "      <th>BRCA2</th>\n",
       "      <td>-0.057943</td>\n",
       "      <td>-0.080648</td>\n",
       "      <td>-0.062951</td>\n",
       "      <td>-0.090832</td>\n",
       "      <td>-0.081059</td>\n",
       "      <td>-0.082329</td>\n",
       "      <td>-0.072741</td>\n",
       "      <td>-0.089022</td>\n",
       "      <td>-0.072519</td>\n",
       "      <td>-0.063116</td>\n",
       "      <td>...</td>\n",
       "      <td>-0.077091</td>\n",
       "      <td>-0.079403</td>\n",
       "      <td>-0.121765</td>\n",
       "      <td>-0.083606</td>\n",
       "      <td>-0.058109</td>\n",
       "      <td>-0.100565</td>\n",
       "      <td>-0.102724</td>\n",
       "      <td>-0.087555</td>\n",
       "      <td>-0.082248</td>\n",
       "      <td>-0.086595</td>\n",
       "    </tr>\n",
       "  </tbody>\n",
       "</table>\n",
       "<p>12 rows × 343 columns</p>\n",
       "</div>"
      ],
      "text/plain": [
       "                 1         2         4         5         6        10  \\\n",
       "A1CF     -0.029065 -0.092340 -0.077428 -0.100685 -0.079831 -0.103836   \n",
       "ABCA5    -0.346212 -0.249092 -0.305729 -0.323039 -0.200099 -0.359173   \n",
       "ACAD9    -0.081819 -0.042977 -0.067011 -0.035952 -0.026111 -0.022897   \n",
       "ADCY3    -0.084793 -0.056202 -0.061494 -0.052884 -0.047344 -0.049889   \n",
       "AMH      -0.147768 -0.066295 -0.098685 -0.060693 -0.069395 -0.094269   \n",
       "ARHGAP27 -0.047974 -0.052980 -0.043622 -0.040638 -0.044847 -0.051240   \n",
       "ARHGAP8  -0.027761 -0.033363 -0.027233 -0.022628 -0.029989 -0.020563   \n",
       "ARSA      0.000863 -0.016973 -0.015346 -0.017348 -0.019830  0.010491   \n",
       "ATG16L2  -0.112333 -0.083244 -0.082978 -0.089295 -0.078017 -0.089179   \n",
       "B4GALT2  -0.083692  0.083067 -0.101870 -0.095201 -0.094905 -0.108304   \n",
       "BCDIN3D   0.012547 -0.069210 -0.106218 -0.062504 -0.067151 -0.100257   \n",
       "BRCA2    -0.057943 -0.080648 -0.062951 -0.090832 -0.081059 -0.082329   \n",
       "\n",
       "                12        13        15        17  ...       501       502  \\\n",
       "A1CF     -0.097853 -0.101262 -0.133450 -0.069199  ... -0.102030 -0.092274   \n",
       "ABCA5    -0.357415 -0.378974 -0.368221 -0.269713  ... -0.376359 -0.311317   \n",
       "ACAD9    -0.026598  0.017152  0.065669 -0.021078  ... -0.021283 -0.028738   \n",
       "ADCY3    -0.049325 -0.050284 -0.064342 -0.045773  ... -0.052581 -0.056300   \n",
       "AMH      -0.117098 -0.127178 -0.223044 -0.093698  ... -0.112855 -0.100404   \n",
       "ARHGAP27 -0.042002 -0.051900 -0.071494 -0.049366  ... -0.044508 -0.048492   \n",
       "ARHGAP8  -0.026495 -0.017941 -0.002452 -0.034818  ... -0.013853 -0.029847   \n",
       "ARSA      0.013212  0.015461  0.052328  0.019680  ... -0.014297 -0.002709   \n",
       "ATG16L2  -0.079672 -0.101432 -0.098624 -0.071435  ... -0.087458 -0.083012   \n",
       "B4GALT2  -0.087858 -0.095983 -0.070243 -0.080293  ... -0.093941 -0.091796   \n",
       "BCDIN3D  -0.132780 -0.118509 -0.155652 -0.089318  ... -0.111600 -0.098239   \n",
       "BRCA2    -0.072741 -0.089022 -0.072519 -0.063116  ... -0.077091 -0.079403   \n",
       "\n",
       "               503       507       508       509       510       511  \\\n",
       "A1CF     -0.119037 -0.087972 -0.039798 -0.113288 -0.095878 -0.100276   \n",
       "ABCA5    -0.433377 -0.393358 -0.235845 -0.429932 -0.317537 -0.367042   \n",
       "ACAD9    -0.031028 -0.032708 -0.053053 -0.028110 -0.022582 -0.032530   \n",
       "ADCY3    -0.076259 -0.054718 -0.047859 -0.083233 -0.066334 -0.085645   \n",
       "AMH      -0.062909 -0.095736 -0.076377 -0.102700  0.223724 -0.075988   \n",
       "ARHGAP27 -0.077834 -0.044893 -0.037284 -0.052369 -0.069908 -0.060851   \n",
       "ARHGAP8  -0.034918 -0.014679 -0.023879 -0.039117 -0.037459 -0.015488   \n",
       "ARSA     -0.004956  0.006423 -0.009919 -0.001964 -0.001684  0.068939   \n",
       "ATG16L2  -0.101130 -0.092938 -0.061697 -0.085490 -0.078935 -0.083216   \n",
       "B4GALT2  -0.077391 -0.085747 -0.108411 -0.091114 -0.079068 -0.079908   \n",
       "BCDIN3D  -0.081528 -0.101428 -0.081178 -0.195154 -0.076596 -0.065415   \n",
       "BRCA2    -0.121765 -0.083606 -0.058109 -0.100565 -0.102724 -0.087555   \n",
       "\n",
       "               512       514  \n",
       "A1CF     -0.108053 -0.099909  \n",
       "ABCA5    -0.310519 -0.364620  \n",
       "ACAD9    -0.049679 -0.021429  \n",
       "ADCY3    -0.082937 -0.071963  \n",
       "AMH      -0.055975 -0.099199  \n",
       "ARHGAP27 -0.056554 -0.063354  \n",
       "ARHGAP8  -0.036539 -0.030431  \n",
       "ARSA     -0.019834  0.005282  \n",
       "ATG16L2  -0.094878 -0.087018  \n",
       "B4GALT2  -0.083839 -0.086045  \n",
       "BCDIN3D  -0.059823 -0.077259  \n",
       "BRCA2    -0.082248 -0.086595  \n",
       "\n",
       "[12 rows x 343 columns]"
      ]
     },
     "execution_count": 86,
     "metadata": {},
     "output_type": "execute_result"
    }
   ],
   "source": [
    "clust12df"
   ]
  },
  {
   "cell_type": "code",
   "execution_count": 36,
   "id": "bd514aad-96e4-4d41-8446-a8a91be7efac",
   "metadata": {},
   "outputs": [],
   "source": [
    "import networkx as nx\n",
    "from sklearn.metrics.pairwise import cosine_similarity"
   ]
  },
  {
   "cell_type": "code",
   "execution_count": 87,
   "id": "214782fb-e9ff-4e14-8221-0741f8bbbebc",
   "metadata": {},
   "outputs": [
    {
     "name": "stderr",
     "output_type": "stream",
     "text": [
      "100%|██████████| 132/132 [00:00<00:00, 506076.90it/s]\n"
     ]
    }
   ],
   "source": [
    "# The function is modified from https://github.com/bowang-lab/scGPT\n",
    "G = nx.Graph()\n",
    "similarities = cosine_similarity(clust12df)\n",
    "genes = list(clust12df.index.values)\n",
    "similarities[similarities>0.9999]=0\n",
    "edges = []\n",
    "nz = list(zip(*similarities.nonzero()))\n",
    "for n in tqdm(nz):\n",
    "    edges.append((genes[n[0]], genes[n[1]],{'weight':similarities[n[0],n[1]]}))\n",
    "G.add_nodes_from(genes)\n",
    "G.add_edges_from(edges)"
   ]
  },
  {
   "cell_type": "code",
   "execution_count": 88,
   "id": "ce053715-0353-481b-bbee-fada927d57f3",
   "metadata": {},
   "outputs": [],
   "source": [
    "widths = nx.get_edge_attributes(G, 'weight')\n",
    "weightvalue = np.array(list(widths.values()))\n",
    "scaled_weightvalue = (weightvalue-weightvalue.min())/(weightvalue.max()-weightvalue.min())*3"
   ]
  },
  {
   "cell_type": "code",
   "execution_count": 89,
   "id": "fba57319-ab1f-40a7-b8d5-aea83f86eda7",
   "metadata": {},
   "outputs": [],
   "source": [
    "widsorted = sorted(widths.items(), key=lambda x: x[1], reverse=True)"
   ]
  },
  {
   "cell_type": "code",
   "execution_count": 90,
   "id": "9722256f-7834-4a30-a94d-606fe06221a9",
   "metadata": {},
   "outputs": [],
   "source": [
    "toppair = np.array(list(widths))[weightvalue.argsort()<3]"
   ]
  },
  {
   "cell_type": "code",
   "execution_count": 91,
   "id": "7db9a6da",
   "metadata": {},
   "outputs": [
    {
     "data": {
      "text/plain": [
       "<networkx.classes.graph.Graph at 0x7f2fbc205d90>"
      ]
     },
     "execution_count": 91,
     "metadata": {},
     "output_type": "execute_result"
    }
   ],
   "source": [
    "G"
   ]
  },
  {
   "cell_type": "code",
   "execution_count": 92,
   "id": "de2a1564-e298-4a17-bda8-88cc43007e86",
   "metadata": {
    "tags": []
   },
   "outputs": [
    {
     "data": {
      "image/png": "[encoded data removed]",
      "text/plain": [
       "<Figure size 640x480 with 1 Axes>"
      ]
     },
     "metadata": {},
     "output_type": "display_data"
    }
   ],
   "source": [
    "import matplotlib as mpl\n",
    "import matplotlib.pyplot as plt\n",
    "pos = nx.spring_layout(G, k=0.4, iterations=15, seed=42)\n",
    "\n",
    "nx.draw_networkx_edges(G, pos,\n",
    "                       edgelist = widths.keys(),\n",
    "                       edge_color=list(widths.values()),\n",
    "                       width=scaled_weightvalue,\n",
    "                       edge_cmap=mpl.colormaps['cool'],\n",
    "                       alpha=1)\n",
    "\n",
    "nx.draw_networkx_labels(G, pos, font_size=15, font_family=\"sans-serif\")\n",
    "\n",
    "# edge weight labels\n",
    "edge_labels = {widsorted[i][0]: f'rank{i+1}' for i in range(5)}\n",
    "nx.draw_networkx_edge_labels(G, pos, edge_labels, font_size=10)\n",
    "\n",
    "ax = plt.gca()\n",
    "ax.margins(0.08)\n",
    "plt.axis(\"off\")\n",
    "plt.tight_layout()\n",
    "mpl.rcParams['pdf.fonttype'] = 42\n",
    "mpl.rcParams['ps.fonttype'] = 42\n",
    "plt.savefig('figures/T_genemodule.pdf',bbox_inches='tight')"
   ]
  },
  {
   "cell_type": "markdown",
   "id": "6256a915-9820-408f-b7f3-2ab559329d3e",
   "metadata": {},
   "source": [
    "## Use emb for pySCENIC"
   ]
  },
  {
   "cell_type": "code",
   "execution_count": null,
   "id": "c673ab17-5dcf-4358-973b-3e33d55a72a5",
   "metadata": {},
   "outputs": [],
   "source": [
    "cell_geneemb = np.load('./data/cd8t_b_mono_geneemb_01B-resolution_singlecell_gene_embedding_f1_resolution.npy')"
   ]
  },
  {
   "cell_type": "code",
   "execution_count": null,
   "id": "87a018e0-c8bb-4549-bbe5-5c6880fc8251",
   "metadata": {},
   "outputs": [],
   "source": [
    "selected_gene = adata.X.sum(0)>0\n",
    "geneemb_merge = cell_geneemb[:,selected_gene,:].mean(0)\n",
    "geneemb_merge.shape"
   ]
  },
  {
   "cell_type": "code",
   "execution_count": null,
   "id": "f701c8cc-dbd5-4362-a52b-d2994d791b0d",
   "metadata": {},
   "outputs": [],
   "source": [
    "TF = pd.read_csv('./data/allTFs_hg38.txt',header=None).values.T[0]\n",
    "sgene = np.array(gene_list)[selected_gene]\n",
    "fltTF = [x for x in TF if x in sgene]\n",
    "len(fltTF)"
   ]
  },
  {
   "cell_type": "code",
   "execution_count": null,
   "id": "209bbc31-3337-4016-b3fd-f9bb385c522a",
   "metadata": {},
   "outputs": [],
   "source": [
    "fltgeneembdf = pd.DataFrame(geneemb_merge,index=sgene)"
   ]
  },
  {
   "cell_type": "code",
   "execution_count": null,
   "id": "be10e7e1-9bc2-45e4-989f-97627e736191",
   "metadata": {
    "scrolled": true,
    "tags": []
   },
   "outputs": [],
   "source": [
    "coexplist=[]\n",
    "for tf in tqdm(fltTF):\n",
    "    tmpsim = cosine_similarity(fltgeneembdf.loc[fltTF[0],:].values.reshape(1,-1),fltgeneembdf)\n",
    "    tmpsim[tmpsim>0.9999]=0\n",
    "    tmpsimdf = pd.DataFrame(tmpsim,columns=sgene,index=['simi']).T\n",
    "    tmpsimdf = tmpsimdf.sort_values('simi',ascending=False)\n",
    "    for idx in range(1000):\n",
    "        coexplist.append([tf,tmpsimdf.index[idx],tmpsimdf.iloc[idx,0]*100])"
   ]
  },
  {
   "cell_type": "code",
   "execution_count": null,
   "id": "89d1ddd1-6ec2-4486-a904-443f6988cd07",
   "metadata": {},
   "outputs": [],
   "source": [
    "grndf = pd.DataFrame(coexplist,columns=['TF','target','importance'])"
   ]
  },
  {
   "cell_type": "code",
   "execution_count": null,
   "id": "293bad7c-4490-478b-a819-59faf05f46d7",
   "metadata": {},
   "outputs": [],
   "source": [
    "grndf.to_csv('scf_grn_1000.tsv',index=False,sep='\\t')"
   ]
  },
  {
   "cell_type": "code",
   "execution_count": null,
   "id": "4072ee02-95c0-42ba-9bb8-3c06973a932c",
   "metadata": {},
   "outputs": [],
   "source": [
    "grndf.head()"
   ]
  },
  {
   "cell_type": "markdown",
   "id": "2e62a0ab-40f6-44a6-8a9c-d405993c2830",
   "metadata": {},
   "source": [
    "feed into pyscenic"
   ]
  },
  {
   "cell_type": "markdown",
   "id": "a37ea25a-da9b-4e73-a1ac-77fd15a3116f",
   "metadata": {},
   "source": [
    "#bin/bash\n",
    "\n",
    "docker run -it --rm \\\n",
    "    -v /nfs_beijing/:/nfs_beijing/ \\\n",
    "    aertslab/pyscenic:0.12.1 pyscenic ctx \\\n",
    "        ./geneemb/scf_grn_1000.tsv \\\n",
    "        ./geneemb/hg38_10kbp_up_10kbp_down_full_tx_v10_clust.genes_vs_motifs.rankings.feather \\\n",
    "        --annotations_fname ./geneemb/motifs-v10nr_clust-nr.hgnc-m0.001-o0.0.tbl \\\n",
    "        --expression_mtx_fname ./geneemb/data/zheng_subset_cd8t_b_mono.tsv \\\n",
    "        --mode \"custom_multiprocessing\" \\\n",
    "        --output ./geneemb/regulons_1000.csv \\\n",
    "        --num_workers 40\n",
    "        \n",
    "docker run -it --rm \\\n",
    "    -v /nfs_beijing/:/nfs_beijing/ \\\n",
    "    aertslab/pyscenic:0.12.1 pyscenic aucell \\\n",
    "        ./geneemb/data/zheng_subset_cd8t_b_mono.tsv \\\n",
    "        ./geneemb/regulons_1000.csv \\\n",
    "        -o ./geneemb/auc_mtx_1000.csv \\\n",
    "        --num_workers 6"
   ]
  },
  {
   "cell_type": "code",
   "execution_count": null,
   "id": "2e966f3f-1af1-413c-8a36-187c02c1fe5c",
   "metadata": {},
   "outputs": [],
   "source": [
    "# from another notebook for post-analysis\n",
    "# import dependencies\n",
    "import os\n",
    "import numpy as np\n",
    "import pandas as pd\n",
    "import scanpy as sc\n",
    "import loompy as lp\n",
    "import json\n",
    "import base64\n",
    "import zlib\n",
    "from pyscenic.plotting import plot_binarization\n",
    "from pyscenic.cli.utils import load_signatures\n",
    "import matplotlib as mpl\n",
    "import matplotlib.pyplot as plt\n",
    "import seaborn as sns\n",
    "from pyscenic.rss import regulon_specificity_scores\n",
    "from pyscenic.plotting import plot_rss\n",
    "from pyscenic.binarization import binarize"
   ]
  },
  {
   "cell_type": "code",
   "execution_count": null,
   "id": "e1d4e750-8908-486e-9819-c6b8d7eae0fd",
   "metadata": {},
   "outputs": [],
   "source": [
    "auc_mtx = pd.read_csv('./auc_mtx_1000.csv',index_col=0)"
   ]
  },
  {
   "cell_type": "code",
   "execution_count": null,
   "id": "678265c2-f47a-4964-8af2-fa6246c492f1",
   "metadata": {},
   "outputs": [],
   "source": [
    "cellanno = pd.DataFrame(['CD8+ Cytotoxic T']*100+['CD19+ B']*100+['CD14+ Monocyte']*100,columns=['anno'])"
   ]
  },
  {
   "cell_type": "code",
   "execution_count": null,
   "id": "6b9a48bc-ea98-4ef3-9567-46775799ec1c",
   "metadata": {},
   "outputs": [],
   "source": [
    "rss_cellType = regulon_specificity_scores( auc_mtx, cellanno['anno'] )\n",
    "rss_cellType.to_csv('RSS.csv')\n",
    "rss_cellType"
   ]
  },
  {
   "cell_type": "code",
   "execution_count": null,
   "id": "19f5ed99-c7ca-4e9d-92b8-db9579d43b97",
   "metadata": {},
   "outputs": [],
   "source": [
    "from adjustText import adjust_text\n",
    "cats = sorted(list(set(cellanno['anno'])))\n",
    "\n",
    "fig = plt.figure(figsize=(15, 5))\n",
    "for c,num in zip(cats, range(1,len(cats)+1)):\n",
    "    x=rss_cellType.T[c]\n",
    "    ax = fig.add_subplot(1,3,num)\n",
    "    plot_rss(rss_cellType, c, top_n=3, max_n=None, ax=ax)\n",
    "    ax.set_ylim( x.min()-(x.max()-x.min())*0.05 , x.max()+(x.max()-x.min())*0.05 )\n",
    "    for t in ax.texts:\n",
    "        t.set_fontsize(12)\n",
    "    ax.set_ylabel('')\n",
    "    ax.set_xlabel('')\n",
    "    adjust_text(ax.texts, autoalign='xy', ha='right', va='bottom', arrowprops=dict(arrowstyle='-',color='lightgrey'), precision=0.001 )\n",
    " \n",
    "fig.text(0.5, 0.0, 'Regulon', ha='center', va='center', size='x-large')\n",
    "fig.text(0.00, 0.5, 'Regulon specificity score (RSS)', ha='center', va='center', rotation='vertical', size='x-large')\n",
    "plt.tight_layout()\n",
    "plt.rcParams.update({\n",
    "    'figure.autolayout': True,\n",
    "        'figure.titlesize': 'large' ,\n",
    "        'axes.labelsize': 'medium',\n",
    "        'axes.titlesize':'large',\n",
    "        'xtick.labelsize':'medium',\n",
    "        'ytick.labelsize':'medium'\n",
    "        })\n",
    "plt.rcParams['pdf.fonttype'] = 42\n",
    "plt.rcParams['ps.fonttype'] = 42\n",
    "plt.savefig('RSS.pdf',bbox_inches='tight')"
   ]
  },
  {
   "cell_type": "code",
   "execution_count": null,
   "id": "a2071205-4fcc-4f0c-a7e7-c4a42986a011",
   "metadata": {},
   "outputs": [],
   "source": []
  }
 ],
 "metadata": {
  "kernelspec": {
   "display_name": "scfound2",
   "language": "python",
   "name": "python3"
  },
  "language_info": {
   "codemirror_mode": {
    "name": "ipython",
    "version": 3
   },
   "file_extension": ".py",
   "mimetype": "text/x-python",
   "name": "python",
   "nbconvert_exporter": "python",
   "pygments_lexer": "ipython3",
   "version": "3.12.4"
  }
 },
 "nbformat": 4,
 "nbformat_minor": 5
}
