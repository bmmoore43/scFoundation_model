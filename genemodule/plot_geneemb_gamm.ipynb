{
 "cells": [
  {
   "cell_type": "code",
   "execution_count": 2,
   "id": "2e91e8c6-eecf-4f86-ba6e-53d21822ecdc",
   "metadata": {},
   "outputs": [],
   "source": [
    "%matplotlib inline\n",
    "import scanpy as sc\n",
    "import pandas as pd\n",
    "import seaborn as sns\n",
    "import numpy as np\n",
    "import pandas as pd\n",
    "import igraph\n",
    "import leidenalg"
   ]
  },
  {
   "cell_type": "code",
   "execution_count": 34,
   "id": "955300dd",
   "metadata": {},
   "outputs": [
    {
     "data": {
      "text/plain": [
       "AnnData object with n_obs × n_vars = 516 × 16711\n",
       "    obs: 'orig.ident', 'nCount_RNA', 'nFeature_RNA', 'ident', 'scDblFinder.class', 'scDblFinder.score', 'scDblFinder.weighted', 'scDblFinder.cxds_score', 'percent.mt', 'sizeFactors', 'S.Score', 'G2M.Score', 'Phase', 'old.ident', 'RNA_snn_res.0.5', 'seurat_clusters', 'CellType', 'CellType_manual'\n",
       "    var: 'features', 'old_names'\n",
       "    uns: 'neighbors'\n",
       "    obsm: 'X_harmony', 'X_pca', 'X_umap'\n",
       "    varm: 'HARMONY', 'PCs'\n",
       "    obsp: 'distances'"
      ]
     },
     "execution_count": 34,
     "metadata": {},
     "output_type": "execute_result"
    }
   ],
   "source": [
    "# read in subsetted ann data object\n",
    "adata = sc.read_h5ad(\"/w5home/bmoore/scRNAseq/GAMM/GAMM_S2/output_20230830_155530/GAMM_S2_clabeled-clusters_0.5_cones_orthologs.h5ad\")\n",
    "adata\n"
   ]
  },
  {
   "cell_type": "code",
   "execution_count": 35,
   "id": "66ab0b6d",
   "metadata": {},
   "outputs": [
    {
     "name": "stdout",
     "output_type": "stream",
     "text": [
      "                        A1BG      A1CF       A2M     A2ML1   A3GALT2  \\\n",
      "AAACGAAGTTTCGGCG_1 -0.042346 -0.105030 -0.427844 -0.184739 -0.036179   \n",
      "AAACGAATCGTCTACC_1 -0.043150  6.128100 -0.379275 -0.179870 -0.040108   \n",
      "AACAAGACAACGATTC_1 -0.037658 -0.103802 -0.357409 -0.204344 -0.052037   \n",
      "AACAGGGAGTCATAGA_1 -0.044894 -0.102238 -0.508249 -0.175131 -0.022941   \n",
      "AACCACATCACCCTTG_1 -0.042375 -0.106361 -0.412149 -0.184219 -0.037850   \n",
      "...                      ...       ...       ...       ...       ...   \n",
      "TTTACCACACTGTCGG_2 -0.039420 -0.097577 -0.465289 -0.199000 -0.037152   \n",
      "TTTCATGAGCCAGAGT_2 -0.037614 -0.093242 -0.485196 -0.207719 -0.038104   \n",
      "TTTGGAGCAGAAGCGT_2 -0.044068 -0.110562 -0.391849 -0.176000 -0.037136   \n",
      "TTTGGAGCAGGAGACT_2 -0.045522 -0.111476 -0.407204 -0.169757 -0.032928   \n",
      "TTTGGTTGTCTTCTAT_2 -0.041736 -0.103496 -0.435414 -0.187704 -0.036407   \n",
      "\n",
      "                      A4GALT     A4GNT      AAAS      AACS     AADAC  ...  \\\n",
      "AAACGAAGTTTCGGCG_1 -0.076534 -0.036593 -0.261514 -0.318321 -0.052184  ...   \n",
      "AAACGAATCGTCTACC_1 -0.077283 -0.017294 -0.252992  1.590552 -0.048194  ...   \n",
      "AACAAGACAACGATTC_1 -0.092230 -0.055485 -0.241782 -0.317517 -0.084048  ...   \n",
      "AACAGGGAGTCATAGA_1 -0.065613 -0.037479 -0.280508 -0.329647 -0.033840  ...   \n",
      "AACCACATCACCCTTG_1 -0.077353 -0.032209 -0.258469 -0.314157 -0.052382  ...   \n",
      "...                      ...       ...       ...       ...       ...  ...   \n",
      "TTTACCACACTGTCGG_2 -0.081712 -0.069944 -0.265179 -0.338866 -0.070094  ...   \n",
      "TTTCATGAGCCAGAGT_2 -0.085088 -0.089674 -0.266813 -0.350716 -0.081222  ...   \n",
      "TTTGGAGCAGAAGCGT_2 -0.074278 -0.013270 -0.256617  2.808629 -0.041983  ...   \n",
      "TTTGGAGCAGGAGACT_2 -0.069778 -0.005690  3.536150 -0.301191 -0.032256  ...   \n",
      "TTTGGTTGTCTTCTAT_2 -0.077625 -0.043479 -0.262232 -0.322541 -0.055920  ...   \n",
      "\n",
      "                      ZWILCH     ZWINT  ZXDA  ZXDB      ZXDC    ZYG11A  \\\n",
      "AAACGAAGTTTCGGCG_1  1.785113 -0.094897   0.0   0.0  1.544678 -0.080738   \n",
      "AAACGAATCGTCTACC_1 -0.397847 -0.080915   0.0   0.0  0.817142 -0.062783   \n",
      "AACAAGACAACGATTC_1 -0.340625 -0.054137   0.0   0.0 -0.500603 -0.099650   \n",
      "AACAGGGAGTCATAGA_1 -0.439619 -0.131617   0.0   0.0  1.436413 -0.080678   \n",
      "AACCACATCACCCTTG_1 -0.396723 -0.089569   0.0   0.0 -0.492975 -0.076712   \n",
      "...                      ...       ...   ...   ...       ...       ...   \n",
      "TTTACCACACTGTCGG_2 -0.378487 -0.097606   0.0   0.0 -0.531532 -0.112291   \n",
      "TTTCATGAGCCAGAGT_2 -0.364916 -0.098172   0.0   0.0 -0.550238 -0.130984   \n",
      "TTTGGAGCAGAAGCGT_2 -0.409139 -0.088476   0.0   0.0 -0.474801 -0.058783   \n",
      "TTTGGAGCAGGAGACT_2 -0.426141  8.159082   0.0   0.0  1.738733 -0.051341   \n",
      "TTTGGTTGTCTTCTAT_2 -0.395065 -0.095382   0.0   0.0 -0.505856 -0.087255   \n",
      "\n",
      "                      ZYG11B       ZYX     ZZEF1      ZZZ3  \n",
      "AAACGAAGTTTCGGCG_1  2.173786 -0.643024 -0.676821 -1.091205  \n",
      "AAACGAATCGTCTACC_1  1.316336 -0.699179 -0.673096  0.497170  \n",
      "AACAAGACAACGATTC_1  2.488279 -0.851256 -0.659867  0.685701  \n",
      "AACAGGGAGTCATAGA_1  1.504793 -0.466044 -0.690642 -0.038811  \n",
      "AACCACATCACCCTTG_1  2.118825 -0.666180 -0.675161  1.451693  \n",
      "...                      ...       ...       ...       ...  \n",
      "TTTACCACACTGTCGG_2  1.507870 -0.649690 -0.675140  1.066979  \n",
      "TTTCATGAGCCAGAGT_2 -0.654560 -0.658642 -0.673754  1.484243  \n",
      "TTTGGAGCAGAAGCGT_2  0.823521 -0.660244 -0.676283 -1.102881  \n",
      "TTTGGAGCAGGAGACT_2 -0.735036  1.611694 -0.680832  0.129191  \n",
      "TTTGGTTGTCTTCTAT_2 -0.697684 -0.644759 -0.676446 -1.085603  \n",
      "\n",
      "[516 rows x 19264 columns]\n"
     ]
    }
   ],
   "source": [
    "# get correct gene names based on gene list\n",
    "def main_gene_selection(X_df, gene_list):\n",
    "    \"\"\"\n",
    "    Describe:\n",
    "        rebuild the input adata to select target genes encode protein \n",
    "    Parameters:\n",
    "        adata->`~anndata.AnnData` object: adata with var index_name by gene symbol\n",
    "        gene_list->list: wanted target gene \n",
    "    Returns:\n",
    "        adata_new->`~anndata.AnnData` object\n",
    "        to_fill_columns->list: zero padding gene\n",
    "    \"\"\"\n",
    "    to_fill_columns = list(set(gene_list) - set(X_df.columns))\n",
    "    padding_df = pd.DataFrame(np.zeros((X_df.shape[0], len(to_fill_columns))), \n",
    "                              columns=to_fill_columns, \n",
    "                              index=X_df.index)\n",
    "    X_df = pd.DataFrame(np.concatenate([df.values for df in [X_df, padding_df]], axis=1), \n",
    "                        index=X_df.index, \n",
    "                        columns=list(X_df.columns) + list(padding_df.columns))\n",
    "    X_df = X_df[gene_list]\n",
    "    \n",
    "    var = pd.DataFrame(index=X_df.columns)\n",
    "    var['mask'] = [1 if i in to_fill_columns else 0 for i in list(var.index)]\n",
    "    return X_df, to_fill_columns,var\n",
    "\n",
    "gene_list_df = pd.read_csv('/w5home/bmoore/scFoundation_model/model/OS_scRNA_gene_index.19264.tsv', header=0, delimiter='\\t')\n",
    "gene_list = list(gene_list_df['gene_name'])\n",
    "X_df= adata.to_df()\n",
    "X_df, to_fill_columns, var = main_gene_selection(X_df, gene_list)\n",
    "print(X_df)"
   ]
  },
  {
   "cell_type": "code",
   "execution_count": 36,
   "id": "2276790a",
   "metadata": {},
   "outputs": [
    {
     "name": "stderr",
     "output_type": "stream",
     "text": [
      "/w5home/bmoore/miniconda3/envs/scfound2/lib/python3.12/site-packages/scanpy/preprocessing/_highly_variable_genes.py:305: RuntimeWarning: invalid value encountered in log\n",
      "  dispersion = np.log(dispersion)\n"
     ]
    }
   ],
   "source": [
    "import skmisc\n",
    "# turn back to anndata object\n",
    "#get variable gene_list\n",
    "adata = sc.AnnData(X_df)\n",
    "sc.pp.highly_variable_genes(adata) # ,flavor=\"seurat_v3\""
   ]
  },
  {
   "cell_type": "code",
   "execution_count": 6,
   "id": "4c04db87",
   "metadata": {},
   "outputs": [
    {
     "name": "stdout",
     "output_type": "stream",
     "text": [
      "[False  True False ... False False False]\n"
     ]
    }
   ],
   "source": [
    "hvg_mask = adata.var['highly_variable'].values\n",
    "print(hvg_mask)"
   ]
  },
  {
   "cell_type": "code",
   "execution_count": 7,
   "id": "873c3de0",
   "metadata": {},
   "outputs": [
    {
     "name": "stdout",
     "output_type": "stream",
     "text": [
      "3125\n"
     ]
    }
   ],
   "source": [
    "hvg_indices = np.where(hvg_mask)[0]\n",
    "print(len(hvg_indices))"
   ]
  },
  {
   "cell_type": "code",
   "execution_count": 8,
   "id": "7d9cc038",
   "metadata": {},
   "outputs": [],
   "source": [
    "# get embedding\n",
    "cell_geneemb = np.load('/w5home/bmoore/scRNAseq/GAMM/GAMM_S2/Gamm_gene_embed/Gamm_01B-resolution_sc_gene_embedding_a5_cones-orthos.npy')"
   ]
  },
  {
   "cell_type": "code",
   "execution_count": 9,
   "id": "de9a3072",
   "metadata": {},
   "outputs": [
    {
     "name": "stdout",
     "output_type": "stream",
     "text": [
      "(516, 19264, 512)\n"
     ]
    }
   ],
   "source": [
    "print(cell_geneemb.shape)"
   ]
  },
  {
   "cell_type": "code",
   "execution_count": 10,
   "id": "b1fe7608",
   "metadata": {},
   "outputs": [
    {
     "name": "stdout",
     "output_type": "stream",
     "text": [
      "(516, 19264)\n"
     ]
    }
   ],
   "source": [
    "# get variable genes and merge with embedding\n",
    "\n",
    "# Get boolean mask of highly variable genes\n",
    "# hvg_mask = adata.var['highly_variable']\n",
    "\n",
    "# # Get indices where genes are highly variable\n",
    "# hvg_indices = np.where(hvg_mask)[0]\n",
    "\n",
    "# Now you can use these indices with your gene embeddings\n",
    "#geneemb_merge = cell_geneemb[:, hvg_indices, :].mean(0)\n",
    "geneemb_merge = cell_geneemb[:, :, 0]\n",
    "#geneemb_merge = cell_geneemb[:,selected_gene,:].mean(0)\n",
    "\n",
    "print(geneemb_merge.shape)\n"
   ]
  },
  {
   "cell_type": "code",
   "execution_count": 11,
   "id": "a95dea3c-887b-4a27-8891-d5eee9b4e36f",
   "metadata": {},
   "outputs": [
    {
     "name": "stdout",
     "output_type": "stream",
     "text": [
      "Number of genes in AnnData: 19264\n",
      "Number of genes in embeddings: 19264\n"
     ]
    }
   ],
   "source": [
    "\n",
    "# check that anndata and gene embddings line up\n",
    "anndata_genes = adata.var_names.tolist()\n",
    "# Check dimensions\n",
    "print(f\"Number of genes in AnnData: {len(anndata_genes)}\")\n",
    "print(f\"Number of genes in embeddings: {cell_geneemb.shape[1]}\")\n"
   ]
  },
  {
   "cell_type": "code",
   "execution_count": 12,
   "id": "5ba3c4c3",
   "metadata": {},
   "outputs": [
    {
     "name": "stdout",
     "output_type": "stream",
     "text": [
      "19264 19264\n",
      "['A1CF' 'A2ML1' 'AAAS' ... 'ZSWIM9' 'ZW10' 'ZWILCH'] 3125\n"
     ]
    }
   ],
   "source": [
    "# get hvg names\n",
    "print(len(anndata_genes), len(gene_list))\n",
    "hvg_genes=np.array(anndata_genes)[hvg_indices]\n",
    "print(hvg_genes, len(hvg_genes))"
   ]
  },
  {
   "cell_type": "code",
   "execution_count": 13,
   "id": "1bc4c76a",
   "metadata": {},
   "outputs": [
    {
     "name": "stdout",
     "output_type": "stream",
     "text": [
      "         A1CF     A2ML1      AAAS      AARD      AASS    ABCA13     ABCA5  \\\n",
      "1   -0.029065 -0.005372 -0.114743 -0.112098 -0.169690 -0.084562 -0.346212   \n",
      "2   -0.092340  0.004172 -0.100836 -0.128004 -0.117614 -0.043266 -0.249092   \n",
      "4   -0.077428 -0.003263 -0.105324 -0.128132 -0.132012 -0.064145 -0.305729   \n",
      "5   -0.100685  0.000377 -0.083629 -0.096238 -0.146213 -0.038254 -0.323039   \n",
      "6   -0.079831  0.011001 -0.090202 -0.162864 -0.121616 -0.120161 -0.200099   \n",
      "..        ...       ...       ...       ...       ...       ...       ...   \n",
      "509 -0.113288 -0.004302 -0.083514 -0.185191 -0.242597 -0.069888 -0.429932   \n",
      "510 -0.095878  0.014114 -0.084381 -0.168374 -0.019550 -0.080027 -0.317537   \n",
      "511 -0.100276  0.015107 -0.084346 -0.148606 -0.159394 -0.107632 -0.367042   \n",
      "512 -0.108053  0.009195 -0.090761 -0.159595 -0.138632 -0.034819 -0.310519   \n",
      "514 -0.099909  0.013776  0.010288 -0.203303 -0.152641 -0.040009 -0.364620   \n",
      "\n",
      "        ABCA9     ABCB8     ABCB9  ...    ZSCAN2   ZSCAN20   ZSCAN25  \\\n",
      "1   -0.140627 -0.157289 -0.030398  ... -0.004298 -0.064888 -0.078708   \n",
      "2   -0.148551 -0.075033  0.013764  ... -0.029348 -0.047648 -0.068024   \n",
      "4   -0.120727 -0.105219 -0.009937  ... -0.024160 -0.055399 -0.071109   \n",
      "5   -0.163991 -0.051553  0.024906  ... -0.020267 -0.043934 -0.052894   \n",
      "6   -0.140574 -0.056620  0.024415  ... -0.032477 -0.045502 -0.053984   \n",
      "..        ...       ...       ...  ...       ...       ...       ...   \n",
      "509 -0.225823 -0.082435  0.006692  ... -0.030891 -0.056272 -0.073782   \n",
      "510 -0.146657 -0.074151  0.022600  ... -0.036228 -0.052038 -0.103041   \n",
      "511 -0.201095 -0.067404  0.043179  ... -0.029400 -0.044339 -0.058901   \n",
      "512 -0.222583 -0.067770  0.033839  ... -0.042728 -0.050537 -0.059805   \n",
      "514 -0.187561 -0.073860  0.027728  ... -0.028468 -0.047219 -0.066916   \n",
      "\n",
      "      ZSCAN26    ZSCAN9    ZSWIM7    ZSWIM8    ZSWIM9      ZW10    ZWILCH  \n",
      "1   -0.067953 -0.162540 -0.022041 -0.065015 -0.150419 -0.069469 -0.011435  \n",
      "2   -0.071134 -0.102639 -0.053252 -0.076956 -0.110792 -0.072212 -0.031564  \n",
      "4   -0.071301 -0.151710 -0.043096 -0.073474 -0.137636 -0.077365 -0.021220  \n",
      "5   -0.066355 -0.084738 -0.048256 -0.072023 -0.109791 -0.086027 -0.032765  \n",
      "6   -0.061886 -0.191855 -0.054373 -0.082667 -0.110233 -0.081739 -0.027962  \n",
      "..        ...       ...       ...       ...       ...       ...       ...  \n",
      "509 -0.065580 -0.124690 -0.048362 -0.066620 -0.126857 -0.087258 -0.029507  \n",
      "510 -0.067813 -0.108304 -0.045219 -0.074490 -0.111909 -0.003360 -0.032738  \n",
      "511 -0.058028 -0.103669 -0.027957 -0.079956 -0.105123 -0.074706 -0.032924  \n",
      "512 -0.075252 -0.092281 -0.047145 -0.085814 -0.104312 -0.074210 -0.038622  \n",
      "514 -0.062389 -0.102668 -0.038244 -0.069530 -0.112174 -0.076380 -0.032756  \n",
      "\n",
      "[343 rows x 3125 columns]\n"
     ]
    }
   ],
   "source": [
    "# make gene embedding a dataframe\n",
    "gene_df = pd.DataFrame(geneemb_merge,columns=anndata_genes)\n",
    "#print(gene_df)\n",
    "gene_df_hvg =gene_df[hvg_genes]\n",
    "# subset gene embedding for highly variable ones\n",
    "df = gene_df_hvg.dropna()\n",
    "print(df)"
   ]
  },
  {
   "cell_type": "code",
   "execution_count": 14,
   "id": "9be44e3b-5320-4720-8ac1-d92f1f03a827",
   "metadata": {},
   "outputs": [
    {
     "name": "stdout",
     "output_type": "stream",
     "text": [
      "AnnData object with n_obs × n_vars = 3125 × 343\n"
     ]
    },
    {
     "name": "stderr",
     "output_type": "stream",
     "text": [
      "/w5home/bmoore/miniconda3/envs/scfound2/lib/python3.12/site-packages/anndata/_core/aligned_df.py:67: ImplicitModificationWarning: Transforming to str index.\n",
      "  warnings.warn(\"Transforming to str index.\", ImplicitModificationWarning)\n"
     ]
    }
   ],
   "source": [
    "# transpose to get genes as obs to be clustered\n",
    "gene_df_hvg_t = df.transpose()\n",
    "# create anndata obj\n",
    "gene_adata_hvg=sc.AnnData(gene_df_hvg_t)\n",
    "print(gene_adata_hvg)"
   ]
  },
  {
   "cell_type": "code",
   "execution_count": 15,
   "id": "79c72f22",
   "metadata": {},
   "outputs": [
    {
     "name": "stdout",
     "output_type": "stream",
     "text": [
      "(3125, 343)\n",
      "(3125, 343)\n"
     ]
    }
   ],
   "source": [
    "print(gene_adata_hvg.X.shape)\n",
    "print(gene_adata_hvg.shape)"
   ]
  },
  {
   "cell_type": "code",
   "execution_count": 16,
   "id": "6e320334",
   "metadata": {},
   "outputs": [
    {
     "data": {
      "text/plain": [
       "Index(['A1CF', 'A2ML1', 'AAAS', 'AARD', 'AASS', 'ABCA13', 'ABCA5', 'ABCA9',\n",
       "       'ABCB8', 'ABCB9',\n",
       "       ...\n",
       "       'ZSCAN2', 'ZSCAN20', 'ZSCAN25', 'ZSCAN26', 'ZSCAN9', 'ZSWIM7', 'ZSWIM8',\n",
       "       'ZSWIM9', 'ZW10', 'ZWILCH'],\n",
       "      dtype='object', length=3125)"
      ]
     },
     "execution_count": 16,
     "metadata": {},
     "output_type": "execute_result"
    }
   ],
   "source": [
    "# check gene names\n",
    "gene_adata_hvg.obs_names"
   ]
  },
  {
   "cell_type": "code",
   "execution_count": 17,
   "id": "4a55c3c3",
   "metadata": {},
   "outputs": [
    {
     "data": {
      "text/plain": [
       "array([[-0.02906548, -0.09234037, -0.07742777, ..., -0.10027619,\n",
       "        -0.1080528 , -0.0999092 ],\n",
       "       [-0.00537204,  0.00417174, -0.00326281, ...,  0.01510747,\n",
       "         0.00919463,  0.01377584],\n",
       "       [-0.11474253, -0.10083643, -0.10532365, ..., -0.08434556,\n",
       "        -0.09076057,  0.01028808],\n",
       "       ...,\n",
       "       [-0.15041886, -0.11079245, -0.13763575, ..., -0.10512296,\n",
       "        -0.10431167, -0.11217408],\n",
       "       [-0.06946907, -0.07221218, -0.07736467, ..., -0.07470612,\n",
       "        -0.07421009, -0.07637981],\n",
       "       [-0.01143494, -0.03156363, -0.02121995, ..., -0.03292383,\n",
       "        -0.03862242, -0.0327557 ]], dtype=float32)"
      ]
     },
     "execution_count": 17,
     "metadata": {},
     "output_type": "execute_result"
    }
   ],
   "source": [
    "# check embedding array\n",
    "gene_adata_hvg.X"
   ]
  },
  {
   "cell_type": "code",
   "execution_count": 18,
   "id": "b913fb9c-bdbe-4862-a9af-32da1c887e07",
   "metadata": {},
   "outputs": [
    {
     "name": "stderr",
     "output_type": "stream",
     "text": [
      "/w5home/bmoore/miniconda3/envs/scfound2/lib/python3.12/site-packages/scanpy/tools/_utils.py:41: UserWarning: You’re trying to run this on 343 dimensions of `.X`, if you really want this, set `use_rep='X'`.\n",
      "         Falling back to preprocessing with `sc.pp.pca` and default params.\n",
      "  warnings.warn(\n",
      "/w5home/bmoore/miniconda3/envs/scfound2/lib/python3.12/site-packages/tqdm/auto.py:21: TqdmWarning: IProgress not found. Please update jupyter and ipywidgets. See https://ipywidgets.readthedocs.io/en/stable/user_install.html\n",
      "  from .autonotebook import tqdm as notebook_tqdm\n",
      "/tmp/ipykernel_375397/3077276952.py:4: FutureWarning: In the future, the default backend for leiden will be igraph instead of leidenalg.\n",
      "\n",
      " To achieve the future defaults please pass: flavor=\"igraph\" and n_iterations=2.  directed must also be False to work with igraph's implementation.\n",
      "  sc.tl.leiden(gene_adata_hvg,resolution=2)\n"
     ]
    }
   ],
   "source": [
    "# cluster on embeddings\n",
    "sc.pp.neighbors(gene_adata_hvg) #use_rep='X'\n",
    "sc.tl.umap(gene_adata_hvg)\n",
    "sc.tl.leiden(gene_adata_hvg,resolution=2)"
   ]
  },
  {
   "cell_type": "code",
   "execution_count": 19,
   "id": "3fefbca9-874c-407e-ba14-15eb37ea32be",
   "metadata": {},
   "outputs": [
    {
     "data": {
      "image/png": "[encoded data removed]",
      "text/plain": [
       "<Figure size 640x480 with 1 Axes>"
      ]
     },
     "metadata": {},
     "output_type": "display_data"
    }
   ],
   "source": [
    "sc.pl.umap(gene_adata_hvg,color='leiden')"
   ]
  },
  {
   "cell_type": "code",
   "execution_count": 20,
   "id": "8c4180c7-5ad7-4d19-a9f5-e6f59209a715",
   "metadata": {},
   "outputs": [],
   "source": [
    "# get genes for each cluster\n",
    "import collections\n",
    "def get_metagenes(gdata):\n",
    "    metagenes = collections.defaultdict(list)\n",
    "    for x, y in zip(gdata.obs[\"leiden\"], gdata.obs.index):\n",
    "        metagenes[x].append(y)\n",
    "    return metagenes\n",
    "\n",
    "metagenes = get_metagenes(gene_adata_hvg)\n",
    "\n",
    "# Obtain the set of gene programs from clusters with #genes >= 5\n",
    "mgs = dict()\n",
    "for mg, genes in metagenes.items():\n",
    "    if len(genes) > 4:\n",
    "        mgs[mg] = genes"
   ]
  },
  {
   "cell_type": "code",
   "execution_count": 21,
   "id": "84c7f826",
   "metadata": {},
   "outputs": [
    {
     "name": "stdout",
     "output_type": "stream",
     "text": [
      "dict_items([('4', ['A1CF', 'ABHD5', 'ACP4', 'ACSL4', 'ADAM23', 'ADAMTS20', 'ADCY6', 'ALDH4A1', 'AMH', 'ANKRD6', 'ANKS6', 'ANOS1', 'ANXA13', 'AP3D1', 'AP5M1', 'ARHGAP22', 'ARHGEF38', 'ASF1A', 'ATG12', 'ATP10D', 'ATP6V1C1', 'BAIAP2L1', 'BCAT2', 'BCDIN3D', 'BEGAIN', 'BET1', 'BMF', 'BMP5', 'BORCS7', 'C2orf72', 'C3orf14', 'CAPN2', 'CAPNS1', 'CASP7', 'CASS4', 'CBARP', 'CD99L2', 'CDC20', 'CDKL3', 'CEP78', 'CFAP44', 'CFAP58', 'CFAP92', 'CFAP97D1', 'CGNL1', 'CHST10', 'CLEC11A', 'CNIH3', 'CNOT8', 'COL13A1', 'COL4A1', 'COLEC11', 'CORIN', 'COX11', 'CRYL1', 'CSMD1', 'CSTF2', 'CUBN', 'DAGLA', 'DCBLD1', 'DCT', 'DDHD2', 'DDR2', 'DLGAP2', 'DLGAP5', 'DTX1', 'DYRK1B', 'DZIP1L', 'ECM2', 'EFHC2', 'EFHD2', 'ELOVL6', 'ELP4', 'EPHA4', 'EYA4', 'FAM171A1', 'FAM178B', 'FAM216A', 'FAM227A', 'FANCD2', 'FBN2', 'FBXO17', 'FHL2', 'FRS3', 'FUT1', 'GAD2', 'GALNT9', 'GALT', 'GBP1', 'GJC1', 'GSDME', 'GTF2H2C', 'HAP1', 'HES2', 'HES5', 'HHIP', 'HMCN1', 'HS3ST5', 'HSD17B3', 'HTR1E', 'IGDCC4', 'IGFBPL1', 'IGFN1', 'IL12RB2', 'IQCK', 'IQUB', 'IRX1', 'ITPRID1', 'KCNC2', 'KCNIP2', 'KCNIP3', 'KIAA2012', 'KL', 'KLHL23', 'KNL1', 'KNTC1', 'L3MBTL1', 'LAMA3', 'LAMC1', 'LPCAT4', 'LRRC34', 'LRRC74A', 'LRRIQ3', 'LRRIQ4', 'LSR', 'LTA4H', 'LY6E', 'MAP3K8', 'MAP7D2', 'MEA1', 'MELK', 'MFSD6', 'MIEF2', 'MLIP', 'MORC1', 'MTO1', 'MYO9B', 'NAPSA', 'NCALD', 'NCAPG', 'NEK10', 'NELFA', 'NKAPL', 'NPC2', 'NPNT', 'NPRL3', 'NRP1', 'NRXN2', 'NTF4', 'NUDT9', 'NUP43', 'NXNL1', 'ORAI1', 'PACRGL', 'PDE3B', 'PDGFRB', 'PIH1D1', 'PIR', 'PLAC8', 'PLCXD3', 'PLS3', 'PLXNC1', 'PM20D1', 'PPCS', 'PPFIA4', 'PPP1R3E', 'PPP2R5B', 'PRAM1', 'PRDM14', 'PREB', 'PTCHD1', 'PTPRU', 'PXN', 'RAD52', 'RAVER2', 'RBMS1', 'REXO5', 'RGS3', 'RHBDL1', 'RMI1', 'RNF150', 'RPUSD1', 'RTN1', 'SCN2A', 'SCN4A', 'SEH1L', 'SEMA3D', 'SHC3', 'SLC12A1', 'SLC12A7', 'SLC16A7', 'SLC16A9', 'SLC24A3', 'SLC26A3', 'SLC2A12', 'SLC35A1', 'SLC35B3', 'SMTNL2', 'SPTBN5', 'SS18L1', 'ST6GALNAC1', 'ST8SIA1', 'ST8SIA2', 'STC2', 'STK32B', 'SVOPL', 'SYNM', 'TENT4A', 'TEP1', 'TKFC', 'TM9SF1', 'TMEM131L', 'TMEM209', 'TMEM74', 'TMIGD1', 'TNFAIP3', 'TOM1L1', 'TRANK1', 'TRHR', 'TRIM65', 'TRIM9', 'TSPAN10', 'TSPAN11', 'TTYH1', 'UBASH3B', 'ULK1', 'USP18', 'VAMP7', 'WDR24', 'WDR74', 'WEE1', 'WEE2', 'XAF1', 'XRCC2', 'XYLB', 'YARS2', 'YPEL1', 'ZBED9', 'ZMAT4', 'ZNF2', 'ZNF366', 'ZNF473', 'ZNF510', 'ZNF582', 'ZNF615', 'ZNF660', 'ZNF688']), ('8', ['A2ML1', 'ABCG5', 'ABHD4', 'ADGRE5', 'AKAP10', 'ALG2', 'ALKBH3', 'ANAPC4', 'ANGPTL2', 'APEX2', 'ARHGEF2', 'ARSA', 'B4GALNT4', 'BAIAP3', 'BAMBI', 'BCAR1', 'BEND6', 'BOLA2B', 'BPIFB3', 'BPIFC', 'C11orf80', 'CABLES1', 'CADM4', 'CALML4', 'CASP9', 'CATSPER2', 'CCDC71', 'CCDC81', 'CD276', 'CD58', 'CENPU', 'CHEK2', 'CHRNB3', 'CKS1B', 'CMC1', 'COX7A1', 'CPT1A', 'CRYBG3', 'CTDP1', 'CTNS', 'CUL4A', 'CYB561D1', 'CYP46A1', 'DEPDC1B', 'DHX34', 'DNAAF1', 'DNAI1', 'DND1', 'DPP6', 'DPYSL5', 'DRC1', 'ELMOD1', 'EMILIN1', 'ENKD1', 'ENTPD1', 'EPHB4', 'EPS8L1', 'ERICH3', 'ERICH6', 'FADS6', 'FANCC', 'FBXW2', 'FBXW4', 'FKBP11', 'FKBP9', 'FOXN4', 'GABARAP', 'GALNS', 'GAP43', 'GBX1', 'GEMIN5', 'GLIPR2', 'GRB14', 'GSAP', 'GSTO2', 'GTF3C3', 'HHLA2', 'HKDC1', 'HMSD', 'HNF1A', 'HOATZ', 'HSD11B1L', 'HSD17B2', 'HTR4', 'ICOSLG', 'IER5L', 'IFFO2', 'INPPL1', 'ISG20L2', 'ITGB4', 'KCNH8', 'KCNJ6', 'KIF14', 'KIF19', 'KIFC1', 'KIFC2', 'LEFTY2', 'LGALS4', 'LRFN5', 'LY6G6D', 'LYPD4', 'LYSMD1', 'MAOB', 'MCUR1', 'MEIOB', 'METTL6', 'MFAP3', 'MMP14', 'MRPL24', 'MRPL45', 'MS4A4E', 'MYCBP', 'MYO5C', 'NAPB', 'NAPEPLD', 'NOMO3', 'NR1H3', 'NTRK1', 'NUF2', 'PALM3', 'PAPLN', 'PARM1', 'PDCD2L', 'PDE7B', 'PGPEP1', 'PHF8', 'PHLDB3', 'PI4K2B', 'PIM1', 'PIP4K2C', 'PLAGL1', 'PLD2', 'PLEKHN1', 'PLPPR3', 'PLXNB3', 'POLI', 'PORCN', 'PPP1R42', 'PRKCB', 'PRKRIP1', 'PRR19', 'PRSS12', 'PTGES', 'RAB19', 'RAB29', 'RBM11', 'REPS2', 'RHOJ', 'RITA1', 'RNF113B', 'RNF125', 'RPS6KA1', 'RSPH4A', 'RUSC1', 'SALL1', 'SEMA6A', 'SETD7', 'SFXN2', 'SH3BGR', 'SH3BP5L', 'SKAP1', 'SLC18A1', 'SLC25A15', 'SLC25A32', 'SLC39A8', 'SLC47A1', 'SLC4A5', 'SLC9A3R2', 'SMIM14', 'SMIM45', 'SNTB1', 'SNX17', 'SNX21', 'SPAG1', 'SPATA16', 'SPATA24', 'SPHK2', 'ST8SIA6', 'SULT4A1', 'SUOX', 'SYT6', 'TBCCD1', 'TBXA2R', 'TCEAL1', 'TGFBR3', 'THG1L', 'TLCD1', 'TLCD5', 'TMOD1', 'TMSB15A', 'TNS3', 'TTLL9', 'TUBA8', 'TUBB6', 'TUBD1', 'TXNRD3', 'UPP1', 'USP21', 'UTP6', 'VAMP5', 'VAV2', 'VGLL3', 'YPEL2', 'ZNF26']), ('9', ['AAAS', 'ADAM15', 'AGTRAP', 'ALG12', 'ANKRD45', 'ARHGEF5', 'ARRDC4', 'ARSK', 'ATG16L2', 'ATIC', 'ATP11C', 'B3GALT2', 'B4GALT2', 'BLMH', 'BMP6', 'BRCA2', 'BRD3OS', 'BTBD19', 'BTN2A2', 'C11orf71', 'C18orf54', 'C1orf109', 'C4orf3', 'C4orf50', 'CACTIN', 'CALCOCO1', 'CD302', 'CDCP1', 'CDK2', 'CDNF', 'CEP152', 'CEP20', 'CERS2', 'CLK3', 'CLPP', 'CLPTM1L', 'CMTR2', 'CNOT3', 'CNPPD1', 'COMMD8', 'COMTD1', 'COQ9', 'CPVL', 'CSRP3', 'CTSO', 'CYP27A1', 'DCAF17', 'DDX19B', 'DGKA', 'DHX58', 'DIMT1', 'DMKN', 'DNAH8', 'DNAJC27', 'DVL1', 'EBI3', 'EFNA3', 'EGFL6', 'ELP6', 'ERAS', 'FAM102B', 'FAM174C', 'FAM200A', 'FAM50A', 'FBXL12', 'FERMT1', 'FGF7', 'FZD2', 'GAS2L1', 'GIMAP4', 'GNAT1', 'GPC2', 'GPRC5C', 'HACD4', 'HARS2', 'HAUS4', 'HPS3', 'HTR2C', 'IKZF1', 'IL33', 'INO80C', 'INPP1', 'IRAK1', 'IRAK3', 'ITGB1BP1', 'ITPKB', 'JMJD6', 'KEAP1', 'KIAA0408', 'KIAA1143', 'KSR1', 'LAMP5', 'LCN2', 'LIMD2', 'LIN9', 'LRP2BP', 'LYN', 'LYRM7', 'METAP1', 'MFSD1', 'MFSD5', 'MMS22L', 'MOB3A', 'MOV10', 'MPDU1', 'MTAP', 'MTERF1', 'MTIF3', 'NCF1', 'NCLN', 'NEDD9', 'NENF', 'NFATC1', 'NIBAN2', 'NMB', 'NSDHL', 'NSL1', 'NUDT15', 'NUDT22', 'NUDT7', 'OTUD1', 'P3H4', 'PARP11', 'PHEX', 'PHF2', 'PHLDB2', 'PKD1L2', 'PLD1', 'PNKP', 'POLG2', 'PRR5', 'PSMB10', 'PSMB9', 'QTRT1', 'RAP2B', 'RARRES1', 'RASSF2', 'RBM38', 'RBM48', 'RELT', 'RFC4', 'ROBO3', 'RPAIN', 'RPP25L', 'RPS16', 'RPUSD3', 'SEC14L1', 'SESN2', 'SH2B2', 'SHFL', 'SI', 'SKAP2', 'SLC25A1', 'SLC35A2', 'SLC39A1', 'SLITRK5', 'SLX4', 'SPACA6', 'SPATA5L1', 'SPOUT1', 'STK17B', 'STXBP2', 'SUPT6H', 'SYNGR2', 'TAF9B', 'TAFA1', 'TAP2', 'TBL1Y', 'TEX11', 'THAP8', 'THNSL2', 'TJAP1', 'TMEM184B', 'TMEM238', 'TMEM42', 'TNNI3', 'TRIM56', 'TRIQK', 'TRMT44', 'TSEN54', 'TSPAN8', 'TSPO', 'TTC9C', 'TTPAL', 'VSIG10', 'VSTM2B', 'WDR5B', 'YIF1B', 'ZDHHC14', 'ZFP82', 'ZHX3', 'ZMYM3', 'ZNF226', 'ZNF287', 'ZNF662', 'ZNF668', 'ZNF808', 'ZSCAN25', 'ZW10']), ('6', ['AARD', 'AASS', 'ABCA9', 'ABHD15', 'ACAP3', 'ALCAM', 'ALG8', 'ALOX15B', 'APC2', 'APEX1', 'ARHGEF1', 'ARID5B', 'ATAD5', 'ATP2A3', 'BAZ1A', 'BCAN', 'BCL2L11', 'BCL6', 'BPNT1', 'C17orf58', 'C1S', 'C4orf33', 'C4orf47', 'C5orf63', 'CASP8', 'CCDC28B', 'CEBPB', 'CENPF', 'CEP76', 'CFAP70', 'CFTR', 'CHMP7', 'CMTM6', 'CMTM7', 'CNKSR3', 'CNTNAP2', 'CNTNAP4', 'COL4A4', 'COX19', 'CPNE1', 'CRTAC1', 'CYP24A1', 'CYSTM1', 'DCDC2', 'DCXR', 'DENND2A', 'DEPDC7', 'DGKG', 'DSN1', 'DTWD1', 'EBP', 'EGFR', 'EPHB1', 'ERO1B', 'ESAM', 'FAM135B', 'FAM20A', 'FANCF', 'FASTKD2', 'FBLN5', 'FBXO4', 'FGFR1OP2', 'GABRG2', 'GATAD1', 'GGCX', 'GMEB1', 'GPANK1', 'GPC3', 'GPC6', 'GRIA2', 'GTF3A', 'HCN3', 'HGF', 'HID1', 'HMGCS2', 'HPR', 'HRK', 'IARS2', 'IGF1', 'IGFBP3', 'IL6R', 'IMPDH2', 'ING3', 'INSIG1', 'INSYN2A', 'INTS3', 'IQCH', 'ITPR2', 'JAKMIP2', 'KBTBD2', 'KCTD12', 'KHDRBS2', 'KIF11', 'KREMEN1', 'LARS2', 'LIX1L', 'LPL', 'LRCH4', 'MBLAC2', 'METTL23', 'MORN2', 'MRPS21', 'MRPS34', 'MTHFD1', 'MYC', 'MYRF', 'NAA40', 'NAA50', 'NAT10', 'NAV3', 'NDEL1', 'NDUFAF4', 'NLRC5', 'NMT2', 'NPL', 'NT5DC2', 'NWD1', 'OLFML2B', 'P2RY12', 'P4HA3', 'PAWR', 'PAX5', 'PCLO', 'PCSK4', 'PDCD6IP', 'PDIA4', 'PEX5', 'PKD2', 'PLAT', 'POLR3C', 'POLR3E', 'POMGNT1', 'PPIL3', 'PPP1R14C', 'PRELID3A', 'PRELID3B', 'PRKX', 'PRPS2', 'PRUNE2', 'RAPGEF5', 'RASGRP1', 'RBCK1', 'RDH12', 'RESF1', 'RGS12', 'RGS17', 'RIMKLA', 'RIMKLB', 'RORC', 'RPUSD2', 'SAMD4B', 'SCAMP3', 'SCD5', 'SCN3A', 'SELENOO', 'SERPINB1', 'SH3GL3', 'SHANK2', 'SHOC1', 'SHQ1', 'SHTN1', 'SIN3B', 'SLC13A4', 'SLC35F2', 'SLC35G2', 'SMYD4', 'SNX10', 'SPECC1', 'SPTLC2', 'ST3GAL5', 'ST6GALNAC2', 'STARD13', 'STK11IP', 'STK4', 'STX10', 'SYNJ2', 'TACO1', 'TBC1D22A', 'TCF7L1', 'TCOF1', 'TEAD4', 'TEX15', 'TF', 'THAP2', 'TIMM44', 'TMEM205', 'TMEM233', 'TMEM63A', 'TNFAIP8', 'TNNC2', 'TRIM26', 'TRIM38', 'TRMT13', 'UBLCP1', 'UCHL1', 'UGP2', 'ULK4', 'VSNL1', 'WDHD1', 'XRCC6', 'ZBTB4', 'ZMAT3', 'ZNF232', 'ZNF394', 'ZNF773']), ('2', ['ABCA13', 'ABCB8', 'ABCC2', 'ABHD8', 'ACADL', 'ACSM3', 'ADAM22', 'ADCK1', 'ADGRD2', 'AKAP1', 'ALDH2', 'ANXA4', 'ARFGAP3', 'ARHGAP21', 'ARHGAP27', 'ARHGEF17', 'ARID5A', 'ASNS', 'ASTN1', 'ATL1', 'ATP2B2', 'AURKB', 'B3GAT1', 'BCAS4', 'BCAT1', 'BRCA1', 'C11orf24', 'C15orf40', 'C16orf95', 'C2', 'C3orf49', 'C4B', 'C4orf19', 'C9orf72', 'CA5B', 'CACNG7', 'CALB1', 'CAPN6', 'CASKIN2', 'CAVIN4', 'CBX2', 'CCDC159', 'CCNG2', 'CD8A', 'CDC23', 'CDK19', 'CENPB', 'CFAP69', 'CHPF2', 'CLEC1A', 'CLSTN3', 'CNBD1', 'COG1', 'COL21A1', 'COL23A1', 'CPA5', 'CPSF1', 'CRTAP', 'CTSW', 'CYB561A3', 'DACT1', 'DAPP1', 'DAW1', 'DENND11', 'DHRS1', 'DMAC1', 'DNAH5', 'DNHD1', 'EAF1', 'ECE1', 'EDEM2', 'EEF1AKMT4', 'EMB', 'EMC8', 'ENG', 'ENTPD5', 'EPHA8', 'ERAP1', 'FAM102A', 'FAM167A', 'FAM229B', 'FAM83G', 'FBP2', 'FHL3', 'FLRT3', 'FLT3', 'FNDC7', 'FRRS1', 'GABRG3', 'GAS2', 'GCC1', 'GCNT7', 'GMPPA', 'GORASP1', 'GP1BB', 'GPATCH3', 'GPR137B', 'GPR63', 'GRIN2B', 'GRK1', 'GRM6', 'GRM7', 'GYG2', 'HAPLN1', 'HERC5', 'HERC6', 'HEY1', 'HOMER1', 'HPS1', 'IDUA', 'IFFO1', 'IGSF1', 'IL23R', 'INPP5B', 'ITGA11', 'JAG1', 'KCNH3', 'KCNJ13', 'KCNQ1', 'KCNV2', 'KIF18A', 'KIF27', 'KRBA1', 'LEF1', 'LETM2', 'LGR5', 'LRRC19', 'LRRC69', 'LYZ', 'MAD2L1BP', 'MAFB', 'MAP2K3', 'MAP3K20', 'MCOLN1', 'MDGA1', 'MDM2', 'MEIS3', 'METRNL', 'METTL1', 'METTL2B', 'MIPEP', 'MITF', 'MLF1', 'MOBP', 'MORN1', 'MRPL10', 'MRRF', 'MSRB3', 'MTERF2', 'MTM1', 'MYZAP', 'NAGPA', 'NAT9', 'NEIL3', 'NEK6', 'NEXMIF', 'NEXN', 'NKAIN3', 'NLRP5', 'NOC4L', 'NOP9', 'NOS2', 'NOTCH4', 'NR1D1', 'NR4A3', 'NT5DC3', 'NUAK1', 'NUAK2', 'NUDT6', 'NXN', 'OGFOD2', 'OLFM2', 'OSBP', 'P2RX6', 'P3H1', 'PAQR7', 'PAX2', 'PDGFA', 'PDP1', 'PECR', 'PHF21B', 'PHF24', 'PIGA', 'PIGX', 'PIH1D2', 'PIK3CD', 'PKHD1', 'PML', 'POC1B', 'POFUT1', 'PPARGC1A', 'PPP1R12C', 'PPP1R3B', 'PPP1R3F', 'PPP1R9B', 'PRDM16', 'PRKCH', 'PRKCQ', 'PRRX1', 'PTCD2', 'PWWP3B', 'RAB21', 'RAB22A', 'RAB23', 'RAB30', 'RAB9B', 'RADX', 'RASA3', 'RASSF9', 'RDH13', 'RFNG', 'RGS10', 'RHOG', 'RMDN3', 'RND2', 'RNF112', 'RSPH1', 'RUNDC1', 'SAXO2', 'SBNO2', 'SCML4', 'SCN3B', 'SEPTIN1', 'SIGLEC11', 'SLC16A5', 'SLC17A5', 'SLC24A1', 'SLC26A9', 'SLC35F6', 'SLC38A10', 'SLC38A5', 'SLC6A13', 'SOX11', 'SPA17', 'SPRYD4', 'ST18', 'ST6GALNAC6', 'STARD10', 'STARD5', 'SUPT7L', 'TACR1', 'TAFA4', 'TARBP2', 'TDRD12', 'TEX49', 'TH', 'TIAM1', 'TIGAR', 'TIGD4', 'TLL2', 'TM4SF20', 'TMCC2', 'TMEM134', 'TMEM14A', 'TMEM45A', 'TNFRSF17', 'TROAP', 'TSEN34', 'TSPAN33', 'TSR1', 'TTC23', 'TTC39B', 'UBQLN2', 'UNG', 'URB2', 'VAMP1', 'VAMP4', 'VPS39', 'WARS2', 'WDR91', 'WTIP', 'XPNPEP1', 'ZBTB10', 'ZBTB17', 'ZBTB7B', 'ZBTB9', 'ZC3H12B', 'ZC3H12C', 'ZDHHC12', 'ZFYVE28', 'ZIC1', 'ZNF202', 'ZNF235', 'ZNF488', 'ZNF524', 'ZNF543', 'ZNF79']), ('15', ['ABCA5', 'ADAM19', 'ADCY9', 'AFF2', 'ANGPT1', 'BCL7A', 'BEST3', 'BTG1', 'CCND3', 'CHGA', 'CLASRP', 'CLIC6', 'CNTNAP5', 'COL4A3', 'CREM', 'CYTH4', 'EEF2K', 'EFCAB12', 'ERCC4', 'FAM184A', 'FAT3', 'HRH2', 'HSPB11', 'INSR', 'LIN52', 'LRRC39', 'LRRC7', 'LRSAM1', 'MEGF11', 'NDUFC1', 'OGDHL', 'ORC2', 'PCBP1', 'PLCL1', 'PLEKHD1', 'PPP2R3A', 'PRDM6', 'PTGR1', 'QPRT', 'RASGRP3', 'RNF213', 'RPP30', 'RSAD1', 'SDK2', 'SFXN1', 'SH2D3A', 'SLC44A5', 'STK32A', 'STRA6', 'SUPT3H', 'TRIM44', 'ZBTB38', 'ZFP14', 'ZNF37A']), ('7', ['ABCB9', 'ABCC3', 'ACHE', 'ADAMTS16', 'ADAMTSL1', 'ADAP1', 'AFAP1', 'AGBL2', 'AK8', 'AKAP14', 'ALPL', 'ANO1', 'ARG1', 'ARHGEF28', 'ARMC12', 'ASB4', 'ASIC5', 'ASXL3', 'ATP6V0C', 'BSCL2', 'C10orf105', 'C2orf66', 'C8orf76', 'CASP10', 'CCDC38', 'CCNB1', 'CES3', 'CFAP126', 'CFAP91', 'CFC1B', 'CLCN1', 'COL4A2', 'CPLANE2', 'CSF1', 'CXorf38', 'CYP7B1', 'DAO', 'DBNDD1', 'DCLK3', 'DIS3L', 'DMPK', 'DOCK11', 'DOP1B', 'DRD2', 'DUSP19', 'ECEL1', 'EDC4', 'EFHB', 'ELL', 'EME2', 'EMP1', 'EPHX3', 'ESS2', 'EXD1', 'F10', 'FAH', 'FAM110A', 'FAM174B', 'FAM185A', 'FAM205C', 'FBXO41', 'FER1L6', 'FGD1', 'FGFBP3', 'FHIP1B', 'FHL1', 'FLOT1', 'FOLR2', 'GABRR1', 'GFRA3', 'GLOD5', 'GMPPB', 'GSTA4', 'GTPBP3', 'H2AC16', 'HCST', 'HIVEP2', 'HK3', 'HTD2', 'HVCN1', 'IFITM5', 'IGSF9B', 'INPP4A', 'IQSEC2', 'ITPRIP', 'JOSD1', 'KANK2', 'KCTD18', 'KCTD2', 'KIF5A', 'KLF8', 'KRTCAP3', 'LDAF1', 'LLGL1', 'LMTK3', 'LRRC73', 'MANEA', 'METTL13', 'MGAM', 'MINAR2', 'MOGAT1', 'MOSPD2', 'MPZL3', 'MTMR12', 'MUC19', 'MUC5B', 'MYLK4', 'MYO1A', 'MYOZ2', 'NAGA', 'NAPRT', 'NCF4', 'NDST4', 'NEURL4', 'NFS1', 'NGEF', 'NOCT', 'NRSN1', 'OASL', 'OCRL', 'OSGIN2', 'PCDH11Y', 'PCLAF', 'PDCL2', 'PDK2', 'PIK3R2', 'PMCH', 'POLL', 'POLR1H', 'PPP1R11', 'PPP1R16B', 'PYGM', 'RAB39A', 'RAB3IL1', 'RABGGTA', 'RAP2C', 'RASGRP2', 'RERG', 'RHNO1', 'RHOT2', 'RIC8A', 'RIMS3', 'RNF223', 'RTL6', 'SAP25', 'SEMA4A', 'SF3A1', 'SGCG', 'SHF', 'SIL1', 'SLC22A8', 'SLC25A41', 'SLC35E4', 'SLC36A1', 'SLC36A4', 'SLC38A6', 'SLC40A1', 'SLC4A4', 'SLC5A3', 'SLC6A17', 'SLIT3', 'SNUPN', 'SPR', 'SRR', 'STAC', 'SYCE2', 'SYNDIG1', 'SYTL5', 'TACSTD2', 'TMC6', 'TMEFF1', 'TMEM187', 'TMEM59L', 'TMEM62', 'TNXB', 'TOMM34', 'TP53I13', 'TRIM39', 'TST', 'TULP3', 'UBE2T', 'USB1', 'USP35', 'UST', 'VASP', 'VMO1', 'WDR73', 'YJU2B', 'ZBTB2', 'ZBTB6', 'ZC3H3', 'ZDHHC23', 'ZDHHC3', 'ZMYND10', 'ZNF133', 'ZNF250', 'ZNF362', 'ZNF502', 'ZNF526', 'ZNF555', 'ZNF565', 'ZNF585B', 'ZNF689', 'ZNF704']), ('1', ['ABCC10', 'ACAD9', 'ACTR8', 'ADCY10', 'AGA', 'AGXT2', 'AIRE', 'AK5', 'ALOX5', 'ALX3', 'AMER1', 'AMOT', 'ANKRD2', 'APBA2', 'ARHGAP36', 'ARHGAP8', 'ARHGEF26', 'AS3MT', 'ATAD3A', 'ATG10', 'ATP8B3', 'BAD', 'BAP1', 'BBOF1', 'BBS10', 'BCL11A', 'BHLHE40', 'BMP7', 'BRINP2', 'C11orf87', 'C2orf73', 'C4orf36', 'CACNA1S', 'CAP2', 'CATSPER1', 'CATSPERG', 'CCDC106', 'CCDC146', 'CCDC153', 'CCDC180', 'CCDC78', 'CCDC89', 'CDAN1', 'CDC25C', 'CDK15', 'CDO1', 'CDRT4', 'CEBPE', 'CELSR2', 'CENPN', 'CENPQ', 'CFAP221', 'CFAP300', 'CGREF1', 'CNRIP1', 'COLEC10', 'CPXM2', 'CRYZ', 'CTBP1', 'CYFIP1', 'DCLRE1A', 'DCLRE1B', 'DHCR7', 'DLEC1', 'DLX5', 'DMC1', 'DNASE1L2', 'DOCK6', 'DPF1', 'DRAXIN', 'DTX2', 'ECRG4', 'EDARADD', 'EGLN3', 'EHD2', 'EIF4EBP1', 'EXO5', 'FAM234A', 'FBXO31', 'FEN1', 'FERMT3', 'FGFR2', 'FHL5', 'FLNB', 'FOXP3', 'FOXRED2', 'FZD7', 'GCAT', 'GEMIN7', 'GHDC', 'GLI2', 'GLYCTK', 'GPR139', 'GPR180', 'GPR19', 'GPR87', 'GRM3', 'GTF2E1', 'GYS1', 'H2AC17', 'H2BC18', 'H2BC5', 'HAUS5', 'HBQ1', 'HDX', 'HS1BP3', 'HSD17B7', 'IFI30', 'IGFBP7', 'IL27RA', 'IQSEC3', 'IRF8', 'JUP', 'KCNK2', 'KCNMB4', 'KIAA0040', 'KIAA1671', 'KIAA1755', 'KIF7', 'KLF4', 'LACTBL1', 'LAT2', 'LEMD1', 'LMOD1', 'LONRF1', 'LRRC23', 'LRRC66', 'LRRC74B', 'LYSMD2', 'MAMSTR', 'MAP10', 'MAP3K19', 'MAP4K1', 'MASP2', 'MDFI', 'MEF2B', 'MEN1', 'MFAP3L', 'MFNG', 'MFSD4B', 'MIB2', 'MLH1', 'MMP2', 'MOB1A', 'MRAP', 'MROH1', 'MSMB', 'MT4', 'MTA3', 'MTHFSD', 'MYB', 'MYBPC2', 'MYD88', 'MYO5B', 'NABP1', 'NACC1', 'NAP1L2', 'NINJ1', 'NLRC3', 'NRSN2', 'NUP42', 'NYAP1', 'OBSCN', 'OGN', 'OPN5', 'ORAI3', 'OTOA', 'OTOL1', 'OXNAD1', 'P2RX4', 'P4HA2', 'PALD1', 'PCP4L1', 'PHACTR3', 'PHF19', 'PHOX2A', 'PIK3C2B', 'PLA1A', 'PLAC1', 'PLEKHG2', 'PLK1', 'PLK4', 'PLOD1', 'PLPPR2', 'PLSCR3', 'PLXNB2', 'POSTN', 'PP2D1', 'PPT1', 'PRXL2C', 'PTP4A3', 'PTPRT', 'PYCR1', 'PYGB', 'RAB31', 'RAD54L', 'RAG2', 'RCBTB2', 'RFC5', 'RFLNB', 'RHBDD3', 'RHCG', 'RHD', 'RHOBTB2', 'RILP', 'RILPL2', 'RIOK2', 'RND1', 'ROPN1L', 'RTL4', 'SAPCD1', 'SBK2', 'SCRT2', 'SDR42E1', 'SFMBT2', 'SGCD', 'SHISA8', 'SHOX2', 'SLC10A3', 'SLC10A6', 'SLC13A1', 'SLC25A30', 'SLC30A10', 'SLC34A2', 'SLC4A2', 'SLIT1', 'SMIM36', 'SMPDL3A', 'SNX1', 'SNX16', 'SORCS3', 'SPACA9', 'SRL', 'ST8SIA3', 'STPG4', 'STX1B', 'SULT2B1', 'SURF2', 'TBC1D8B', 'TBXAS1', 'TEKT1', 'TEKT3', 'TEN1', 'TEX30', 'TGFBI', 'THRSP', 'TIGD2', 'TINF2', 'TLCD4', 'TMEM132A', 'TMEM132D', 'TMEM150A', 'TMEM163', 'TMEM170A', 'TMEM179B', 'TMEM220', 'TMEM229B', 'TMEM25', 'TMEM268', 'TMEM43', 'TMEM44', 'TMEM8B', 'TMEM91', 'TMUB1', 'TRIM10', 'TRIM3', 'TRIM72', 'UHMK1', 'UNC13D', 'UNC5B', 'URAD', 'VASH2', 'VPS37D', 'VSTM4', 'WDR49', 'WIZ', 'XPO5', 'YIPF2', 'ZC2HC1B', 'ZC2HC1C', 'ZGRF1', 'ZKSCAN5', 'ZNF18', 'ZNF365', 'ZNF408', 'ZNF449', 'ZNF454', 'ZNF536', 'ZNF546', 'ZNF572', 'ZNF703', 'ZNF77', 'ZNF791']), ('0', ['ABCC6', 'ACAA2', 'ACAD11', 'ACOX2', 'ACP6', 'ACRBP', 'ACSF3', 'ACSL5', 'ACSM5', 'ACVR2B', 'ADCY3', 'ADGRL4', 'AIDA', 'ALG5', 'ALKBH8', 'ANKAR', 'ANKRD49', 'ANKRD50', 'ANPEP', 'AOPEP', 'APOBEC3F', 'APOBEC3H', 'ARHGAP29', 'ARMC5', 'ASNSD1', 'ATAD2', 'ATG2A', 'ATL3', 'ATOH8', 'ATP4B', 'ATP8B2', 'BBS12', 'BGLAP', 'BTBD3', 'C12orf56', 'C19orf47', 'C19orf84', 'C1orf105', 'C1orf87', 'C22orf39', 'C3orf84', 'C9', 'CABP1', 'CACNA1E', 'CACNB4', 'CADPS2', 'CAPS2', 'CARHSP1', 'CCDC141', 'CCDC170', 'CCDC171', 'CCDC51', 'CCNA2', 'CCNB3', 'CCSAP', 'CD24', 'CD82', 'CDH6', 'CEACAM21', 'CELF5', 'CEMIP', 'CEND1', 'CEP250', 'CFB', 'CHIC1', 'CHKA', 'CHRM2', 'CIAO3', 'CIT', 'CKMT2', 'CLEC1B', 'CLHC1', 'CMYA5', 'CNMD', 'COL14A1', 'COPS7B', 'CRABP2', 'CRACR2A', 'CRYBB1', 'CTSA', 'CYB5D2', 'CYP2U1', 'DAB2', 'DERA', 'DGCR8', 'DIO2', 'DISP3', 'DKK1', 'DNAAF11', 'DNAJB9', 'DNPH1', 'DOLK', 'DPEP2', 'DPP3', 'DSG2', 'DUOXA1', 'ECT2', 'EDEM1', 'EIF5A2', 'ENOSF1', 'ENPP3', 'EPB41L4B', 'ESRP2', 'ETV1', 'EVC2', 'EXOSC5', 'EXOSC6', 'FADD', 'FAM110B', 'FAM111B', 'FAM151B', 'FAM3B', 'FAM86B2', 'FAS', 'FBXO6', 'FCHO1', 'FGF18', 'FHOD1', 'FKBP10', 'FLOT2', 'FLT3LG', 'FLYWCH2', 'FOSL2', 'FOXO1', 'FPGS', 'GABRB3', 'GAD1', 'GALNT14', 'GANC', 'GDF9', 'GIT1', 'GLB1', 'GLIPR1L1', 'GLMP', 'GMEB2', 'GNG4', 'GSPT2', 'GSTZ1', 'H2AC6', 'HDAC7', 'HGH1', 'HIC2', 'HIF3A', 'HROB', 'HS6ST1', 'ICAM1', 'IFI44', 'IL23A', 'INCA1', 'INSC', 'KCNA4', 'KCNJ10', 'KIF20B', 'KIF24', 'KLHDC4', 'KLHL13', 'LACTB', 'LDHC', 'LIPA', 'LNX1', 'LOXL3', 'LRMDA', 'LRR1', 'LRRC58', 'LYRM9', 'MAB21L2', 'MAPK8IP2', 'MARVELD2', 'MCEE', 'MCUB', 'MEIG1', 'MEIOC', 'MND1', 'MOSPD1', 'MRM3', 'MSTN', 'MVP', 'NAGLU', 'NAGS', 'NALCN', 'NEMP1', 'NIPAL1', 'NOVA2', 'NPFFR2', 'NPR2', 'NRG3', 'NSG2', 'NXNL2', 'NYX', 'OARD1', 'OAS2', 'OBSL1', 'OMD', 'ORC5', 'ORC6', 'OSBPL5', 'OTOS', 'PCDH19', 'PGBD1', 'PIGO', 'PIGS', 'PIK3AP1', 'PLCB3', 'PLEKHO2', 'PNOC', 'PON1', 'PPP1R1A', 'PRCP', 'PRICKLE1', 'PRKAB2', 'PRKCG', 'PSEN2', 'PSPN', 'PTX4', 'PYCR2', 'QPCT', 'RAB35', 'RAB9A', 'RAD51D', 'RAD9B', 'RAPH1', 'RASSF7', 'RBM20', 'RBM47', 'RCN3', 'REXO4', 'RHBDF1', 'RIBC1', 'RIOX1', 'RIOX2', 'RNF144A', 'RNF25', 'RNFT1', 'RPP25', 'RRP12', 'S100A2', 'SAC3D1', 'SCN5A', 'SDR42E2', 'SEC24D', 'SFT2D2', 'SGMS2', 'SH3D19', 'SHANK1', 'SHISAL1', 'SIGMAR1', 'SIX5', 'SLC10A4', 'SLC25A38', 'SLC41A3', 'SLC7A4', 'SLC9A4', 'SLC9A7', 'SMG5', 'SMN2', 'SMO', 'SNX11', 'SP110', 'SPEF1', 'ST8SIA4', 'SV2A', 'TANGO2', 'TAPBPL', 'TCAP', 'TECTA', 'THAP1', 'THEGL', 'TICRR', 'TMEM151B', 'TMEM186', 'TMEM35A', 'TNFAIP8L3', 'TNNI3K', 'TRIOBP', 'TRIP13', 'TSTD1', 'TTC32', 'TUBB4A', 'UCN', 'URGCP', 'VANGL1', 'VIPR2', 'WDR62', 'WDR93', 'WNT1', 'ZBTB14', 'ZBTB21', 'ZFHX2', 'ZKSCAN2', 'ZNF177', 'ZNF212', 'ZNF217', 'ZNF316', 'ZNF518B', 'ZNF576', 'ZNF658', 'ZNF793', 'ZNF835', 'ZSCAN20', 'ZSCAN26', 'ZSWIM7']), ('14', ['ABCC9', 'ADAMTS14', 'ADAMTS15', 'AIF1L', 'ANG', 'AXL', 'BST2', 'CAPS', 'CATIP', 'CCDC8', 'CFAP45', 'CLDN1', 'COL4A5', 'CPSF4L', 'CRYBB3', 'CSRP1', 'DNAJB13', 'DNASE1L1', 'EFNA1', 'F2R', 'FAM166B', 'FBLN7', 'FOLH1', 'FOSB', 'FOXJ1', 'FRZB', 'GARIN1B', 'GM2A', 'GRAMD2B', 'HEPACAM', 'HEY2', 'ID3', 'JPH2', 'KCNG1', 'KLF5', 'KLHL14', 'LHX9', 'LIPM', 'LKAAEAR1', 'LRTM1', 'MAL2', 'MDFIC', 'MET', 'MINAR1', 'MMP25', 'MOXD1', 'MRC2', 'NECAB3', 'NID2', 'NOTCH3', 'PDGFRL', 'PID1', 'PRR7', 'PTGER4', 'RBPMS', 'RGCC', 'RRAS', 'RTP1', 'SLC16A2', 'SLC2A9', 'SLC7A2', 'SNED1', 'SOX8', 'SPTLC3', 'SQOR', 'SSPN', 'THBD', 'TIMP4', 'TMEM221', 'TMEM40', 'TMEM52', 'TRABD2B', 'ZBBX']), ('5', ['ABCD1', 'ABTB1', 'ACADS', 'ACOT12', 'ADAP2', 'ADHFE1', 'ADPRH', 'AGBL5', 'AGPAT4', 'ANKRD37', 'APTX', 'ARHGAP28', 'ARMCX4', 'ASIC1', 'B4GALT3', 'B4GALT4', 'B4GALT5', 'BAHD1', 'BLM', 'C19orf81', 'C21orf62', 'CACNG1', 'CAMK1', 'CAPN15', 'CAT', 'CATSPERB', 'CCDC175', 'CCDC61', 'CELSR1', 'CEP44', 'CFAP251', 'CFAP276', 'CHST8', 'CMTM4', 'CNN1', 'CNTNAP3C', 'COBL', 'COL28A1', 'COX10', 'CPLX2', 'CSAD', 'CSRNP1', 'CTXN1', 'CUX2', 'CYB5RL', 'CYBC1', 'DEFB103B', 'DEUP1', 'DHX35', 'DNAH2', 'DNAH3', 'DNAI4', 'DPH2', 'DPYSL4', 'EDA', 'EFCAB10', 'EFCAB11', 'EFCAB6', 'EIF4E3', 'ELMOD3', 'ENO4', 'ERBB2', 'ESR2', 'FAAP100', 'FBF1', 'FGF12', 'FGF14', 'FNDC1', 'FOXN2', 'FRRS1L', 'GALC', 'GALNTL5', 'GALR2', 'GIMD1', 'GLDN', 'GPC4', 'GPR39', 'GRIN2A', 'GRK2', 'GRM8', 'GXYLT1', 'H2AC13', 'HCFC1R1', 'HEMK1', 'HMG20B', 'HPCAL4', 'HPD', 'HSCB', 'HSPB8', 'HYLS1', 'IDS', 'IFT27', 'IFT52', 'IQCD', 'KCNH5', 'KLB', 'LDB2', 'LHX6', 'LMAN1L', 'LRGUK', 'LRRC4', 'LTBP1', 'LZTR1', 'LZTS1', 'MAP2K6', 'MAP3K15', 'MAST3', 'MED20', 'MGLL', 'MKNK1', 'MOGS', 'MORN5', 'MROH6', 'MSR1', 'MTARC2', 'MTFR2', 'MTRF1', 'MYOM1', 'MYOM3', 'NBL1', 'NDST2', 'NOX4', 'NPEPL1', 'NRAP', 'NSUN4', 'NUDT16L1', 'ODAD4', 'PARP16', 'PDPK1', 'PEX19', 'PGAP4', 'PHACTR1', 'PKNOX2', 'PLPP7', 'PNPLA2', 'POLD1', 'PPL', 'PRAG1', 'PRKAG2', 'PRUNE1', 'PTPA', 'PTPN22', 'PUDP', 'QSOX1', 'RAB27B', 'RARG', 'RASEF', 'RBPMS2', 'REM2', 'RENBP', 'RFFL', 'RFTN2', 'RFX2', 'RGS4', 'RHOD', 'RIPK1', 'RNF14', 'RPH3A', 'RRAGA', 'SCNN1D', 'SCT', 'SDC3', 'SENP1', 'SH3BP2', 'SHROOM4', 'SIAE', 'SKI', 'SLC16A11', 'SLC25A24', 'SLC2A13', 'SLC37A2', 'SLC41A2', 'SLC9A1', 'SLX1B', 'SMYD2', 'SNCG', 'SNX25', 'SOGA3', 'SPATA1', 'SPATA18', 'SPC24', 'SPINK8', 'SPSB1', 'STARD4', 'SYT12', 'SYT7', 'TBX6', 'TENM4', 'TIRAP', 'TLE2', 'TMEM17', 'TMEM51', 'TMEM60', 'TMEM94', 'TOP3B', 'TP53RK', 'TRAPPC11', 'TTBK1', 'TTC38', 'UNC5D', 'UPK1B', 'VASN', 'VSIG10L', 'VSTM2L', 'VTCN1', 'VWA5B2', 'WASHC2C', 'ZBTB7C', 'ZMYND12', 'ZNF14', 'ZNF302', 'ZNF322', 'ZNF35', 'ZNF583', 'ZNF653']), ('10', ['ABCD2', 'ACAD10', 'ADGRF5', 'AMIGO2', 'ANXA11', 'ARHGEF19', 'ARSD', 'ATP6V1G3', 'B3GNTL1', 'BAG3', 'BEX5', 'BICRA', 'BMP2', 'C19orf54', 'CAPN9', 'CCDC103', 'CCDC122', 'CD207', 'CD5L', 'CD80', 'CDH4', 'CDR2L', 'CFAP52', 'CHST7', 'CMC4', 'CMKLR2', 'CNTF', 'CNTN3', 'COPZ2', 'CPEB2', 'CPQ', 'CREB3L1', 'CRIP3', 'CWH43', 'CYB5R1', 'CYSLTR1', 'DENND3', 'DHRS3', 'DNAI3', 'DOCK10', 'DYNC1I1', 'EARS2', 'ELAPOR2', 'ENO3', 'EPHX1', 'FAM161B', 'FAM53A', 'FIZ1', 'FKBP14', 'FOSL1', 'FSTL4', 'GAB2', 'GABRB2', 'GALR3', 'GARIN2', 'GFER', 'GFPT2', 'GJC2', 'GPR108', 'GPR156', 'GREB1L', 'GRHL1', 'GRPR', 'GTPBP2', 'HDDC3', 'HIPK4', 'HSPG2', 'IFIT5', 'IFRD2', 'IMPACT', 'IRAG1', 'IRF6', 'KCNMA1', 'KCTD6', 'LENG9', 'LMF2', 'LMNTD2', 'LRRC45', 'LY6H', 'LY6L', 'MAPK7', 'MBOAT1', 'MCTP1', 'METTL22', 'MFSD2A', 'MIIP', 'MON1A', 'MSANTD2', 'MTHFS', 'MXD3', 'N4BP2L1', 'NEIL2', 'NHSL1', 'NSUN5', 'NT5M', 'NTRK2', 'OPRM1', 'ORM2', 'PANX1', 'PDGFD', 'PECAM1', 'PGM2', 'PHETA1', 'PIGBOS1', 'PLA2G6', 'PLEKHA4', 'PLEKHG1', 'PLEKHG4B', 'PLOD3', 'PPFIBP1', 'PPM1N', 'PPP1R37', 'PRELP', 'PRSS22', 'PTGER3', 'PTK2B', 'PTPN18', 'PTPRH', 'RAB32', 'RALGDS', 'RAMP2', 'RDH14', 'RHOXF1', 'RNF32', 'RP1L1', 'RP2', 'RPS6KA2', 'RSPH10B2', 'RSPH9', 'SAMD14', 'SBSPON', 'SCRIB', 'SDHAF4', 'SEMA4G', 'SERINC2', 'SIK1', 'SLC16A13', 'SLC16A14', 'SLC25A42', 'SLC2A2', 'SLC44A3', 'SLCO3A1', 'SPACDR', 'SPAG17', 'SPDEF', 'SPDL1', 'SPIC', 'SPRED1', 'ST6GALNAC5', 'STEAP1B', 'STOM', 'STOML1', 'TDRD1', 'THAP4', 'THAP9', 'THRA', 'TIAM2', 'TMEM101', 'TMEM106A', 'TMEM120A', 'TMLHE', 'TNMD', 'TNS1', 'TREX1', 'TTC29', 'TTC39A', 'TTC4', 'TTPA', 'TXNDC5', 'UBE2QL1', 'USP31', 'VEPH1', 'WDR86', 'WIPI1', 'YOD1', 'ZDHHC7', 'ZMIZ2', 'ZNF213', 'ZNF34', 'ZNF630', 'ZNF786']), ('16', ['ABHD2', 'AKT1S1', 'ARVCF', 'BTBD1', 'CAMK1G', 'CCDC117', 'CLDN34', 'ELOVL7', 'FAM20B', 'FKTN', 'GPC1', 'HYAL3', 'IFTAP', 'IRAK2', 'KIAA0513', 'KIF6', 'KLHDC3', 'LRP5', 'LRRN3', 'MAPK8IP1', 'MCM8', 'METTL21C', 'MOSPD3', 'NLE1', 'PACC1', 'PARVA', 'PLEKHH2', 'PMVK', 'RPUSD4', 'SFI1', 'SMIM29', 'STRN4', 'SUPV3L1', 'TAF4', 'TFE3', 'TK2', 'TMEM109', 'TRMT10B', 'WIPF2', 'ZFYVE1', 'ZNF239']), ('11', ['ABITRAM', 'ADGRL1', 'ALKBH2', 'ALOX5AP', 'ANAPC5', 'ARHGEF39', 'ARL4D', 'ASTE1', 'BACE2', 'BET1L', 'C2orf74', 'C6orf89', 'CA11', 'CASP2', 'CCDC60', 'CD99', 'CDC42SE1', 'CDH1', 'CDR2', 'CLDN19', 'CNP', 'COA4', 'COL22A1', 'CREB3L2', 'CTU2', 'DAGLB', 'DDX41', 'DLX6', 'DNA2', 'DNAJC30', 'DNALI1', 'DZIP3', 'E2F6', 'ECH1', 'EID2', 'ERICH2', 'EVI2A', 'EXOSC7', 'FAM13C', 'FAM217B', 'FES', 'FLVCR1', 'FLYWCH1', 'GNPAT', 'GRWD1', 'GUCD1', 'HEBP2', 'HSD17B10', 'IFT22', 'IGSF6', 'IQCB1', 'ISCA2', 'ITGA10', 'ITPR3', 'JAML', 'KBTBD3', 'KCNC4', 'KIF1C', 'KIF2C', 'KIF9', 'KLF15', 'KLHDC9', 'KLHL36', 'KLHL9', 'KRT19', 'LIFR', 'LRRC56', 'LTBP3', 'LTBR', 'LTF', 'LYRM1', 'MAD2L1', 'MARS2', 'MCPH1', 'MECP2', 'MEP1B', 'METTL18', 'METTL24', 'MICALL2', 'MMAB', 'MON1B', 'MPV17', 'MRPS17', 'MTPAP', 'MYBPC1', 'MYO7B', 'NHLRC3', 'NME6', 'NOM1', 'NOX1', 'NPPC', 'OCIAD2', 'P3H3', 'PCED1A', 'PCK2', 'PDPR', 'PHOSPHO2', 'PIDD1', 'PIN4', 'PLPP5', 'POLD4', 'POR', 'PPM1K', 'PRRC1', 'PRRT1', 'PTGR2', 'PTTG2', 'RAD51C', 'RANBP3L', 'REST', 'RFX5', 'RRM2', 'RRP8', 'RWDD3', 'SAAL1', 'SBF1', 'SC5D', 'SCYL1', 'SELENOK', 'SKOR2', 'SLC16A6', 'SMC2', 'SMIM13', 'SYT4', 'TBC1D2B', 'TC2N', 'TCEAL9', 'TEPSIN', 'TMEM138', 'TMEM167B', 'TMEM223', 'TMEM240', 'TNS2', 'TP73', 'TRIM52', 'TTC26', 'TUBB1', 'TUT7', 'TWF2', 'UACA', 'UBXN2B', 'UROD', 'UTP18', 'UXS1', 'VAMP8', 'WDR18', 'WDR89', 'ZCCHC4', 'ZNF350', 'ZNF383', 'ZNF527', 'ZNF554', 'ZNHIT2', 'ZSCAN9']), ('3', ['ACAP1', 'ACOT9', 'ADAM12', 'ADAMTS10', 'ADARB2', 'ADCY8', 'ADGRL3', 'AGBL1', 'AGT', 'AKT2', 'ALDH1L2', 'ALG3', 'AMZ2', 'ANO4', 'APH1B', 'APOBEC2', 'ARAP1', 'ARHGAP15', 'ARMCX2', 'ATP13A1', 'ATP8B4', 'BATF3', 'BBS2', 'BLVRB', 'BRD8', 'BRIP1', 'BYSL', 'C2orf68', 'CACNG8', 'CBX7', 'CCDC158', 'CCDC167', 'CCDC24', 'CCDC28A', 'CCDC57', 'CCDC92', 'CCL28', 'CD38', 'CDH7', 'CDH9', 'CDYL', 'CEP41', 'CEP43', 'CERS1', 'CFAP410', 'CFLAR', 'CNTN2', 'COG8', 'COL24A1', 'CPEB1', 'CPED1', 'CRTC2', 'CSF2RB', 'CTH', 'CTNNA2', 'CXCL12', 'DCX', 'DDC', 'DGAT2', 'DGKH', 'DLAT', 'DRC3', 'DSC2', 'DUS3L', 'EDNRB', 'EHD1', 'EIF2D', 'EIF4EBP3', 'ELOVL5', 'ELP5', 'EMID1', 'ENOX2', 'ENPP1', 'ENPP2', 'ENPP5', 'ENPP6', 'ERICH1', 'FAM110C', 'FAM228A', 'FAM228B', 'FAM81B', 'FBN3', 'FBP1', 'FBXO25', 'FCAMR', 'FOCAD', 'FOXP2', 'FREM2', 'FRMPD4', 'FUNDC2', 'GABPB2', 'GABRB1', 'GALP', 'GAMT', 'GINS1', 'GINS2', 'GNG7', 'GPC5', 'GPLD1', 'GPRASP1', 'GPRC5B', 'GPX3', 'GRAMD4', 'GRIA4', 'GSDMB', 'HARBI1', 'HIP1R', 'HK2', 'HSF5', 'IKZF4', 'IL16', 'IL17RB', 'IL1RAP', 'INTS14', 'IPP', 'IQCA1', 'IQGAP1', 'ITGA2', 'ITGA3', 'KCNH2', 'KLHDC8B', 'LACTB2', 'LAMA2', 'LAMA5', 'LDLRAD4', 'LIN54', 'LMO2', 'LRCH2', 'LRRC27', 'LRRC4B', 'LXN', 'MAST2', 'MERTK', 'MICB', 'MKNK2', 'MMS19', 'MORN4', 'MPV17L2', 'MSANTD3', 'MTMR1', 'MTX2', 'MYO18B', 'MYO1C', 'MYPN', 'NEBL', 'NEPRO', 'NFKB2', 'NME9', 'NOB1', 'NUDCD1', 'OSGIN1', 'PALM', 'PARP9', 'PCDH10', 'PCSK7', 'PDRG1', 'PFKFB2', 'PHACTR2', 'PHF23', 'PIK3C2G', 'PIWIL2', 'PLEKHM2', 'PLGRKT', 'PLSCR1', 'PRDX1', 'PRPSAP2', 'PRRT3', 'PTDSS1', 'PTPRG', 'PUS1', 'PUS3', 'RAB11FIP4', 'RAD51', 'RARB', 'RASAL1', 'RBM45', 'RECK', 'RELL1', 'RELN', 'RFC3', 'RIPK2', 'RIPOR2', 'RNF180', 'RNF227', 'RPIA', 'RTKN', 'RYR3', 'SAMD4A', 'SDK1', 'SELENBP1', 'SEMA3B', 'SEPSECS', 'SGK1', 'SGPL1', 'SLC12A4', 'SLC17A6', 'SLC18B1', 'SLC25A39', 'SLC26A8', 'SLC29A2', 'SLC2A5', 'SLC44A2', 'SLC46A3', 'SLC7A9', 'SLPI', 'SOX13', 'SP100', 'SPACA3', 'SPAG4', 'SPAG6', 'SPDYA', 'SPEF2', 'SPG11', 'SPON2', 'ST3GAL1', 'ST8SIA5', 'STAT4', 'STAT5A', 'STC1', 'STUM', 'SUMF2', 'SWAP70', 'SYNGAP1', 'SYTL3', 'TAPBP', 'TATDN2', 'TBX20', 'TCF20', 'TEC', 'TFB2M', 'TFEB', 'TG', 'THOC6', 'TIFA', 'TMEM71', 'TNFRSF21', 'TP53', 'TRIP10', 'TRMU', 'TSSK4', 'TUBA4B', 'TUBGCP2', 'TXNL4B', 'UFM1', 'UGGT2', 'ULK3', 'UMPS', 'UTRN', 'UVSSA', 'VAT1', 'VGLL4', 'VPS35L', 'VWA1', 'WDR76', 'WNK2', 'WRAP53', 'XKR4', 'YPEL4', 'ZCCHC10', 'ZDBF2', 'ZDHHC15', 'ZNF558', 'ZNF570', 'ZNF672', 'ZNF684', 'ZNF771', 'ZNF804B', 'ZSWIM9']), ('12', ['ACP2', 'ACTR5', 'ADAMTS7', 'ADAT1', 'ADGRA2', 'AFMID', 'ANKRD34B', 'AP4B1', 'AP5Z1', 'ARHGAP19', 'ATXN7L3', 'C12orf43', 'C19orf85', 'C20orf204', 'C9orf24', 'CALR3', 'CBS', 'CCDC134', 'CCN1', 'CCNB2', 'CCNQ', 'CDC45', 'CENPH', 'CHD1L', 'CHKB', 'CLSPN', 'CNGA1', 'CNPY4', 'COLGALT1', 'CRAMP1', 'CRAT', 'DGKZ', 'DIRAS3', 'DLG3', 'DPH6', 'DUSP6', 'DZIP1', 'EGLN2', 'ERFL', 'ETS1', 'EXPH5', 'FAHD1', 'FAM221B', 'FBXO15', 'FITM1', 'FKRP', 'FTCDNL1', 'FYB1', 'G6PC3', 'GAA', 'GADL1', 'GARS1', 'GCDH', 'GIPC2', 'GNRH1', 'GOLT1B', 'GRIN2D', 'GTF2H4', 'GVQW3', 'HSD17B11', 'JMJD7', 'KCTD14', 'KDM1B', 'LIAS', 'LIMA1', 'LIMD1', 'LRRC2', 'MESP1', 'MILR1', 'MISP3', 'MLST8', 'MMAA', 'MTMR14', 'NCKIPSD', 'NSMAF', 'NUP133', 'NXT2', 'PALM2AKAP2', 'PCNX3', 'PHC1', 'PLEK2', 'PPP1R3D', 'PRTFDC1', 'PSME2', 'RAB8A', 'RABL3', 'RAD1', 'RBM7', 'RIPK4', 'SERTAD1', 'SLC12A9', 'SLC25A27', 'SLC7A7', 'SPATC1', 'ST6GALNAC4', 'STBD1', 'STK10', 'SYCP3', 'SYK', 'TAMALIN', 'TCP11L1', 'TDP1', 'TFR2', 'TLCD2', 'TMEM169', 'TMPRSS11F', 'TNNT2', 'TOMM20L', 'TP53I11', 'TRMT61B', 'TSNAXIP1', 'TUBA3C', 'UBOX5', 'VARS2', 'VEGFD', 'VPS33B', 'VWA5B1', 'WASF1', 'WNT9B', 'ZNF574', 'ZNF593', 'ZNF764', 'ZSCAN2', 'ZSWIM8', 'ZWILCH']), ('13', ['ADAMTSL3', 'ANGEL1', 'ARHGAP44', 'ARHGEF33', 'ARHGEF9', 'ATG4D', 'BCO1', 'BICDL2', 'CACNA1A', 'CACNA1C', 'CD151', 'CDK16', 'CFAP43', 'CNNM4', 'COQ8A', 'CTDSPL', 'CUL7', 'DNAI2', 'DNAJB4', 'DPP9', 'DSCAM', 'DUSP3', 'DVL3', 'FSD1', 'IL1RAPL2', 'KIF16B', 'LHX1', 'LYPLAL1', 'MAP3K14', 'MAPRE2', 'MARK4', 'MESP2', 'MPP3', 'MVB12B', 'MYT1L', 'NAAA', 'NTSR2', 'NUDT2', 'PAK4', 'PDE1B', 'POMT1', 'PPP1CA', 'PRLR', 'RAB36', 'RBMS2', 'RETREG2', 'SCGN', 'SCYL3', 'SHC1', 'SIDT1', 'SLC22A4', 'SLC26A6', 'SLC41A1', 'SMARCAL1', 'SMTN', 'SP2', 'SPOP', 'STX1A', 'SUMF1', 'SYNPO2', 'TDRP', 'TMEM117', 'TMEM175', 'TMOD2', 'TMUB2', 'TPH2', 'TRAPPC14', 'TSC2', 'UEVLD', 'UNC5A', 'USP42', 'WFDC3', 'XKR5', 'ZFP28'])])\n"
     ]
    }
   ],
   "source": [
    "print(metagenes.items())\n"
   ]
  },
  {
   "cell_type": "code",
   "execution_count": 22,
   "id": "7887505f-2f39-4662-84f7-da70a8abf7cc",
   "metadata": {},
   "outputs": [],
   "source": [
    "import pickle\n",
    "with open ('mgs.pkl','wb') as f:\n",
    "    pickle.dump(mgs,f)"
   ]
  },
  {
   "cell_type": "code",
   "execution_count": 23,
   "id": "9db00f27-ac06-4310-ae3f-389da3bccf8e",
   "metadata": {},
   "outputs": [
    {
     "data": {
      "text/plain": [
       "17"
      ]
     },
     "execution_count": 23,
     "metadata": {},
     "output_type": "execute_result"
    }
   ],
   "source": [
    "len(mgs)"
   ]
  },
  {
   "cell_type": "code",
   "execution_count": 24,
   "id": "f685748f-92db-442b-a9e7-50f7ed972440",
   "metadata": {},
   "outputs": [],
   "source": [
    "# function to score metagenes\n",
    "\n",
    "from sklearn.metrics.pairwise import cosine_similarity\n",
    "from sklearn.preprocessing import MinMaxScaler\n",
    "from tqdm import tqdm\n",
    "def score_metagenes(adata, metagenes):\n",
    "    for p, genes in tqdm(metagenes.items()):\n",
    "        try:\n",
    "            sc.tl.score_genes(adata, score_name=str(p) + \"_SCORE\", gene_list=genes)\n",
    "            scores = np.array(adata.obs[str(p) + \"_SCORE\"].tolist()).reshape(-1, 1)\n",
    "            scaler = MinMaxScaler()\n",
    "            scores = scaler.fit_transform(scores)\n",
    "            scores = list(scores.reshape(1, -1))[0]\n",
    "            adata.obs[str(p) + \"_SCORE\"] = scores\n",
    "        except Exception as e:\n",
    "            adata.obs[str(p) + \"_SCORE\"] = 0.0"
   ]
  },
  {
   "cell_type": "code",
   "execution_count": 25,
   "id": "330d89ba-31e4-4171-a316-82dea2a2bdaa",
   "metadata": {
    "scrolled": true,
    "tags": []
   },
   "outputs": [
    {
     "name": "stderr",
     "output_type": "stream",
     "text": [
      "  0%|          | 0/17 [00:00<?, ?it/s]"
     ]
    },
    {
     "name": "stdout",
     "output_type": "stream",
     "text": [
      "WARNING: genes are not in var_names and ignored: Index(['A1CF', 'ABHD5', 'ACP4', 'ACSL4', 'ADAM23', 'ADAMTS20', 'ADCY6',\n",
      "       'ALDH4A1', 'AMH', 'ANKRD6',\n",
      "       ...\n",
      "       'ZBED9', 'ZMAT4', 'ZNF2', 'ZNF366', 'ZNF473', 'ZNF510', 'ZNF582',\n",
      "       'ZNF615', 'ZNF660', 'ZNF688'],\n",
      "      dtype='object', length=247)\n",
      "WARNING: genes are not in var_names and ignored: Index(['A2ML1', 'ABCG5', 'ABHD4', 'ADGRE5', 'AKAP10', 'ALG2', 'ALKBH3',\n",
      "       'ANAPC4', 'ANGPTL2', 'APEX2',\n",
      "       ...\n",
      "       'TUBD1', 'TXNRD3', 'UPP1', 'USP21', 'UTP6', 'VAMP5', 'VAV2', 'VGLL3',\n",
      "       'YPEL2', 'ZNF26'],\n",
      "      dtype='object', length=204)\n",
      "WARNING: genes are not in var_names and ignored: Index(['AAAS', 'ADAM15', 'AGTRAP', 'ALG12', 'ANKRD45', 'ARHGEF5', 'ARRDC4',\n",
      "       'ARSK', 'ATG16L2', 'ATIC',\n",
      "       ...\n",
      "       'ZFP82', 'ZHX3', 'ZMYM3', 'ZNF226', 'ZNF287', 'ZNF662', 'ZNF668',\n",
      "       'ZNF808', 'ZSCAN25', 'ZW10'],\n",
      "      dtype='object', length=199)\n",
      "WARNING: genes are not in var_names and ignored: Index(['AARD', 'AASS', 'ABCA9', 'ABHD15', 'ACAP3', 'ALCAM', 'ALG8', 'ALOX15B',\n",
      "       'APC2', 'APEX1',\n",
      "       ...\n",
      "       'UGP2', 'ULK4', 'VSNL1', 'WDHD1', 'XRCC6', 'ZBTB4', 'ZMAT3', 'ZNF232',\n",
      "       'ZNF394', 'ZNF773'],\n",
      "      dtype='object', length=205)\n",
      "WARNING: genes are not in var_names and ignored: Index(['ABCA13', 'ABCB8', 'ABCC2', 'ABHD8', 'ACADL', 'ACSM3', 'ADAM22',\n",
      "       'ADCK1', 'ADGRD2', 'AKAP1',\n",
      "       ...\n",
      "       'ZC3H12C', 'ZDHHC12', 'ZFYVE28', 'ZIC1', 'ZNF202', 'ZNF235', 'ZNF488',\n",
      "       'ZNF524', 'ZNF543', 'ZNF79'],\n",
      "      dtype='object', length=287)\n",
      "WARNING: genes are not in var_names and ignored: Index(['ABCA5', 'ADAM19', 'ADCY9', 'AFF2', 'ANGPT1', 'BCL7A', 'BEST3', 'BTG1',\n",
      "       'CCND3', 'CHGA', 'CLASRP', 'CLIC6', 'CNTNAP5', 'COL4A3', 'CREM',\n",
      "       'CYTH4', 'EEF2K', 'EFCAB12', 'ERCC4', 'FAM184A', 'FAT3', 'HRH2',\n",
      "       'HSPB11', 'INSR', 'LIN52', 'LRRC39', 'LRRC7', 'LRSAM1', 'MEGF11',\n",
      "       'NDUFC1', 'OGDHL', 'ORC2', 'PCBP1', 'PLCL1', 'PLEKHD1', 'PPP2R3A',\n",
      "       'PRDM6', 'PTGR1', 'QPRT', 'RASGRP3', 'RNF213', 'RPP30', 'RSAD1', 'SDK2',\n",
      "       'SFXN1', 'SH2D3A', 'SLC44A5', 'STK32A', 'STRA6', 'SUPT3H', 'TRIM44',\n",
      "       'ZBTB38', 'ZFP14', 'ZNF37A'],\n",
      "      dtype='object')\n",
      "WARNING: genes are not in var_names and ignored: Index(['ABCB9', 'ABCC3', 'ACHE', 'ADAMTS16', 'ADAMTSL1', 'ADAP1', 'AFAP1',\n",
      "       'AGBL2', 'AK8', 'AKAP14',\n",
      "       ...\n",
      "       'ZNF133', 'ZNF250', 'ZNF362', 'ZNF502', 'ZNF526', 'ZNF555', 'ZNF565',\n",
      "       'ZNF585B', 'ZNF689', 'ZNF704'],\n",
      "      dtype='object', length=204)\n",
      "WARNING: genes are not in var_names and ignored: Index(['ABCC10', 'ACAD9', 'ACTR8', 'ADCY10', 'AGA', 'AGXT2', 'AIRE', 'AK5',\n",
      "       'ALOX5', 'ALX3',\n",
      "       ...\n",
      "       'ZNF365', 'ZNF408', 'ZNF449', 'ZNF454', 'ZNF536', 'ZNF546', 'ZNF572',\n",
      "       'ZNF703', 'ZNF77', 'ZNF791'],\n",
      "      dtype='object', length=293)\n",
      "WARNING: genes are not in var_names and ignored: Index(['ABCC6', 'ACAA2', 'ACAD11', 'ACOX2', 'ACP6', 'ACRBP', 'ACSF3', 'ACSL5',\n",
      "       'ACSM5', 'ACVR2B',\n",
      "       ...\n",
      "       'ZNF217', 'ZNF316', 'ZNF518B', 'ZNF576', 'ZNF658', 'ZNF793', 'ZNF835',\n",
      "       'ZSCAN20', 'ZSCAN26', 'ZSWIM7'],\n",
      "      dtype='object', length=301)\n",
      "WARNING: genes are not in var_names and ignored: Index(['ABCC9', 'ADAMTS14', 'ADAMTS15', 'AIF1L', 'ANG', 'AXL', 'BST2', 'CAPS',\n",
      "       'CATIP', 'CCDC8', 'CFAP45', 'CLDN1', 'COL4A5', 'CPSF4L', 'CRYBB3',\n",
      "       'CSRP1', 'DNAJB13', 'DNASE1L1', 'EFNA1', 'F2R', 'FAM166B', 'FBLN7',\n",
      "       'FOLH1', 'FOSB', 'FOXJ1', 'FRZB', 'GARIN1B', 'GM2A', 'GRAMD2B',\n",
      "       'HEPACAM', 'HEY2', 'ID3', 'JPH2', 'KCNG1', 'KLF5', 'KLHL14', 'LHX9',\n",
      "       'LIPM', 'LKAAEAR1', 'LRTM1', 'MAL2', 'MDFIC', 'MET', 'MINAR1', 'MMP25',\n",
      "       'MOXD1', 'MRC2', 'NECAB3', 'NID2', 'NOTCH3', 'PDGFRL', 'PID1', 'PRR7',\n",
      "       'PTGER4', 'RBPMS', 'RGCC', 'RRAS', 'RTP1', 'SLC16A2', 'SLC2A9',\n",
      "       'SLC7A2', 'SNED1', 'SOX8', 'SPTLC3', 'SQOR', 'SSPN', 'THBD', 'TIMP4',\n",
      "       'TMEM221', 'TMEM40', 'TMEM52', 'TRABD2B', 'ZBBX'],\n",
      "      dtype='object')\n",
      "WARNING: genes are not in var_names and ignored: Index(['ABCD1', 'ABTB1', 'ACADS', 'ACOT12', 'ADAP2', 'ADHFE1', 'ADPRH',\n",
      "       'AGBL5', 'AGPAT4', 'ANKRD37',\n",
      "       ...\n",
      "       'VWA5B2', 'WASHC2C', 'ZBTB7C', 'ZMYND12', 'ZNF14', 'ZNF302', 'ZNF322',\n",
      "       'ZNF35', 'ZNF583', 'ZNF653'],\n",
      "      dtype='object', length=215)\n",
      "WARNING: genes are not in var_names and ignored: Index(['ABCD2', 'ACAD10', 'ADGRF5', 'AMIGO2', 'ANXA11', 'ARHGEF19', 'ARSD',\n",
      "       'ATP6V1G3', 'B3GNTL1', 'BAG3',\n",
      "       ...\n",
      "       'VEPH1', 'WDR86', 'WIPI1', 'YOD1', 'ZDHHC7', 'ZMIZ2', 'ZNF213', 'ZNF34',\n",
      "       'ZNF630', 'ZNF786'],\n",
      "      dtype='object', length=181)\n",
      "WARNING: genes are not in var_names and ignored: Index(['ABHD2', 'AKT1S1', 'ARVCF', 'BTBD1', 'CAMK1G', 'CCDC117', 'CLDN34',\n",
      "       'ELOVL7', 'FAM20B', 'FKTN', 'GPC1', 'HYAL3', 'IFTAP', 'IRAK2',\n",
      "       'KIAA0513', 'KIF6', 'KLHDC3', 'LRP5', 'LRRN3', 'MAPK8IP1', 'MCM8',\n",
      "       'METTL21C', 'MOSPD3', 'NLE1', 'PACC1', 'PARVA', 'PLEKHH2', 'PMVK',\n",
      "       'RPUSD4', 'SFI1', 'SMIM29', 'STRN4', 'SUPV3L1', 'TAF4', 'TFE3', 'TK2',\n",
      "       'TMEM109', 'TRMT10B', 'WIPF2', 'ZFYVE1', 'ZNF239'],\n",
      "      dtype='object')\n",
      "WARNING: genes are not in var_names and ignored: Index(['ABITRAM', 'ADGRL1', 'ALKBH2', 'ALOX5AP', 'ANAPC5', 'ARHGEF39', 'ARL4D',\n",
      "       'ASTE1', 'BACE2', 'BET1L',\n",
      "       ...\n",
      "       'VAMP8', 'WDR18', 'WDR89', 'ZCCHC4', 'ZNF350', 'ZNF383', 'ZNF527',\n",
      "       'ZNF554', 'ZNHIT2', 'ZSCAN9'],\n",
      "      dtype='object', length=154)\n",
      "WARNING: genes are not in var_names and ignored: Index(['ACAP1', 'ACOT9', 'ADAM12', 'ADAMTS10', 'ADARB2', 'ADCY8', 'ADGRL3',\n",
      "       'AGBL1', 'AGT', 'AKT2',\n",
      "       ...\n",
      "       'ZCCHC10', 'ZDBF2', 'ZDHHC15', 'ZNF558', 'ZNF570', 'ZNF672', 'ZNF684',\n",
      "       'ZNF771', 'ZNF804B', 'ZSWIM9'],\n",
      "      dtype='object', length=268)\n",
      "WARNING: genes are not in var_names and ignored: Index(['ACP2', 'ACTR5', 'ADAMTS7', 'ADAT1', 'ADGRA2', 'AFMID', 'ANKRD34B',\n",
      "       'AP4B1', 'AP5Z1', 'ARHGAP19',\n",
      "       ...\n",
      "       'VPS33B', 'VWA5B1', 'WASF1', 'WNT9B', 'ZNF574', 'ZNF593', 'ZNF764',\n",
      "       'ZSCAN2', 'ZSWIM8', 'ZWILCH'],\n",
      "      dtype='object', length=125)\n",
      "WARNING: genes are not in var_names and ignored: Index(['ADAMTSL3', 'ANGEL1', 'ARHGAP44', 'ARHGEF33', 'ARHGEF9', 'ATG4D',\n",
      "       'BCO1', 'BICDL2', 'CACNA1A', 'CACNA1C', 'CD151', 'CDK16', 'CFAP43',\n",
      "       'CNNM4', 'COQ8A', 'CTDSPL', 'CUL7', 'DNAI2', 'DNAJB4', 'DPP9', 'DSCAM',\n",
      "       'DUSP3', 'DVL3', 'FSD1', 'IL1RAPL2', 'KIF16B', 'LHX1', 'LYPLAL1',\n",
      "       'MAP3K14', 'MAPRE2', 'MARK4', 'MESP2', 'MPP3', 'MVB12B', 'MYT1L',\n",
      "       'NAAA', 'NTSR2', 'NUDT2', 'PAK4', 'PDE1B', 'POMT1', 'PPP1CA', 'PRLR',\n",
      "       'RAB36', 'RBMS2', 'RETREG2', 'SCGN', 'SCYL3', 'SHC1', 'SIDT1',\n",
      "       'SLC22A4', 'SLC26A6', 'SLC41A1', 'SMARCAL1', 'SMTN', 'SP2', 'SPOP',\n",
      "       'STX1A', 'SUMF1', 'SYNPO2', 'TDRP', 'TMEM117', 'TMEM175', 'TMOD2',\n",
      "       'TMUB2', 'TPH2', 'TRAPPC14', 'TSC2', 'UEVLD', 'UNC5A', 'USP42', 'WFDC3',\n",
      "       'XKR5', 'ZFP28'],\n",
      "      dtype='object')\n"
     ]
    },
    {
     "name": "stderr",
     "output_type": "stream",
     "text": [
      "100%|██████████| 17/17 [00:00<00:00, 237.88it/s]\n"
     ]
    }
   ],
   "source": [
    "# read back in original data to score on original data\n",
    "adata = sc.read_h5ad(\"/w5home/bmoore/scRNAseq/GAMM/GAMM_S2/output_20230830_155530/GAMM_S2_clabeled-clusters_0.5_cones_orthologs.h5ad\")\n",
    "adata\n",
    "\n",
    "#sc.pp.normalize_total(adata)\n",
    "#sc.pp.log1p(adata)\n",
    "# score meta genes on original data\n",
    "score_metagenes(adata,mgs)"
   ]
  },
  {
   "cell_type": "code",
   "execution_count": 37,
   "id": "41053a59",
   "metadata": {},
   "outputs": [
    {
     "data": {
      "text/plain": [
       "AnnData object with n_obs × n_vars = 516 × 19264\n",
       "    var: 'highly_variable', 'means', 'dispersions', 'dispersions_norm'\n",
       "    uns: 'hvg'"
      ]
     },
     "execution_count": 37,
     "metadata": {},
     "output_type": "execute_result"
    }
   ],
   "source": [
    "adata"
   ]
  },
  {
   "cell_type": "code",
   "execution_count": 27,
   "id": "ed4e8afb-8d21-4439-a868-f1c5560c0b69",
   "metadata": {},
   "outputs": [],
   "source": [
    "scorelist = [x for x in adata.obs.columns if x.__contains__('SCORE')]\n",
    "genescoreadata = sc.AnnData(adata.obs[scorelist])\n",
    "genescoreadata.obs = adata.obs.iloc[:,:3].copy()\n",
    "sc.tl.rank_genes_groups(adata,groupby='CellType')"
   ]
  },
  {
   "cell_type": "code",
   "execution_count": 28,
   "id": "dc35dcd4-949f-4392-936c-895412aafa86",
   "metadata": {
    "tags": []
   },
   "outputs": [
    {
     "name": "stdout",
     "output_type": "stream",
     "text": [
      "WARNING: Dendrogram not added. Dendrogram is added only when the number of categories to plot > 2\n",
      "WARNING: saving figure to file figures/matrixplot_celltype_module.pdf\n"
     ]
    },
    {
     "data": {
      "image/png": "[encoded data removed]",
      "text/plain": [
       "<Figure size 335x250 with 4 Axes>"
      ]
     },
     "metadata": {},
     "output_type": "display_data"
    }
   ],
   "source": [
    "import matplotlib as mpl\n",
    "mpl.rcParams['pdf.fonttype'] = 42\n",
    "mpl.rcParams['ps.fonttype'] = 42\n",
    "sc.pl.rank_genes_groups_matrixplot(adata, n_genes=5, standard_scale='var', cmap='Blues',save='celltype_module')"
   ]
  },
  {
   "cell_type": "code",
   "execution_count": 29,
   "id": "c7897176-a8d6-4457-97ee-6cacbe584336",
   "metadata": {},
   "outputs": [
    {
     "name": "stdout",
     "output_type": "stream",
     "text": [
      "4 ['A1CF', 'ABHD5', 'ACP4', 'ACSL4', 'ADAM23', 'ADAMTS20', 'ADCY6', 'ALDH4A1', 'AMH', 'ANKRD6', 'ANKS6', 'ANOS1', 'ANXA13', 'AP3D1', 'AP5M1', 'ARHGAP22', 'ARHGEF38', 'ASF1A', 'ATG12', 'ATP10D', 'ATP6V1C1', 'BAIAP2L1', 'BCAT2', 'BCDIN3D', 'BEGAIN', 'BET1', 'BMF', 'BMP5', 'BORCS7', 'C2orf72', 'C3orf14', 'CAPN2', 'CAPNS1', 'CASP7', 'CASS4', 'CBARP', 'CD99L2', 'CDC20', 'CDKL3', 'CEP78', 'CFAP44', 'CFAP58', 'CFAP92', 'CFAP97D1', 'CGNL1', 'CHST10', 'CLEC11A', 'CNIH3', 'CNOT8', 'COL13A1', 'COL4A1', 'COLEC11', 'CORIN', 'COX11', 'CRYL1', 'CSMD1', 'CSTF2', 'CUBN', 'DAGLA', 'DCBLD1', 'DCT', 'DDHD2', 'DDR2', 'DLGAP2', 'DLGAP5', 'DTX1', 'DYRK1B', 'DZIP1L', 'ECM2', 'EFHC2', 'EFHD2', 'ELOVL6', 'ELP4', 'EPHA4', 'EYA4', 'FAM171A1', 'FAM178B', 'FAM216A', 'FAM227A', 'FANCD2', 'FBN2', 'FBXO17', 'FHL2', 'FRS3', 'FUT1', 'GAD2', 'GALNT9', 'GALT', 'GBP1', 'GJC1', 'GSDME', 'GTF2H2C', 'HAP1', 'HES2', 'HES5', 'HHIP', 'HMCN1', 'HS3ST5', 'HSD17B3', 'HTR1E', 'IGDCC4', 'IGFBPL1', 'IGFN1', 'IL12RB2', 'IQCK', 'IQUB', 'IRX1', 'ITPRID1', 'KCNC2', 'KCNIP2', 'KCNIP3', 'KIAA2012', 'KL', 'KLHL23', 'KNL1', 'KNTC1', 'L3MBTL1', 'LAMA3', 'LAMC1', 'LPCAT4', 'LRRC34', 'LRRC74A', 'LRRIQ3', 'LRRIQ4', 'LSR', 'LTA4H', 'LY6E', 'MAP3K8', 'MAP7D2', 'MEA1', 'MELK', 'MFSD6', 'MIEF2', 'MLIP', 'MORC1', 'MTO1', 'MYO9B', 'NAPSA', 'NCALD', 'NCAPG', 'NEK10', 'NELFA', 'NKAPL', 'NPC2', 'NPNT', 'NPRL3', 'NRP1', 'NRXN2', 'NTF4', 'NUDT9', 'NUP43', 'NXNL1', 'ORAI1', 'PACRGL', 'PDE3B', 'PDGFRB', 'PIH1D1', 'PIR', 'PLAC8', 'PLCXD3', 'PLS3', 'PLXNC1', 'PM20D1', 'PPCS', 'PPFIA4', 'PPP1R3E', 'PPP2R5B', 'PRAM1', 'PRDM14', 'PREB', 'PTCHD1', 'PTPRU', 'PXN', 'RAD52', 'RAVER2', 'RBMS1', 'REXO5', 'RGS3', 'RHBDL1', 'RMI1', 'RNF150', 'RPUSD1', 'RTN1', 'SCN2A', 'SCN4A', 'SEH1L', 'SEMA3D', 'SHC3', 'SLC12A1', 'SLC12A7', 'SLC16A7', 'SLC16A9', 'SLC24A3', 'SLC26A3', 'SLC2A12', 'SLC35A1', 'SLC35B3', 'SMTNL2', 'SPTBN5', 'SS18L1', 'ST6GALNAC1', 'ST8SIA1', 'ST8SIA2', 'STC2', 'STK32B', 'SVOPL', 'SYNM', 'TENT4A', 'TEP1', 'TKFC', 'TM9SF1', 'TMEM131L', 'TMEM209', 'TMEM74', 'TMIGD1', 'TNFAIP3', 'TOM1L1', 'TRANK1', 'TRHR', 'TRIM65', 'TRIM9', 'TSPAN10', 'TSPAN11', 'TTYH1', 'UBASH3B', 'ULK1', 'USP18', 'VAMP7', 'WDR24', 'WDR74', 'WEE1', 'WEE2', 'XAF1', 'XRCC2', 'XYLB', 'YARS2', 'YPEL1', 'ZBED9', 'ZMAT4', 'ZNF2', 'ZNF366', 'ZNF473', 'ZNF510', 'ZNF582', 'ZNF615', 'ZNF660', 'ZNF688']\n"
     ]
    },
    {
     "name": "stderr",
     "output_type": "stream",
     "text": [
      "100%|██████████| 60762/60762 [00:00<00:00, 154805.79it/s]\n"
     ]
    },
    {
     "name": "stdout",
     "output_type": "stream",
     "text": [
      "8 ['A2ML1', 'ABCG5', 'ABHD4', 'ADGRE5', 'AKAP10', 'ALG2', 'ALKBH3', 'ANAPC4', 'ANGPTL2', 'APEX2', 'ARHGEF2', 'ARSA', 'B4GALNT4', 'BAIAP3', 'BAMBI', 'BCAR1', 'BEND6', 'BOLA2B', 'BPIFB3', 'BPIFC', 'C11orf80', 'CABLES1', 'CADM4', 'CALML4', 'CASP9', 'CATSPER2', 'CCDC71', 'CCDC81', 'CD276', 'CD58', 'CENPU', 'CHEK2', 'CHRNB3', 'CKS1B', 'CMC1', 'COX7A1', 'CPT1A', 'CRYBG3', 'CTDP1', 'CTNS', 'CUL4A', 'CYB561D1', 'CYP46A1', 'DEPDC1B', 'DHX34', 'DNAAF1', 'DNAI1', 'DND1', 'DPP6', 'DPYSL5', 'DRC1', 'ELMOD1', 'EMILIN1', 'ENKD1', 'ENTPD1', 'EPHB4', 'EPS8L1', 'ERICH3', 'ERICH6', 'FADS6', 'FANCC', 'FBXW2', 'FBXW4', 'FKBP11', 'FKBP9', 'FOXN4', 'GABARAP', 'GALNS', 'GAP43', 'GBX1', 'GEMIN5', 'GLIPR2', 'GRB14', 'GSAP', 'GSTO2', 'GTF3C3', 'HHLA2', 'HKDC1', 'HMSD', 'HNF1A', 'HOATZ', 'HSD11B1L', 'HSD17B2', 'HTR4', 'ICOSLG', 'IER5L', 'IFFO2', 'INPPL1', 'ISG20L2', 'ITGB4', 'KCNH8', 'KCNJ6', 'KIF14', 'KIF19', 'KIFC1', 'KIFC2', 'LEFTY2', 'LGALS4', 'LRFN5', 'LY6G6D', 'LYPD4', 'LYSMD1', 'MAOB', 'MCUR1', 'MEIOB', 'METTL6', 'MFAP3', 'MMP14', 'MRPL24', 'MRPL45', 'MS4A4E', 'MYCBP', 'MYO5C', 'NAPB', 'NAPEPLD', 'NOMO3', 'NR1H3', 'NTRK1', 'NUF2', 'PALM3', 'PAPLN', 'PARM1', 'PDCD2L', 'PDE7B', 'PGPEP1', 'PHF8', 'PHLDB3', 'PI4K2B', 'PIM1', 'PIP4K2C', 'PLAGL1', 'PLD2', 'PLEKHN1', 'PLPPR3', 'PLXNB3', 'POLI', 'PORCN', 'PPP1R42', 'PRKCB', 'PRKRIP1', 'PRR19', 'PRSS12', 'PTGES', 'RAB19', 'RAB29', 'RBM11', 'REPS2', 'RHOJ', 'RITA1', 'RNF113B', 'RNF125', 'RPS6KA1', 'RSPH4A', 'RUSC1', 'SALL1', 'SEMA6A', 'SETD7', 'SFXN2', 'SH3BGR', 'SH3BP5L', 'SKAP1', 'SLC18A1', 'SLC25A15', 'SLC25A32', 'SLC39A8', 'SLC47A1', 'SLC4A5', 'SLC9A3R2', 'SMIM14', 'SMIM45', 'SNTB1', 'SNX17', 'SNX21', 'SPAG1', 'SPATA16', 'SPATA24', 'SPHK2', 'ST8SIA6', 'SULT4A1', 'SUOX', 'SYT6', 'TBCCD1', 'TBXA2R', 'TCEAL1', 'TGFBR3', 'THG1L', 'TLCD1', 'TLCD5', 'TMOD1', 'TMSB15A', 'TNS3', 'TTLL9', 'TUBA8', 'TUBB6', 'TUBD1', 'TXNRD3', 'UPP1', 'USP21', 'UTP6', 'VAMP5', 'VAV2', 'VGLL3', 'YPEL2', 'ZNF26']\n"
     ]
    },
    {
     "name": "stderr",
     "output_type": "stream",
     "text": [
      "100%|██████████| 41412/41412 [00:00<00:00, 112022.82it/s]\n"
     ]
    },
    {
     "name": "stdout",
     "output_type": "stream",
     "text": [
      "9 ['AAAS', 'ADAM15', 'AGTRAP', 'ALG12', 'ANKRD45', 'ARHGEF5', 'ARRDC4', 'ARSK', 'ATG16L2', 'ATIC', 'ATP11C', 'B3GALT2', 'B4GALT2', 'BLMH', 'BMP6', 'BRCA2', 'BRD3OS', 'BTBD19', 'BTN2A2', 'C11orf71', 'C18orf54', 'C1orf109', 'C4orf3', 'C4orf50', 'CACTIN', 'CALCOCO1', 'CD302', 'CDCP1', 'CDK2', 'CDNF', 'CEP152', 'CEP20', 'CERS2', 'CLK3', 'CLPP', 'CLPTM1L', 'CMTR2', 'CNOT3', 'CNPPD1', 'COMMD8', 'COMTD1', 'COQ9', 'CPVL', 'CSRP3', 'CTSO', 'CYP27A1', 'DCAF17', 'DDX19B', 'DGKA', 'DHX58', 'DIMT1', 'DMKN', 'DNAH8', 'DNAJC27', 'DVL1', 'EBI3', 'EFNA3', 'EGFL6', 'ELP6', 'ERAS', 'FAM102B', 'FAM174C', 'FAM200A', 'FAM50A', 'FBXL12', 'FERMT1', 'FGF7', 'FZD2', 'GAS2L1', 'GIMAP4', 'GNAT1', 'GPC2', 'GPRC5C', 'HACD4', 'HARS2', 'HAUS4', 'HPS3', 'HTR2C', 'IKZF1', 'IL33', 'INO80C', 'INPP1', 'IRAK1', 'IRAK3', 'ITGB1BP1', 'ITPKB', 'JMJD6', 'KEAP1', 'KIAA0408', 'KIAA1143', 'KSR1', 'LAMP5', 'LCN2', 'LIMD2', 'LIN9', 'LRP2BP', 'LYN', 'LYRM7', 'METAP1', 'MFSD1', 'MFSD5', 'MMS22L', 'MOB3A', 'MOV10', 'MPDU1', 'MTAP', 'MTERF1', 'MTIF3', 'NCF1', 'NCLN', 'NEDD9', 'NENF', 'NFATC1', 'NIBAN2', 'NMB', 'NSDHL', 'NSL1', 'NUDT15', 'NUDT22', 'NUDT7', 'OTUD1', 'P3H4', 'PARP11', 'PHEX', 'PHF2', 'PHLDB2', 'PKD1L2', 'PLD1', 'PNKP', 'POLG2', 'PRR5', 'PSMB10', 'PSMB9', 'QTRT1', 'RAP2B', 'RARRES1', 'RASSF2', 'RBM38', 'RBM48', 'RELT', 'RFC4', 'ROBO3', 'RPAIN', 'RPP25L', 'RPS16', 'RPUSD3', 'SEC14L1', 'SESN2', 'SH2B2', 'SHFL', 'SI', 'SKAP2', 'SLC25A1', 'SLC35A2', 'SLC39A1', 'SLITRK5', 'SLX4', 'SPACA6', 'SPATA5L1', 'SPOUT1', 'STK17B', 'STXBP2', 'SUPT6H', 'SYNGR2', 'TAF9B', 'TAFA1', 'TAP2', 'TBL1Y', 'TEX11', 'THAP8', 'THNSL2', 'TJAP1', 'TMEM184B', 'TMEM238', 'TMEM42', 'TNNI3', 'TRIM56', 'TRIQK', 'TRMT44', 'TSEN54', 'TSPAN8', 'TSPO', 'TTC9C', 'TTPAL', 'VSIG10', 'VSTM2B', 'WDR5B', 'YIF1B', 'ZDHHC14', 'ZFP82', 'ZHX3', 'ZMYM3', 'ZNF226', 'ZNF287', 'ZNF662', 'ZNF668', 'ZNF808', 'ZSCAN25', 'ZW10']\n"
     ]
    },
    {
     "name": "stderr",
     "output_type": "stream",
     "text": [
      "100%|██████████| 39402/39402 [00:00<00:00, 743404.24it/s]\n"
     ]
    },
    {
     "name": "stdout",
     "output_type": "stream",
     "text": [
      "6 ['AARD', 'AASS', 'ABCA9', 'ABHD15', 'ACAP3', 'ALCAM', 'ALG8', 'ALOX15B', 'APC2', 'APEX1', 'ARHGEF1', 'ARID5B', 'ATAD5', 'ATP2A3', 'BAZ1A', 'BCAN', 'BCL2L11', 'BCL6', 'BPNT1', 'C17orf58', 'C1S', 'C4orf33', 'C4orf47', 'C5orf63', 'CASP8', 'CCDC28B', 'CEBPB', 'CENPF', 'CEP76', 'CFAP70', 'CFTR', 'CHMP7', 'CMTM6', 'CMTM7', 'CNKSR3', 'CNTNAP2', 'CNTNAP4', 'COL4A4', 'COX19', 'CPNE1', 'CRTAC1', 'CYP24A1', 'CYSTM1', 'DCDC2', 'DCXR', 'DENND2A', 'DEPDC7', 'DGKG', 'DSN1', 'DTWD1', 'EBP', 'EGFR', 'EPHB1', 'ERO1B', 'ESAM', 'FAM135B', 'FAM20A', 'FANCF', 'FASTKD2', 'FBLN5', 'FBXO4', 'FGFR1OP2', 'GABRG2', 'GATAD1', 'GGCX', 'GMEB1', 'GPANK1', 'GPC3', 'GPC6', 'GRIA2', 'GTF3A', 'HCN3', 'HGF', 'HID1', 'HMGCS2', 'HPR', 'HRK', 'IARS2', 'IGF1', 'IGFBP3', 'IL6R', 'IMPDH2', 'ING3', 'INSIG1', 'INSYN2A', 'INTS3', 'IQCH', 'ITPR2', 'JAKMIP2', 'KBTBD2', 'KCTD12', 'KHDRBS2', 'KIF11', 'KREMEN1', 'LARS2', 'LIX1L', 'LPL', 'LRCH4', 'MBLAC2', 'METTL23', 'MORN2', 'MRPS21', 'MRPS34', 'MTHFD1', 'MYC', 'MYRF', 'NAA40', 'NAA50', 'NAT10', 'NAV3', 'NDEL1', 'NDUFAF4', 'NLRC5', 'NMT2', 'NPL', 'NT5DC2', 'NWD1', 'OLFML2B', 'P2RY12', 'P4HA3', 'PAWR', 'PAX5', 'PCLO', 'PCSK4', 'PDCD6IP', 'PDIA4', 'PEX5', 'PKD2', 'PLAT', 'POLR3C', 'POLR3E', 'POMGNT1', 'PPIL3', 'PPP1R14C', 'PRELID3A', 'PRELID3B', 'PRKX', 'PRPS2', 'PRUNE2', 'RAPGEF5', 'RASGRP1', 'RBCK1', 'RDH12', 'RESF1', 'RGS12', 'RGS17', 'RIMKLA', 'RIMKLB', 'RORC', 'RPUSD2', 'SAMD4B', 'SCAMP3', 'SCD5', 'SCN3A', 'SELENOO', 'SERPINB1', 'SH3GL3', 'SHANK2', 'SHOC1', 'SHQ1', 'SHTN1', 'SIN3B', 'SLC13A4', 'SLC35F2', 'SLC35G2', 'SMYD4', 'SNX10', 'SPECC1', 'SPTLC2', 'ST3GAL5', 'ST6GALNAC2', 'STARD13', 'STK11IP', 'STK4', 'STX10', 'SYNJ2', 'TACO1', 'TBC1D22A', 'TCF7L1', 'TCOF1', 'TEAD4', 'TEX15', 'TF', 'THAP2', 'TIMM44', 'TMEM205', 'TMEM233', 'TMEM63A', 'TNFAIP8', 'TNNC2', 'TRIM26', 'TRIM38', 'TRMT13', 'UBLCP1', 'UCHL1', 'UGP2', 'ULK4', 'VSNL1', 'WDHD1', 'XRCC6', 'ZBTB4', 'ZMAT3', 'ZNF232', 'ZNF394', 'ZNF773']\n"
     ]
    },
    {
     "name": "stderr",
     "output_type": "stream",
     "text": [
      "100%|██████████| 41820/41820 [00:00<00:00, 718260.97it/s]\n"
     ]
    },
    {
     "name": "stdout",
     "output_type": "stream",
     "text": [
      "2 ['ABCA13', 'ABCB8', 'ABCC2', 'ABHD8', 'ACADL', 'ACSM3', 'ADAM22', 'ADCK1', 'ADGRD2', 'AKAP1', 'ALDH2', 'ANXA4', 'ARFGAP3', 'ARHGAP21', 'ARHGAP27', 'ARHGEF17', 'ARID5A', 'ASNS', 'ASTN1', 'ATL1', 'ATP2B2', 'AURKB', 'B3GAT1', 'BCAS4', 'BCAT1', 'BRCA1', 'C11orf24', 'C15orf40', 'C16orf95', 'C2', 'C3orf49', 'C4B', 'C4orf19', 'C9orf72', 'CA5B', 'CACNG7', 'CALB1', 'CAPN6', 'CASKIN2', 'CAVIN4', 'CBX2', 'CCDC159', 'CCNG2', 'CD8A', 'CDC23', 'CDK19', 'CENPB', 'CFAP69', 'CHPF2', 'CLEC1A', 'CLSTN3', 'CNBD1', 'COG1', 'COL21A1', 'COL23A1', 'CPA5', 'CPSF1', 'CRTAP', 'CTSW', 'CYB561A3', 'DACT1', 'DAPP1', 'DAW1', 'DENND11', 'DHRS1', 'DMAC1', 'DNAH5', 'DNHD1', 'EAF1', 'ECE1', 'EDEM2', 'EEF1AKMT4', 'EMB', 'EMC8', 'ENG', 'ENTPD5', 'EPHA8', 'ERAP1', 'FAM102A', 'FAM167A', 'FAM229B', 'FAM83G', 'FBP2', 'FHL3', 'FLRT3', 'FLT3', 'FNDC7', 'FRRS1', 'GABRG3', 'GAS2', 'GCC1', 'GCNT7', 'GMPPA', 'GORASP1', 'GP1BB', 'GPATCH3', 'GPR137B', 'GPR63', 'GRIN2B', 'GRK1', 'GRM6', 'GRM7', 'GYG2', 'HAPLN1', 'HERC5', 'HERC6', 'HEY1', 'HOMER1', 'HPS1', 'IDUA', 'IFFO1', 'IGSF1', 'IL23R', 'INPP5B', 'ITGA11', 'JAG1', 'KCNH3', 'KCNJ13', 'KCNQ1', 'KCNV2', 'KIF18A', 'KIF27', 'KRBA1', 'LEF1', 'LETM2', 'LGR5', 'LRRC19', 'LRRC69', 'LYZ', 'MAD2L1BP', 'MAFB', 'MAP2K3', 'MAP3K20', 'MCOLN1', 'MDGA1', 'MDM2', 'MEIS3', 'METRNL', 'METTL1', 'METTL2B', 'MIPEP', 'MITF', 'MLF1', 'MOBP', 'MORN1', 'MRPL10', 'MRRF', 'MSRB3', 'MTERF2', 'MTM1', 'MYZAP', 'NAGPA', 'NAT9', 'NEIL3', 'NEK6', 'NEXMIF', 'NEXN', 'NKAIN3', 'NLRP5', 'NOC4L', 'NOP9', 'NOS2', 'NOTCH4', 'NR1D1', 'NR4A3', 'NT5DC3', 'NUAK1', 'NUAK2', 'NUDT6', 'NXN', 'OGFOD2', 'OLFM2', 'OSBP', 'P2RX6', 'P3H1', 'PAQR7', 'PAX2', 'PDGFA', 'PDP1', 'PECR', 'PHF21B', 'PHF24', 'PIGA', 'PIGX', 'PIH1D2', 'PIK3CD', 'PKHD1', 'PML', 'POC1B', 'POFUT1', 'PPARGC1A', 'PPP1R12C', 'PPP1R3B', 'PPP1R3F', 'PPP1R9B', 'PRDM16', 'PRKCH', 'PRKCQ', 'PRRX1', 'PTCD2', 'PWWP3B', 'RAB21', 'RAB22A', 'RAB23', 'RAB30', 'RAB9B', 'RADX', 'RASA3', 'RASSF9', 'RDH13', 'RFNG', 'RGS10', 'RHOG', 'RMDN3', 'RND2', 'RNF112', 'RSPH1', 'RUNDC1', 'SAXO2', 'SBNO2', 'SCML4', 'SCN3B', 'SEPTIN1', 'SIGLEC11', 'SLC16A5', 'SLC17A5', 'SLC24A1', 'SLC26A9', 'SLC35F6', 'SLC38A10', 'SLC38A5', 'SLC6A13', 'SOX11', 'SPA17', 'SPRYD4', 'ST18', 'ST6GALNAC6', 'STARD10', 'STARD5', 'SUPT7L', 'TACR1', 'TAFA4', 'TARBP2', 'TDRD12', 'TEX49', 'TH', 'TIAM1', 'TIGAR', 'TIGD4', 'TLL2', 'TM4SF20', 'TMCC2', 'TMEM134', 'TMEM14A', 'TMEM45A', 'TNFRSF17', 'TROAP', 'TSEN34', 'TSPAN33', 'TSR1', 'TTC23', 'TTC39B', 'UBQLN2', 'UNG', 'URB2', 'VAMP1', 'VAMP4', 'VPS39', 'WARS2', 'WDR91', 'WTIP', 'XPNPEP1', 'ZBTB10', 'ZBTB17', 'ZBTB7B', 'ZBTB9', 'ZC3H12B', 'ZC3H12C', 'ZDHHC12', 'ZFYVE28', 'ZIC1', 'ZNF202', 'ZNF235', 'ZNF488', 'ZNF524', 'ZNF543', 'ZNF79']\n"
     ]
    },
    {
     "name": "stderr",
     "output_type": "stream",
     "text": [
      "100%|██████████| 82082/82082 [00:00<00:00, 172781.18it/s]\n"
     ]
    },
    {
     "name": "stdout",
     "output_type": "stream",
     "text": [
      "15 ['ABCA5', 'ADAM19', 'ADCY9', 'AFF2', 'ANGPT1', 'BCL7A', 'BEST3', 'BTG1', 'CCND3', 'CHGA', 'CLASRP', 'CLIC6', 'CNTNAP5', 'COL4A3', 'CREM', 'CYTH4', 'EEF2K', 'EFCAB12', 'ERCC4', 'FAM184A', 'FAT3', 'HRH2', 'HSPB11', 'INSR', 'LIN52', 'LRRC39', 'LRRC7', 'LRSAM1', 'MEGF11', 'NDUFC1', 'OGDHL', 'ORC2', 'PCBP1', 'PLCL1', 'PLEKHD1', 'PPP2R3A', 'PRDM6', 'PTGR1', 'QPRT', 'RASGRP3', 'RNF213', 'RPP30', 'RSAD1', 'SDK2', 'SFXN1', 'SH2D3A', 'SLC44A5', 'STK32A', 'STRA6', 'SUPT3H', 'TRIM44', 'ZBTB38', 'ZFP14', 'ZNF37A']\n"
     ]
    },
    {
     "name": "stderr",
     "output_type": "stream",
     "text": [
      "100%|██████████| 2862/2862 [00:00<00:00, 727609.29it/s]\n"
     ]
    },
    {
     "name": "stdout",
     "output_type": "stream",
     "text": [
      "7 ['ABCB9', 'ABCC3', 'ACHE', 'ADAMTS16', 'ADAMTSL1', 'ADAP1', 'AFAP1', 'AGBL2', 'AK8', 'AKAP14', 'ALPL', 'ANO1', 'ARG1', 'ARHGEF28', 'ARMC12', 'ASB4', 'ASIC5', 'ASXL3', 'ATP6V0C', 'BSCL2', 'C10orf105', 'C2orf66', 'C8orf76', 'CASP10', 'CCDC38', 'CCNB1', 'CES3', 'CFAP126', 'CFAP91', 'CFC1B', 'CLCN1', 'COL4A2', 'CPLANE2', 'CSF1', 'CXorf38', 'CYP7B1', 'DAO', 'DBNDD1', 'DCLK3', 'DIS3L', 'DMPK', 'DOCK11', 'DOP1B', 'DRD2', 'DUSP19', 'ECEL1', 'EDC4', 'EFHB', 'ELL', 'EME2', 'EMP1', 'EPHX3', 'ESS2', 'EXD1', 'F10', 'FAH', 'FAM110A', 'FAM174B', 'FAM185A', 'FAM205C', 'FBXO41', 'FER1L6', 'FGD1', 'FGFBP3', 'FHIP1B', 'FHL1', 'FLOT1', 'FOLR2', 'GABRR1', 'GFRA3', 'GLOD5', 'GMPPB', 'GSTA4', 'GTPBP3', 'H2AC16', 'HCST', 'HIVEP2', 'HK3', 'HTD2', 'HVCN1', 'IFITM5', 'IGSF9B', 'INPP4A', 'IQSEC2', 'ITPRIP', 'JOSD1', 'KANK2', 'KCTD18', 'KCTD2', 'KIF5A', 'KLF8', 'KRTCAP3', 'LDAF1', 'LLGL1', 'LMTK3', 'LRRC73', 'MANEA', 'METTL13', 'MGAM', 'MINAR2', 'MOGAT1', 'MOSPD2', 'MPZL3', 'MTMR12', 'MUC19', 'MUC5B', 'MYLK4', 'MYO1A', 'MYOZ2', 'NAGA', 'NAPRT', 'NCF4', 'NDST4', 'NEURL4', 'NFS1', 'NGEF', 'NOCT', 'NRSN1', 'OASL', 'OCRL', 'OSGIN2', 'PCDH11Y', 'PCLAF', 'PDCL2', 'PDK2', 'PIK3R2', 'PMCH', 'POLL', 'POLR1H', 'PPP1R11', 'PPP1R16B', 'PYGM', 'RAB39A', 'RAB3IL1', 'RABGGTA', 'RAP2C', 'RASGRP2', 'RERG', 'RHNO1', 'RHOT2', 'RIC8A', 'RIMS3', 'RNF223', 'RTL6', 'SAP25', 'SEMA4A', 'SF3A1', 'SGCG', 'SHF', 'SIL1', 'SLC22A8', 'SLC25A41', 'SLC35E4', 'SLC36A1', 'SLC36A4', 'SLC38A6', 'SLC40A1', 'SLC4A4', 'SLC5A3', 'SLC6A17', 'SLIT3', 'SNUPN', 'SPR', 'SRR', 'STAC', 'SYCE2', 'SYNDIG1', 'SYTL5', 'TACSTD2', 'TMC6', 'TMEFF1', 'TMEM187', 'TMEM59L', 'TMEM62', 'TNXB', 'TOMM34', 'TP53I13', 'TRIM39', 'TST', 'TULP3', 'UBE2T', 'USB1', 'USP35', 'UST', 'VASP', 'VMO1', 'WDR73', 'YJU2B', 'ZBTB2', 'ZBTB6', 'ZC3H3', 'ZDHHC23', 'ZDHHC3', 'ZMYND10', 'ZNF133', 'ZNF250', 'ZNF362', 'ZNF502', 'ZNF526', 'ZNF555', 'ZNF565', 'ZNF585B', 'ZNF689', 'ZNF704']\n"
     ]
    },
    {
     "name": "stderr",
     "output_type": "stream",
     "text": [
      "100%|██████████| 41412/41412 [00:00<00:00, 690038.88it/s]\n"
     ]
    },
    {
     "name": "stdout",
     "output_type": "stream",
     "text": [
      "1 ['ABCC10', 'ACAD9', 'ACTR8', 'ADCY10', 'AGA', 'AGXT2', 'AIRE', 'AK5', 'ALOX5', 'ALX3', 'AMER1', 'AMOT', 'ANKRD2', 'APBA2', 'ARHGAP36', 'ARHGAP8', 'ARHGEF26', 'AS3MT', 'ATAD3A', 'ATG10', 'ATP8B3', 'BAD', 'BAP1', 'BBOF1', 'BBS10', 'BCL11A', 'BHLHE40', 'BMP7', 'BRINP2', 'C11orf87', 'C2orf73', 'C4orf36', 'CACNA1S', 'CAP2', 'CATSPER1', 'CATSPERG', 'CCDC106', 'CCDC146', 'CCDC153', 'CCDC180', 'CCDC78', 'CCDC89', 'CDAN1', 'CDC25C', 'CDK15', 'CDO1', 'CDRT4', 'CEBPE', 'CELSR2', 'CENPN', 'CENPQ', 'CFAP221', 'CFAP300', 'CGREF1', 'CNRIP1', 'COLEC10', 'CPXM2', 'CRYZ', 'CTBP1', 'CYFIP1', 'DCLRE1A', 'DCLRE1B', 'DHCR7', 'DLEC1', 'DLX5', 'DMC1', 'DNASE1L2', 'DOCK6', 'DPF1', 'DRAXIN', 'DTX2', 'ECRG4', 'EDARADD', 'EGLN3', 'EHD2', 'EIF4EBP1', 'EXO5', 'FAM234A', 'FBXO31', 'FEN1', 'FERMT3', 'FGFR2', 'FHL5', 'FLNB', 'FOXP3', 'FOXRED2', 'FZD7', 'GCAT', 'GEMIN7', 'GHDC', 'GLI2', 'GLYCTK', 'GPR139', 'GPR180', 'GPR19', 'GPR87', 'GRM3', 'GTF2E1', 'GYS1', 'H2AC17', 'H2BC18', 'H2BC5', 'HAUS5', 'HBQ1', 'HDX', 'HS1BP3', 'HSD17B7', 'IFI30', 'IGFBP7', 'IL27RA', 'IQSEC3', 'IRF8', 'JUP', 'KCNK2', 'KCNMB4', 'KIAA0040', 'KIAA1671', 'KIAA1755', 'KIF7', 'KLF4', 'LACTBL1', 'LAT2', 'LEMD1', 'LMOD1', 'LONRF1', 'LRRC23', 'LRRC66', 'LRRC74B', 'LYSMD2', 'MAMSTR', 'MAP10', 'MAP3K19', 'MAP4K1', 'MASP2', 'MDFI', 'MEF2B', 'MEN1', 'MFAP3L', 'MFNG', 'MFSD4B', 'MIB2', 'MLH1', 'MMP2', 'MOB1A', 'MRAP', 'MROH1', 'MSMB', 'MT4', 'MTA3', 'MTHFSD', 'MYB', 'MYBPC2', 'MYD88', 'MYO5B', 'NABP1', 'NACC1', 'NAP1L2', 'NINJ1', 'NLRC3', 'NRSN2', 'NUP42', 'NYAP1', 'OBSCN', 'OGN', 'OPN5', 'ORAI3', 'OTOA', 'OTOL1', 'OXNAD1', 'P2RX4', 'P4HA2', 'PALD1', 'PCP4L1', 'PHACTR3', 'PHF19', 'PHOX2A', 'PIK3C2B', 'PLA1A', 'PLAC1', 'PLEKHG2', 'PLK1', 'PLK4', 'PLOD1', 'PLPPR2', 'PLSCR3', 'PLXNB2', 'POSTN', 'PP2D1', 'PPT1', 'PRXL2C', 'PTP4A3', 'PTPRT', 'PYCR1', 'PYGB', 'RAB31', 'RAD54L', 'RAG2', 'RCBTB2', 'RFC5', 'RFLNB', 'RHBDD3', 'RHCG', 'RHD', 'RHOBTB2', 'RILP', 'RILPL2', 'RIOK2', 'RND1', 'ROPN1L', 'RTL4', 'SAPCD1', 'SBK2', 'SCRT2', 'SDR42E1', 'SFMBT2', 'SGCD', 'SHISA8', 'SHOX2', 'SLC10A3', 'SLC10A6', 'SLC13A1', 'SLC25A30', 'SLC30A10', 'SLC34A2', 'SLC4A2', 'SLIT1', 'SMIM36', 'SMPDL3A', 'SNX1', 'SNX16', 'SORCS3', 'SPACA9', 'SRL', 'ST8SIA3', 'STPG4', 'STX1B', 'SULT2B1', 'SURF2', 'TBC1D8B', 'TBXAS1', 'TEKT1', 'TEKT3', 'TEN1', 'TEX30', 'TGFBI', 'THRSP', 'TIGD2', 'TINF2', 'TLCD4', 'TMEM132A', 'TMEM132D', 'TMEM150A', 'TMEM163', 'TMEM170A', 'TMEM179B', 'TMEM220', 'TMEM229B', 'TMEM25', 'TMEM268', 'TMEM43', 'TMEM44', 'TMEM8B', 'TMEM91', 'TMUB1', 'TRIM10', 'TRIM3', 'TRIM72', 'UHMK1', 'UNC13D', 'UNC5B', 'URAD', 'VASH2', 'VPS37D', 'VSTM4', 'WDR49', 'WIZ', 'XPO5', 'YIPF2', 'ZC2HC1B', 'ZC2HC1C', 'ZGRF1', 'ZKSCAN5', 'ZNF18', 'ZNF365', 'ZNF408', 'ZNF449', 'ZNF454', 'ZNF536', 'ZNF546', 'ZNF572', 'ZNF703', 'ZNF77', 'ZNF791']\n"
     ]
    },
    {
     "name": "stderr",
     "output_type": "stream",
     "text": [
      "100%|██████████| 85556/85556 [00:00<00:00, 157325.18it/s]\n"
     ]
    },
    {
     "name": "stdout",
     "output_type": "stream",
     "text": [
      "0 ['ABCC6', 'ACAA2', 'ACAD11', 'ACOX2', 'ACP6', 'ACRBP', 'ACSF3', 'ACSL5', 'ACSM5', 'ACVR2B', 'ADCY3', 'ADGRL4', 'AIDA', 'ALG5', 'ALKBH8', 'ANKAR', 'ANKRD49', 'ANKRD50', 'ANPEP', 'AOPEP', 'APOBEC3F', 'APOBEC3H', 'ARHGAP29', 'ARMC5', 'ASNSD1', 'ATAD2', 'ATG2A', 'ATL3', 'ATOH8', 'ATP4B', 'ATP8B2', 'BBS12', 'BGLAP', 'BTBD3', 'C12orf56', 'C19orf47', 'C19orf84', 'C1orf105', 'C1orf87', 'C22orf39', 'C3orf84', 'C9', 'CABP1', 'CACNA1E', 'CACNB4', 'CADPS2', 'CAPS2', 'CARHSP1', 'CCDC141', 'CCDC170', 'CCDC171', 'CCDC51', 'CCNA2', 'CCNB3', 'CCSAP', 'CD24', 'CD82', 'CDH6', 'CEACAM21', 'CELF5', 'CEMIP', 'CEND1', 'CEP250', 'CFB', 'CHIC1', 'CHKA', 'CHRM2', 'CIAO3', 'CIT', 'CKMT2', 'CLEC1B', 'CLHC1', 'CMYA5', 'CNMD', 'COL14A1', 'COPS7B', 'CRABP2', 'CRACR2A', 'CRYBB1', 'CTSA', 'CYB5D2', 'CYP2U1', 'DAB2', 'DERA', 'DGCR8', 'DIO2', 'DISP3', 'DKK1', 'DNAAF11', 'DNAJB9', 'DNPH1', 'DOLK', 'DPEP2', 'DPP3', 'DSG2', 'DUOXA1', 'ECT2', 'EDEM1', 'EIF5A2', 'ENOSF1', 'ENPP3', 'EPB41L4B', 'ESRP2', 'ETV1', 'EVC2', 'EXOSC5', 'EXOSC6', 'FADD', 'FAM110B', 'FAM111B', 'FAM151B', 'FAM3B', 'FAM86B2', 'FAS', 'FBXO6', 'FCHO1', 'FGF18', 'FHOD1', 'FKBP10', 'FLOT2', 'FLT3LG', 'FLYWCH2', 'FOSL2', 'FOXO1', 'FPGS', 'GABRB3', 'GAD1', 'GALNT14', 'GANC', 'GDF9', 'GIT1', 'GLB1', 'GLIPR1L1', 'GLMP', 'GMEB2', 'GNG4', 'GSPT2', 'GSTZ1', 'H2AC6', 'HDAC7', 'HGH1', 'HIC2', 'HIF3A', 'HROB', 'HS6ST1', 'ICAM1', 'IFI44', 'IL23A', 'INCA1', 'INSC', 'KCNA4', 'KCNJ10', 'KIF20B', 'KIF24', 'KLHDC4', 'KLHL13', 'LACTB', 'LDHC', 'LIPA', 'LNX1', 'LOXL3', 'LRMDA', 'LRR1', 'LRRC58', 'LYRM9', 'MAB21L2', 'MAPK8IP2', 'MARVELD2', 'MCEE', 'MCUB', 'MEIG1', 'MEIOC', 'MND1', 'MOSPD1', 'MRM3', 'MSTN', 'MVP', 'NAGLU', 'NAGS', 'NALCN', 'NEMP1', 'NIPAL1', 'NOVA2', 'NPFFR2', 'NPR2', 'NRG3', 'NSG2', 'NXNL2', 'NYX', 'OARD1', 'OAS2', 'OBSL1', 'OMD', 'ORC5', 'ORC6', 'OSBPL5', 'OTOS', 'PCDH19', 'PGBD1', 'PIGO', 'PIGS', 'PIK3AP1', 'PLCB3', 'PLEKHO2', 'PNOC', 'PON1', 'PPP1R1A', 'PRCP', 'PRICKLE1', 'PRKAB2', 'PRKCG', 'PSEN2', 'PSPN', 'PTX4', 'PYCR2', 'QPCT', 'RAB35', 'RAB9A', 'RAD51D', 'RAD9B', 'RAPH1', 'RASSF7', 'RBM20', 'RBM47', 'RCN3', 'REXO4', 'RHBDF1', 'RIBC1', 'RIOX1', 'RIOX2', 'RNF144A', 'RNF25', 'RNFT1', 'RPP25', 'RRP12', 'S100A2', 'SAC3D1', 'SCN5A', 'SDR42E2', 'SEC24D', 'SFT2D2', 'SGMS2', 'SH3D19', 'SHANK1', 'SHISAL1', 'SIGMAR1', 'SIX5', 'SLC10A4', 'SLC25A38', 'SLC41A3', 'SLC7A4', 'SLC9A4', 'SLC9A7', 'SMG5', 'SMN2', 'SMO', 'SNX11', 'SP110', 'SPEF1', 'ST8SIA4', 'SV2A', 'TANGO2', 'TAPBPL', 'TCAP', 'TECTA', 'THAP1', 'THEGL', 'TICRR', 'TMEM151B', 'TMEM186', 'TMEM35A', 'TNFAIP8L3', 'TNNI3K', 'TRIOBP', 'TRIP13', 'TSTD1', 'TTC32', 'TUBB4A', 'UCN', 'URGCP', 'VANGL1', 'VIPR2', 'WDR62', 'WDR93', 'WNT1', 'ZBTB14', 'ZBTB21', 'ZFHX2', 'ZKSCAN2', 'ZNF177', 'ZNF212', 'ZNF217', 'ZNF316', 'ZNF518B', 'ZNF576', 'ZNF658', 'ZNF793', 'ZNF835', 'ZSCAN20', 'ZSCAN26', 'ZSWIM7']\n"
     ]
    },
    {
     "name": "stderr",
     "output_type": "stream",
     "text": [
      "100%|██████████| 90300/90300 [00:00<00:00, 163555.58it/s]\n"
     ]
    },
    {
     "name": "stdout",
     "output_type": "stream",
     "text": [
      "14 ['ABCC9', 'ADAMTS14', 'ADAMTS15', 'AIF1L', 'ANG', 'AXL', 'BST2', 'CAPS', 'CATIP', 'CCDC8', 'CFAP45', 'CLDN1', 'COL4A5', 'CPSF4L', 'CRYBB3', 'CSRP1', 'DNAJB13', 'DNASE1L1', 'EFNA1', 'F2R', 'FAM166B', 'FBLN7', 'FOLH1', 'FOSB', 'FOXJ1', 'FRZB', 'GARIN1B', 'GM2A', 'GRAMD2B', 'HEPACAM', 'HEY2', 'ID3', 'JPH2', 'KCNG1', 'KLF5', 'KLHL14', 'LHX9', 'LIPM', 'LKAAEAR1', 'LRTM1', 'MAL2', 'MDFIC', 'MET', 'MINAR1', 'MMP25', 'MOXD1', 'MRC2', 'NECAB3', 'NID2', 'NOTCH3', 'PDGFRL', 'PID1', 'PRR7', 'PTGER4', 'RBPMS', 'RGCC', 'RRAS', 'RTP1', 'SLC16A2', 'SLC2A9', 'SLC7A2', 'SNED1', 'SOX8', 'SPTLC3', 'SQOR', 'SSPN', 'THBD', 'TIMP4', 'TMEM221', 'TMEM40', 'TMEM52', 'TRABD2B', 'ZBBX']\n"
     ]
    },
    {
     "name": "stderr",
     "output_type": "stream",
     "text": [
      "100%|██████████| 5256/5256 [00:00<00:00, 630982.36it/s]\n"
     ]
    },
    {
     "name": "stdout",
     "output_type": "stream",
     "text": [
      "5 ['ABCD1', 'ABTB1', 'ACADS', 'ACOT12', 'ADAP2', 'ADHFE1', 'ADPRH', 'AGBL5', 'AGPAT4', 'ANKRD37', 'APTX', 'ARHGAP28', 'ARMCX4', 'ASIC1', 'B4GALT3', 'B4GALT4', 'B4GALT5', 'BAHD1', 'BLM', 'C19orf81', 'C21orf62', 'CACNG1', 'CAMK1', 'CAPN15', 'CAT', 'CATSPERB', 'CCDC175', 'CCDC61', 'CELSR1', 'CEP44', 'CFAP251', 'CFAP276', 'CHST8', 'CMTM4', 'CNN1', 'CNTNAP3C', 'COBL', 'COL28A1', 'COX10', 'CPLX2', 'CSAD', 'CSRNP1', 'CTXN1', 'CUX2', 'CYB5RL', 'CYBC1', 'DEFB103B', 'DEUP1', 'DHX35', 'DNAH2', 'DNAH3', 'DNAI4', 'DPH2', 'DPYSL4', 'EDA', 'EFCAB10', 'EFCAB11', 'EFCAB6', 'EIF4E3', 'ELMOD3', 'ENO4', 'ERBB2', 'ESR2', 'FAAP100', 'FBF1', 'FGF12', 'FGF14', 'FNDC1', 'FOXN2', 'FRRS1L', 'GALC', 'GALNTL5', 'GALR2', 'GIMD1', 'GLDN', 'GPC4', 'GPR39', 'GRIN2A', 'GRK2', 'GRM8', 'GXYLT1', 'H2AC13', 'HCFC1R1', 'HEMK1', 'HMG20B', 'HPCAL4', 'HPD', 'HSCB', 'HSPB8', 'HYLS1', 'IDS', 'IFT27', 'IFT52', 'IQCD', 'KCNH5', 'KLB', 'LDB2', 'LHX6', 'LMAN1L', 'LRGUK', 'LRRC4', 'LTBP1', 'LZTR1', 'LZTS1', 'MAP2K6', 'MAP3K15', 'MAST3', 'MED20', 'MGLL', 'MKNK1', 'MOGS', 'MORN5', 'MROH6', 'MSR1', 'MTARC2', 'MTFR2', 'MTRF1', 'MYOM1', 'MYOM3', 'NBL1', 'NDST2', 'NOX4', 'NPEPL1', 'NRAP', 'NSUN4', 'NUDT16L1', 'ODAD4', 'PARP16', 'PDPK1', 'PEX19', 'PGAP4', 'PHACTR1', 'PKNOX2', 'PLPP7', 'PNPLA2', 'POLD1', 'PPL', 'PRAG1', 'PRKAG2', 'PRUNE1', 'PTPA', 'PTPN22', 'PUDP', 'QSOX1', 'RAB27B', 'RARG', 'RASEF', 'RBPMS2', 'REM2', 'RENBP', 'RFFL', 'RFTN2', 'RFX2', 'RGS4', 'RHOD', 'RIPK1', 'RNF14', 'RPH3A', 'RRAGA', 'SCNN1D', 'SCT', 'SDC3', 'SENP1', 'SH3BP2', 'SHROOM4', 'SIAE', 'SKI', 'SLC16A11', 'SLC25A24', 'SLC2A13', 'SLC37A2', 'SLC41A2', 'SLC9A1', 'SLX1B', 'SMYD2', 'SNCG', 'SNX25', 'SOGA3', 'SPATA1', 'SPATA18', 'SPC24', 'SPINK8', 'SPSB1', 'STARD4', 'SYT12', 'SYT7', 'TBX6', 'TENM4', 'TIRAP', 'TLE2', 'TMEM17', 'TMEM51', 'TMEM60', 'TMEM94', 'TOP3B', 'TP53RK', 'TRAPPC11', 'TTBK1', 'TTC38', 'UNC5D', 'UPK1B', 'VASN', 'VSIG10L', 'VSTM2L', 'VTCN1', 'VWA5B2', 'WASHC2C', 'ZBTB7C', 'ZMYND12', 'ZNF14', 'ZNF302', 'ZNF322', 'ZNF35', 'ZNF583', 'ZNF653']\n"
     ]
    },
    {
     "name": "stderr",
     "output_type": "stream",
     "text": [
      "100%|██████████| 46010/46010 [00:00<00:00, 675066.56it/s]\n"
     ]
    },
    {
     "name": "stdout",
     "output_type": "stream",
     "text": [
      "10 ['ABCD2', 'ACAD10', 'ADGRF5', 'AMIGO2', 'ANXA11', 'ARHGEF19', 'ARSD', 'ATP6V1G3', 'B3GNTL1', 'BAG3', 'BEX5', 'BICRA', 'BMP2', 'C19orf54', 'CAPN9', 'CCDC103', 'CCDC122', 'CD207', 'CD5L', 'CD80', 'CDH4', 'CDR2L', 'CFAP52', 'CHST7', 'CMC4', 'CMKLR2', 'CNTF', 'CNTN3', 'COPZ2', 'CPEB2', 'CPQ', 'CREB3L1', 'CRIP3', 'CWH43', 'CYB5R1', 'CYSLTR1', 'DENND3', 'DHRS3', 'DNAI3', 'DOCK10', 'DYNC1I1', 'EARS2', 'ELAPOR2', 'ENO3', 'EPHX1', 'FAM161B', 'FAM53A', 'FIZ1', 'FKBP14', 'FOSL1', 'FSTL4', 'GAB2', 'GABRB2', 'GALR3', 'GARIN2', 'GFER', 'GFPT2', 'GJC2', 'GPR108', 'GPR156', 'GREB1L', 'GRHL1', 'GRPR', 'GTPBP2', 'HDDC3', 'HIPK4', 'HSPG2', 'IFIT5', 'IFRD2', 'IMPACT', 'IRAG1', 'IRF6', 'KCNMA1', 'KCTD6', 'LENG9', 'LMF2', 'LMNTD2', 'LRRC45', 'LY6H', 'LY6L', 'MAPK7', 'MBOAT1', 'MCTP1', 'METTL22', 'MFSD2A', 'MIIP', 'MON1A', 'MSANTD2', 'MTHFS', 'MXD3', 'N4BP2L1', 'NEIL2', 'NHSL1', 'NSUN5', 'NT5M', 'NTRK2', 'OPRM1', 'ORM2', 'PANX1', 'PDGFD', 'PECAM1', 'PGM2', 'PHETA1', 'PIGBOS1', 'PLA2G6', 'PLEKHA4', 'PLEKHG1', 'PLEKHG4B', 'PLOD3', 'PPFIBP1', 'PPM1N', 'PPP1R37', 'PRELP', 'PRSS22', 'PTGER3', 'PTK2B', 'PTPN18', 'PTPRH', 'RAB32', 'RALGDS', 'RAMP2', 'RDH14', 'RHOXF1', 'RNF32', 'RP1L1', 'RP2', 'RPS6KA2', 'RSPH10B2', 'RSPH9', 'SAMD14', 'SBSPON', 'SCRIB', 'SDHAF4', 'SEMA4G', 'SERINC2', 'SIK1', 'SLC16A13', 'SLC16A14', 'SLC25A42', 'SLC2A2', 'SLC44A3', 'SLCO3A1', 'SPACDR', 'SPAG17', 'SPDEF', 'SPDL1', 'SPIC', 'SPRED1', 'ST6GALNAC5', 'STEAP1B', 'STOM', 'STOML1', 'TDRD1', 'THAP4', 'THAP9', 'THRA', 'TIAM2', 'TMEM101', 'TMEM106A', 'TMEM120A', 'TMLHE', 'TNMD', 'TNS1', 'TREX1', 'TTC29', 'TTC39A', 'TTC4', 'TTPA', 'TXNDC5', 'UBE2QL1', 'USP31', 'VEPH1', 'WDR86', 'WIPI1', 'YOD1', 'ZDHHC7', 'ZMIZ2', 'ZNF213', 'ZNF34', 'ZNF630', 'ZNF786']\n"
     ]
    },
    {
     "name": "stderr",
     "output_type": "stream",
     "text": [
      "100%|██████████| 32580/32580 [00:00<00:00, 671514.06it/s]\n"
     ]
    },
    {
     "name": "stdout",
     "output_type": "stream",
     "text": [
      "16 ['ABHD2', 'AKT1S1', 'ARVCF', 'BTBD1', 'CAMK1G', 'CCDC117', 'CLDN34', 'ELOVL7', 'FAM20B', 'FKTN', 'GPC1', 'HYAL3', 'IFTAP', 'IRAK2', 'KIAA0513', 'KIF6', 'KLHDC3', 'LRP5', 'LRRN3', 'MAPK8IP1', 'MCM8', 'METTL21C', 'MOSPD3', 'NLE1', 'PACC1', 'PARVA', 'PLEKHH2', 'PMVK', 'RPUSD4', 'SFI1', 'SMIM29', 'STRN4', 'SUPV3L1', 'TAF4', 'TFE3', 'TK2', 'TMEM109', 'TRMT10B', 'WIPF2', 'ZFYVE1', 'ZNF239']\n"
     ]
    },
    {
     "name": "stderr",
     "output_type": "stream",
     "text": [
      "100%|██████████| 1640/1640 [00:00<00:00, 597884.27it/s]\n"
     ]
    },
    {
     "name": "stdout",
     "output_type": "stream",
     "text": [
      "11 ['ABITRAM', 'ADGRL1', 'ALKBH2', 'ALOX5AP', 'ANAPC5', 'ARHGEF39', 'ARL4D', 'ASTE1', 'BACE2', 'BET1L', 'C2orf74', 'C6orf89', 'CA11', 'CASP2', 'CCDC60', 'CD99', 'CDC42SE1', 'CDH1', 'CDR2', 'CLDN19', 'CNP', 'COA4', 'COL22A1', 'CREB3L2', 'CTU2', 'DAGLB', 'DDX41', 'DLX6', 'DNA2', 'DNAJC30', 'DNALI1', 'DZIP3', 'E2F6', 'ECH1', 'EID2', 'ERICH2', 'EVI2A', 'EXOSC7', 'FAM13C', 'FAM217B', 'FES', 'FLVCR1', 'FLYWCH1', 'GNPAT', 'GRWD1', 'GUCD1', 'HEBP2', 'HSD17B10', 'IFT22', 'IGSF6', 'IQCB1', 'ISCA2', 'ITGA10', 'ITPR3', 'JAML', 'KBTBD3', 'KCNC4', 'KIF1C', 'KIF2C', 'KIF9', 'KLF15', 'KLHDC9', 'KLHL36', 'KLHL9', 'KRT19', 'LIFR', 'LRRC56', 'LTBP3', 'LTBR', 'LTF', 'LYRM1', 'MAD2L1', 'MARS2', 'MCPH1', 'MECP2', 'MEP1B', 'METTL18', 'METTL24', 'MICALL2', 'MMAB', 'MON1B', 'MPV17', 'MRPS17', 'MTPAP', 'MYBPC1', 'MYO7B', 'NHLRC3', 'NME6', 'NOM1', 'NOX1', 'NPPC', 'OCIAD2', 'P3H3', 'PCED1A', 'PCK2', 'PDPR', 'PHOSPHO2', 'PIDD1', 'PIN4', 'PLPP5', 'POLD4', 'POR', 'PPM1K', 'PRRC1', 'PRRT1', 'PTGR2', 'PTTG2', 'RAD51C', 'RANBP3L', 'REST', 'RFX5', 'RRM2', 'RRP8', 'RWDD3', 'SAAL1', 'SBF1', 'SC5D', 'SCYL1', 'SELENOK', 'SKOR2', 'SLC16A6', 'SMC2', 'SMIM13', 'SYT4', 'TBC1D2B', 'TC2N', 'TCEAL9', 'TEPSIN', 'TMEM138', 'TMEM167B', 'TMEM223', 'TMEM240', 'TNS2', 'TP73', 'TRIM52', 'TTC26', 'TUBB1', 'TUT7', 'TWF2', 'UACA', 'UBXN2B', 'UROD', 'UTP18', 'UXS1', 'VAMP8', 'WDR18', 'WDR89', 'ZCCHC4', 'ZNF350', 'ZNF383', 'ZNF527', 'ZNF554', 'ZNHIT2', 'ZSCAN9']\n"
     ]
    },
    {
     "name": "stderr",
     "output_type": "stream",
     "text": [
      "100%|██████████| 23562/23562 [00:00<00:00, 670972.45it/s]\n"
     ]
    },
    {
     "name": "stdout",
     "output_type": "stream",
     "text": [
      "3 ['ACAP1', 'ACOT9', 'ADAM12', 'ADAMTS10', 'ADARB2', 'ADCY8', 'ADGRL3', 'AGBL1', 'AGT', 'AKT2', 'ALDH1L2', 'ALG3', 'AMZ2', 'ANO4', 'APH1B', 'APOBEC2', 'ARAP1', 'ARHGAP15', 'ARMCX2', 'ATP13A1', 'ATP8B4', 'BATF3', 'BBS2', 'BLVRB', 'BRD8', 'BRIP1', 'BYSL', 'C2orf68', 'CACNG8', 'CBX7', 'CCDC158', 'CCDC167', 'CCDC24', 'CCDC28A', 'CCDC57', 'CCDC92', 'CCL28', 'CD38', 'CDH7', 'CDH9', 'CDYL', 'CEP41', 'CEP43', 'CERS1', 'CFAP410', 'CFLAR', 'CNTN2', 'COG8', 'COL24A1', 'CPEB1', 'CPED1', 'CRTC2', 'CSF2RB', 'CTH', 'CTNNA2', 'CXCL12', 'DCX', 'DDC', 'DGAT2', 'DGKH', 'DLAT', 'DRC3', 'DSC2', 'DUS3L', 'EDNRB', 'EHD1', 'EIF2D', 'EIF4EBP3', 'ELOVL5', 'ELP5', 'EMID1', 'ENOX2', 'ENPP1', 'ENPP2', 'ENPP5', 'ENPP6', 'ERICH1', 'FAM110C', 'FAM228A', 'FAM228B', 'FAM81B', 'FBN3', 'FBP1', 'FBXO25', 'FCAMR', 'FOCAD', 'FOXP2', 'FREM2', 'FRMPD4', 'FUNDC2', 'GABPB2', 'GABRB1', 'GALP', 'GAMT', 'GINS1', 'GINS2', 'GNG7', 'GPC5', 'GPLD1', 'GPRASP1', 'GPRC5B', 'GPX3', 'GRAMD4', 'GRIA4', 'GSDMB', 'HARBI1', 'HIP1R', 'HK2', 'HSF5', 'IKZF4', 'IL16', 'IL17RB', 'IL1RAP', 'INTS14', 'IPP', 'IQCA1', 'IQGAP1', 'ITGA2', 'ITGA3', 'KCNH2', 'KLHDC8B', 'LACTB2', 'LAMA2', 'LAMA5', 'LDLRAD4', 'LIN54', 'LMO2', 'LRCH2', 'LRRC27', 'LRRC4B', 'LXN', 'MAST2', 'MERTK', 'MICB', 'MKNK2', 'MMS19', 'MORN4', 'MPV17L2', 'MSANTD3', 'MTMR1', 'MTX2', 'MYO18B', 'MYO1C', 'MYPN', 'NEBL', 'NEPRO', 'NFKB2', 'NME9', 'NOB1', 'NUDCD1', 'OSGIN1', 'PALM', 'PARP9', 'PCDH10', 'PCSK7', 'PDRG1', 'PFKFB2', 'PHACTR2', 'PHF23', 'PIK3C2G', 'PIWIL2', 'PLEKHM2', 'PLGRKT', 'PLSCR1', 'PRDX1', 'PRPSAP2', 'PRRT3', 'PTDSS1', 'PTPRG', 'PUS1', 'PUS3', 'RAB11FIP4', 'RAD51', 'RARB', 'RASAL1', 'RBM45', 'RECK', 'RELL1', 'RELN', 'RFC3', 'RIPK2', 'RIPOR2', 'RNF180', 'RNF227', 'RPIA', 'RTKN', 'RYR3', 'SAMD4A', 'SDK1', 'SELENBP1', 'SEMA3B', 'SEPSECS', 'SGK1', 'SGPL1', 'SLC12A4', 'SLC17A6', 'SLC18B1', 'SLC25A39', 'SLC26A8', 'SLC29A2', 'SLC2A5', 'SLC44A2', 'SLC46A3', 'SLC7A9', 'SLPI', 'SOX13', 'SP100', 'SPACA3', 'SPAG4', 'SPAG6', 'SPDYA', 'SPEF2', 'SPG11', 'SPON2', 'ST3GAL1', 'ST8SIA5', 'STAT4', 'STAT5A', 'STC1', 'STUM', 'SUMF2', 'SWAP70', 'SYNGAP1', 'SYTL3', 'TAPBP', 'TATDN2', 'TBX20', 'TCF20', 'TEC', 'TFB2M', 'TFEB', 'TG', 'THOC6', 'TIFA', 'TMEM71', 'TNFRSF21', 'TP53', 'TRIP10', 'TRMU', 'TSSK4', 'TUBA4B', 'TUBGCP2', 'TXNL4B', 'UFM1', 'UGGT2', 'ULK3', 'UMPS', 'UTRN', 'UVSSA', 'VAT1', 'VGLL4', 'VPS35L', 'VWA1', 'WDR76', 'WNK2', 'WRAP53', 'XKR4', 'YPEL4', 'ZCCHC10', 'ZDBF2', 'ZDHHC15', 'ZNF558', 'ZNF570', 'ZNF672', 'ZNF684', 'ZNF771', 'ZNF804B', 'ZSWIM9']\n"
     ]
    },
    {
     "name": "stderr",
     "output_type": "stream",
     "text": [
      "100%|██████████| 71556/71556 [00:00<00:00, 121641.83it/s]\n"
     ]
    },
    {
     "name": "stdout",
     "output_type": "stream",
     "text": [
      "12 ['ACP2', 'ACTR5', 'ADAMTS7', 'ADAT1', 'ADGRA2', 'AFMID', 'ANKRD34B', 'AP4B1', 'AP5Z1', 'ARHGAP19', 'ATXN7L3', 'C12orf43', 'C19orf85', 'C20orf204', 'C9orf24', 'CALR3', 'CBS', 'CCDC134', 'CCN1', 'CCNB2', 'CCNQ', 'CDC45', 'CENPH', 'CHD1L', 'CHKB', 'CLSPN', 'CNGA1', 'CNPY4', 'COLGALT1', 'CRAMP1', 'CRAT', 'DGKZ', 'DIRAS3', 'DLG3', 'DPH6', 'DUSP6', 'DZIP1', 'EGLN2', 'ERFL', 'ETS1', 'EXPH5', 'FAHD1', 'FAM221B', 'FBXO15', 'FITM1', 'FKRP', 'FTCDNL1', 'FYB1', 'G6PC3', 'GAA', 'GADL1', 'GARS1', 'GCDH', 'GIPC2', 'GNRH1', 'GOLT1B', 'GRIN2D', 'GTF2H4', 'GVQW3', 'HSD17B11', 'JMJD7', 'KCTD14', 'KDM1B', 'LIAS', 'LIMA1', 'LIMD1', 'LRRC2', 'MESP1', 'MILR1', 'MISP3', 'MLST8', 'MMAA', 'MTMR14', 'NCKIPSD', 'NSMAF', 'NUP133', 'NXT2', 'PALM2AKAP2', 'PCNX3', 'PHC1', 'PLEK2', 'PPP1R3D', 'PRTFDC1', 'PSME2', 'RAB8A', 'RABL3', 'RAD1', 'RBM7', 'RIPK4', 'SERTAD1', 'SLC12A9', 'SLC25A27', 'SLC7A7', 'SPATC1', 'ST6GALNAC4', 'STBD1', 'STK10', 'SYCP3', 'SYK', 'TAMALIN', 'TCP11L1', 'TDP1', 'TFR2', 'TLCD2', 'TMEM169', 'TMPRSS11F', 'TNNT2', 'TOMM20L', 'TP53I11', 'TRMT61B', 'TSNAXIP1', 'TUBA3C', 'UBOX5', 'VARS2', 'VEGFD', 'VPS33B', 'VWA5B1', 'WASF1', 'WNT9B', 'ZNF574', 'ZNF593', 'ZNF764', 'ZSCAN2', 'ZSWIM8', 'ZWILCH']\n"
     ]
    },
    {
     "name": "stderr",
     "output_type": "stream",
     "text": [
      "100%|██████████| 15500/15500 [00:00<00:00, 654535.23it/s]\n"
     ]
    },
    {
     "name": "stdout",
     "output_type": "stream",
     "text": [
      "13 ['ADAMTSL3', 'ANGEL1', 'ARHGAP44', 'ARHGEF33', 'ARHGEF9', 'ATG4D', 'BCO1', 'BICDL2', 'CACNA1A', 'CACNA1C', 'CD151', 'CDK16', 'CFAP43', 'CNNM4', 'COQ8A', 'CTDSPL', 'CUL7', 'DNAI2', 'DNAJB4', 'DPP9', 'DSCAM', 'DUSP3', 'DVL3', 'FSD1', 'IL1RAPL2', 'KIF16B', 'LHX1', 'LYPLAL1', 'MAP3K14', 'MAPRE2', 'MARK4', 'MESP2', 'MPP3', 'MVB12B', 'MYT1L', 'NAAA', 'NTSR2', 'NUDT2', 'PAK4', 'PDE1B', 'POMT1', 'PPP1CA', 'PRLR', 'RAB36', 'RBMS2', 'RETREG2', 'SCGN', 'SCYL3', 'SHC1', 'SIDT1', 'SLC22A4', 'SLC26A6', 'SLC41A1', 'SMARCAL1', 'SMTN', 'SP2', 'SPOP', 'STX1A', 'SUMF1', 'SYNPO2', 'TDRP', 'TMEM117', 'TMEM175', 'TMOD2', 'TMUB2', 'TPH2', 'TRAPPC14', 'TSC2', 'UEVLD', 'UNC5A', 'USP42', 'WFDC3', 'XKR5', 'ZFP28']\n"
     ]
    },
    {
     "name": "stderr",
     "output_type": "stream",
     "text": [
      "100%|██████████| 5402/5402 [00:00<00:00, 638279.06it/s]\n"
     ]
    }
   ],
   "source": [
    "import networkx as nx\n",
    "from sklearn.metrics.pairwise import cosine_similarity\n",
    "import matplotlib as mpl\n",
    "import matplotlib.pyplot as plt\n",
    "import pandas as pd\n",
    "\n",
    "\n",
    "df2 = pd.DataFrame(gene_adata_hvg.X,index=gene_adata_hvg.obs_names,columns=gene_adata_hvg.var_names)\n",
    "#df2_t = df2.transpose()\n",
    "\n",
    "# build network for each cluster\n",
    "for key in mgs.keys():\n",
    "    plt.clf()\n",
    "    genesub = mgs[key]\n",
    "    genesub =list(genesub)\n",
    "    clust = df2.loc[genesub]\n",
    "    print(key, genesub)\n",
    "    G = nx.Graph()\n",
    "    similarities = cosine_similarity(clust)\n",
    "    genes = list(clust.index.values)\n",
    "    similarities[similarities>0.9999]=0\n",
    "    edges = []\n",
    "    nz = list(zip(*similarities.nonzero()))\n",
    "    for n in tqdm(nz):\n",
    "        edges.append((genes[n[0]], genes[n[1]],{'weight':similarities[n[0],n[1]]}))\n",
    "    G.add_nodes_from(genes)\n",
    "    G.add_edges_from(edges)\n",
    "    widths = nx.get_edge_attributes(G, 'weight')\n",
    "    weightvalue = np.array(list(widths.values()))\n",
    "    scaled_weightvalue = (weightvalue-weightvalue.min())/(weightvalue.max()-weightvalue.min())*3\n",
    "    widsorted = sorted(widths.items(), key=lambda x: x[1], reverse=True)\n",
    "    toppair = np.array(list(widths))[weightvalue.argsort()<3]\n",
    "    pos = nx.spring_layout(G, k=0.4, iterations=15, seed=42)\n",
    "    # draw network\n",
    "    nx.draw_networkx_edges(G, pos,\n",
    "                       edgelist = widths.keys(),\n",
    "                       edge_color=list(widths.values()),\n",
    "                       width=scaled_weightvalue,\n",
    "                       edge_cmap=mpl.colormaps['cool'],\n",
    "                       alpha=1)\n",
    "    nx.draw_networkx_labels(G, pos, font_size=6, font_family=\"sans-serif\")\n",
    "    # edge weight labels\n",
    "    edge_labels = {widsorted[i][0]: f'rank{i+1}' for i in range(5)}\n",
    "    nx.draw_networkx_edge_labels(G, pos, edge_labels, font_size=6)\n",
    "    # plot\n",
    "    ax = plt.gca()\n",
    "    ax.margins(0.08)\n",
    "    plt.axis(\"off\")\n",
    "    plt.tight_layout()\n",
    "    mpl.rcParams['pdf.fonttype'] = 42\n",
    "    mpl.rcParams['ps.fonttype'] = 42\n",
    "    filename = 'figures/cone_clust_' + str(key) +'_genemodule.pdf'\n",
    "    plt.savefig(filename, bbox_inches='tight')\n",
    "    plt.close()\n"
   ]
  },
  {
   "cell_type": "markdown",
   "id": "ed08db64",
   "metadata": {},
   "source": []
  },
  {
   "cell_type": "markdown",
   "id": "6256a915-9820-408f-b7f3-2ab559329d3e",
   "metadata": {},
   "source": [
    "## Use emb for pySCENIC"
   ]
  },
  {
   "cell_type": "code",
   "execution_count": 32,
   "id": "c673ab17-5dcf-4358-973b-3e33d55a72a5",
   "metadata": {},
   "outputs": [
    {
     "data": {
      "text/plain": [
       "array([[[            nan,             nan,             nan, ...,\n",
       "                     nan,             nan,             nan],\n",
       "        [            nan,             nan,             nan, ...,\n",
       "                     nan,             nan,             nan],\n",
       "        [            nan,             nan,             nan, ...,\n",
       "                     nan,             nan,             nan],\n",
       "        ...,\n",
       "        [            nan,             nan,             nan, ...,\n",
       "                     nan,             nan,             nan],\n",
       "        [            nan,             nan,             nan, ...,\n",
       "                     nan,             nan,             nan],\n",
       "        [            nan,             nan,             nan, ...,\n",
       "                     nan,             nan,             nan]],\n",
       "\n",
       "       [[-6.92784712e-02,  4.02336717e-02,  6.18375018e-02, ...,\n",
       "          5.92425205e-02, -4.71354797e-02, -7.37854242e-02],\n",
       "        [-2.90654786e-02,  1.18232556e-01, -4.62347120e-02, ...,\n",
       "          2.64367014e-01, -8.53215754e-02, -1.75835326e-01],\n",
       "        [-2.14098692e-01, -1.27610832e-01,  1.59268841e-01, ...,\n",
       "          7.89054856e-02,  1.71321929e-02, -2.16537789e-01],\n",
       "        ...,\n",
       "        [ 3.32181691e-03, -9.60577875e-02,  1.94980577e-01, ...,\n",
       "          1.30087063e-01,  3.40430588e-02, -6.72504529e-02],\n",
       "        [ 3.50947939e-02, -3.17301065e-01,  4.65935647e-01, ...,\n",
       "          2.30184406e-01,  7.76511729e-02, -2.53426433e-01],\n",
       "        [ 1.28917679e-01,  1.62208304e-01, -3.29015821e-01, ...,\n",
       "          3.48783135e-01, -1.22060560e-01, -2.93545038e-01]],\n",
       "\n",
       "       [[-9.76842493e-02, -3.45189939e-03,  7.41257146e-02, ...,\n",
       "          1.33233875e-01, -6.54058009e-02, -6.12395070e-02],\n",
       "        [-9.23403725e-02, -1.58933222e-01,  2.91497260e-02, ...,\n",
       "          1.52160481e-01, -6.09604344e-02,  2.73091141e-02],\n",
       "        [-1.05053782e-01, -1.19987518e-01,  1.08020470e-01, ...,\n",
       "          1.22364573e-01,  1.03592044e-02, -1.88037157e-02],\n",
       "        ...,\n",
       "        [-2.29021627e-03, -1.04625352e-01,  1.74878851e-01, ...,\n",
       "          1.20760031e-01, -8.03384464e-03, -5.76261282e-02],\n",
       "        [-1.82544980e-02, -1.88004181e-01,  2.07826227e-01, ...,\n",
       "          1.85626432e-01, -5.08120023e-02, -4.40743752e-02],\n",
       "        [ 1.07095003e-01,  5.76489389e-01, -5.51807702e-01, ...,\n",
       "          5.81044257e-01,  3.87005731e-02, -3.16008866e-01]],\n",
       "\n",
       "       ...,\n",
       "\n",
       "       [[            nan,             nan,             nan, ...,\n",
       "                     nan,             nan,             nan],\n",
       "        [            nan,             nan,             nan, ...,\n",
       "                     nan,             nan,             nan],\n",
       "        [            nan,             nan,             nan, ...,\n",
       "                     nan,             nan,             nan],\n",
       "        ...,\n",
       "        [            nan,             nan,             nan, ...,\n",
       "                     nan,             nan,             nan],\n",
       "        [            nan,             nan,             nan, ...,\n",
       "                     nan,             nan,             nan],\n",
       "        [            nan,             nan,             nan, ...,\n",
       "                     nan,             nan,             nan]],\n",
       "\n",
       "       [[-7.92076290e-02, -5.75201027e-03,  6.37317300e-02, ...,\n",
       "          1.57753214e-01, -8.59277397e-02, -2.96944100e-02],\n",
       "        [-9.99092013e-02, -1.84705108e-01,  1.69466268e-02, ...,\n",
       "          1.74364299e-01, -8.06610584e-02,  4.22795936e-02],\n",
       "        [-9.87484530e-02, -1.55162826e-01,  1.02353811e-01, ...,\n",
       "          1.33888692e-01,  6.39896549e-04, -9.74553730e-03],\n",
       "        ...,\n",
       "        [ 8.37940797e-02,  3.02524090e-01, -6.55512691e-01, ...,\n",
       "          2.40241766e-01,  8.34801123e-02, -3.83827180e-01],\n",
       "        [ 8.28315318e-03, -2.12343171e-01,  2.36552253e-01, ...,\n",
       "          1.89824373e-01, -7.86637664e-02, -3.94455250e-03],\n",
       "        [-1.79949496e-02,  4.99306381e-01, -3.39881778e-01, ...,\n",
       "          4.16031867e-01, -1.41332716e-01, -3.28828216e-01]],\n",
       "\n",
       "       [[            nan,             nan,             nan, ...,\n",
       "                     nan,             nan,             nan],\n",
       "        [            nan,             nan,             nan, ...,\n",
       "                     nan,             nan,             nan],\n",
       "        [            nan,             nan,             nan, ...,\n",
       "                     nan,             nan,             nan],\n",
       "        ...,\n",
       "        [            nan,             nan,             nan, ...,\n",
       "                     nan,             nan,             nan],\n",
       "        [            nan,             nan,             nan, ...,\n",
       "                     nan,             nan,             nan],\n",
       "        [            nan,             nan,             nan, ...,\n",
       "                     nan,             nan,             nan]]],\n",
       "      dtype=float32)"
      ]
     },
     "execution_count": 32,
     "metadata": {},
     "output_type": "execute_result"
    }
   ],
   "source": [
    "#cell_geneemb = np.load('./data/cd8t_b_mono_geneemb_01B-resolution_singlecell_gene_embedding_f1_resolution.npy')\n",
    "cell_geneemb"
   ]
  },
  {
   "cell_type": "code",
   "execution_count": 38,
   "id": "87a018e0-c8bb-4549-bbe5-5c6880fc8251",
   "metadata": {},
   "outputs": [
    {
     "data": {
      "text/plain": [
       "(516, 6419)"
      ]
     },
     "execution_count": 38,
     "metadata": {},
     "output_type": "execute_result"
    }
   ],
   "source": [
    "selected_gene = adata.X.sum(0)>0\n",
    "geneemb_merge = cell_geneemb[:,selected_gene,0] #.mean(0)\n",
    "geneemb_merge.shape"
   ]
  },
  {
   "cell_type": "code",
   "execution_count": 39,
   "id": "f701c8cc-dbd5-4362-a52b-d2994d791b0d",
   "metadata": {},
   "outputs": [
    {
     "data": {
      "text/plain": [
       "614"
      ]
     },
     "execution_count": 39,
     "metadata": {},
     "output_type": "execute_result"
    }
   ],
   "source": [
    "TF = pd.read_csv('./data/hs_hgnc_tfs.txt',header=None).values.T[0]\n",
    "sgene = np.array(gene_list)[selected_gene]\n",
    "fltTF = [x for x in TF if x in sgene]\n",
    "len(fltTF)"
   ]
  },
  {
   "cell_type": "code",
   "execution_count": 43,
   "id": "f0ed7b36",
   "metadata": {},
   "outputs": [
    {
     "data": {
      "text/plain": [
       "(6419, 516)"
      ]
     },
     "execution_count": 43,
     "metadata": {},
     "output_type": "execute_result"
    }
   ],
   "source": [
    "len(sgene)\n",
    "geneemb_merge_t = geneemb_merge.transpose()\n",
    "geneemb_merge_t.shape"
   ]
  },
  {
   "cell_type": "code",
   "execution_count": 50,
   "id": "209bbc31-3337-4016-b3fd-f9bb385c522a",
   "metadata": {},
   "outputs": [
    {
     "data": {
      "text/html": [
       "<div>\n",
       "<style scoped>\n",
       "    .dataframe tbody tr th:only-of-type {\n",
       "        vertical-align: middle;\n",
       "    }\n",
       "\n",
       "    .dataframe tbody tr th {\n",
       "        vertical-align: top;\n",
       "    }\n",
       "\n",
       "    .dataframe thead th {\n",
       "        text-align: right;\n",
       "    }\n",
       "</style>\n",
       "<table border=\"1\" class=\"dataframe\">\n",
       "  <thead>\n",
       "    <tr style=\"text-align: right;\">\n",
       "      <th></th>\n",
       "      <th>1</th>\n",
       "      <th>2</th>\n",
       "      <th>4</th>\n",
       "      <th>5</th>\n",
       "      <th>6</th>\n",
       "      <th>10</th>\n",
       "      <th>12</th>\n",
       "      <th>13</th>\n",
       "      <th>15</th>\n",
       "      <th>17</th>\n",
       "      <th>...</th>\n",
       "      <th>501</th>\n",
       "      <th>502</th>\n",
       "      <th>503</th>\n",
       "      <th>507</th>\n",
       "      <th>508</th>\n",
       "      <th>509</th>\n",
       "      <th>510</th>\n",
       "      <th>511</th>\n",
       "      <th>512</th>\n",
       "      <th>514</th>\n",
       "    </tr>\n",
       "  </thead>\n",
       "  <tbody>\n",
       "    <tr>\n",
       "      <th>A3GALT2</th>\n",
       "      <td>-0.058932</td>\n",
       "      <td>-0.051394</td>\n",
       "      <td>-0.049141</td>\n",
       "      <td>-0.059104</td>\n",
       "      <td>-0.045418</td>\n",
       "      <td>-0.050561</td>\n",
       "      <td>-0.052747</td>\n",
       "      <td>-0.051919</td>\n",
       "      <td>-0.041041</td>\n",
       "      <td>-0.035713</td>\n",
       "      <td>...</td>\n",
       "      <td>-0.057861</td>\n",
       "      <td>-0.050554</td>\n",
       "      <td>-0.057745</td>\n",
       "      <td>-0.050582</td>\n",
       "      <td>-0.042732</td>\n",
       "      <td>-0.055948</td>\n",
       "      <td>-0.046956</td>\n",
       "      <td>-0.042486</td>\n",
       "      <td>-0.054351</td>\n",
       "      <td>-0.044926</td>\n",
       "    </tr>\n",
       "    <tr>\n",
       "      <th>AACS</th>\n",
       "      <td>0.122950</td>\n",
       "      <td>-0.054240</td>\n",
       "      <td>-0.088393</td>\n",
       "      <td>-0.041769</td>\n",
       "      <td>-0.068136</td>\n",
       "      <td>-0.063906</td>\n",
       "      <td>-0.082696</td>\n",
       "      <td>-0.063705</td>\n",
       "      <td>-0.053866</td>\n",
       "      <td>-0.056097</td>\n",
       "      <td>...</td>\n",
       "      <td>-0.069656</td>\n",
       "      <td>-0.069894</td>\n",
       "      <td>-0.052723</td>\n",
       "      <td>-0.055513</td>\n",
       "      <td>-0.068969</td>\n",
       "      <td>-0.069731</td>\n",
       "      <td>-0.059906</td>\n",
       "      <td>-0.050935</td>\n",
       "      <td>-0.047182</td>\n",
       "      <td>-0.066402</td>\n",
       "    </tr>\n",
       "    <tr>\n",
       "      <th>AADAT</th>\n",
       "      <td>-0.163353</td>\n",
       "      <td>-0.114843</td>\n",
       "      <td>-0.145136</td>\n",
       "      <td>-0.115454</td>\n",
       "      <td>-0.095814</td>\n",
       "      <td>-0.109591</td>\n",
       "      <td>-0.127227</td>\n",
       "      <td>-0.089896</td>\n",
       "      <td>-0.107917</td>\n",
       "      <td>-0.074901</td>\n",
       "      <td>...</td>\n",
       "      <td>-0.130419</td>\n",
       "      <td>-0.112242</td>\n",
       "      <td>-0.100636</td>\n",
       "      <td>-0.095081</td>\n",
       "      <td>-0.100519</td>\n",
       "      <td>-0.126044</td>\n",
       "      <td>-0.106960</td>\n",
       "      <td>-0.097430</td>\n",
       "      <td>-0.098456</td>\n",
       "      <td>-0.091067</td>\n",
       "    </tr>\n",
       "    <tr>\n",
       "      <th>AAGAB</th>\n",
       "      <td>-0.037842</td>\n",
       "      <td>-0.125161</td>\n",
       "      <td>-0.077449</td>\n",
       "      <td>-0.086551</td>\n",
       "      <td>-0.092218</td>\n",
       "      <td>-0.122875</td>\n",
       "      <td>-0.114673</td>\n",
       "      <td>-0.144358</td>\n",
       "      <td>-0.148219</td>\n",
       "      <td>-0.077586</td>\n",
       "      <td>...</td>\n",
       "      <td>-0.102200</td>\n",
       "      <td>-0.109266</td>\n",
       "      <td>-0.117144</td>\n",
       "      <td>-0.220076</td>\n",
       "      <td>0.068442</td>\n",
       "      <td>-0.141625</td>\n",
       "      <td>-0.003802</td>\n",
       "      <td>-0.112916</td>\n",
       "      <td>-0.097316</td>\n",
       "      <td>-0.162744</td>\n",
       "    </tr>\n",
       "    <tr>\n",
       "      <th>AAK1</th>\n",
       "      <td>-0.092223</td>\n",
       "      <td>-0.223381</td>\n",
       "      <td>-0.365524</td>\n",
       "      <td>-0.172274</td>\n",
       "      <td>-0.356369</td>\n",
       "      <td>-0.459582</td>\n",
       "      <td>-0.602866</td>\n",
       "      <td>-0.198902</td>\n",
       "      <td>-0.263236</td>\n",
       "      <td>-0.159947</td>\n",
       "      <td>...</td>\n",
       "      <td>-0.183493</td>\n",
       "      <td>-0.447928</td>\n",
       "      <td>-0.169585</td>\n",
       "      <td>-0.248790</td>\n",
       "      <td>-0.497516</td>\n",
       "      <td>-0.164097</td>\n",
       "      <td>-0.479005</td>\n",
       "      <td>-0.314824</td>\n",
       "      <td>-0.203545</td>\n",
       "      <td>-0.134468</td>\n",
       "    </tr>\n",
       "    <tr>\n",
       "      <th>...</th>\n",
       "      <td>...</td>\n",
       "      <td>...</td>\n",
       "      <td>...</td>\n",
       "      <td>...</td>\n",
       "      <td>...</td>\n",
       "      <td>...</td>\n",
       "      <td>...</td>\n",
       "      <td>...</td>\n",
       "      <td>...</td>\n",
       "      <td>...</td>\n",
       "      <td>...</td>\n",
       "      <td>...</td>\n",
       "      <td>...</td>\n",
       "      <td>...</td>\n",
       "      <td>...</td>\n",
       "      <td>...</td>\n",
       "      <td>...</td>\n",
       "      <td>...</td>\n",
       "      <td>...</td>\n",
       "      <td>...</td>\n",
       "      <td>...</td>\n",
       "    </tr>\n",
       "    <tr>\n",
       "      <th>ZXDC</th>\n",
       "      <td>0.095771</td>\n",
       "      <td>-0.031870</td>\n",
       "      <td>-0.034394</td>\n",
       "      <td>-0.046409</td>\n",
       "      <td>-0.025727</td>\n",
       "      <td>-0.029313</td>\n",
       "      <td>0.092974</td>\n",
       "      <td>-0.026194</td>\n",
       "      <td>-0.079246</td>\n",
       "      <td>0.087059</td>\n",
       "      <td>...</td>\n",
       "      <td>-0.037064</td>\n",
       "      <td>-0.030215</td>\n",
       "      <td>-0.038290</td>\n",
       "      <td>0.017885</td>\n",
       "      <td>-0.010192</td>\n",
       "      <td>-0.011999</td>\n",
       "      <td>-0.038379</td>\n",
       "      <td>-0.043664</td>\n",
       "      <td>-0.050374</td>\n",
       "      <td>-0.013932</td>\n",
       "    </tr>\n",
       "    <tr>\n",
       "      <th>ZYG11A</th>\n",
       "      <td>-0.003656</td>\n",
       "      <td>-0.037865</td>\n",
       "      <td>-0.016913</td>\n",
       "      <td>-0.039433</td>\n",
       "      <td>-0.047951</td>\n",
       "      <td>-0.048472</td>\n",
       "      <td>-0.038200</td>\n",
       "      <td>-0.044753</td>\n",
       "      <td>-0.074609</td>\n",
       "      <td>-0.048907</td>\n",
       "      <td>...</td>\n",
       "      <td>-0.043120</td>\n",
       "      <td>-0.036517</td>\n",
       "      <td>-0.057114</td>\n",
       "      <td>-0.026436</td>\n",
       "      <td>-0.011426</td>\n",
       "      <td>-0.056884</td>\n",
       "      <td>-0.055758</td>\n",
       "      <td>-0.054710</td>\n",
       "      <td>-0.043231</td>\n",
       "      <td>-0.058854</td>\n",
       "    </tr>\n",
       "    <tr>\n",
       "      <th>ZYG11B</th>\n",
       "      <td>-0.008362</td>\n",
       "      <td>-0.192290</td>\n",
       "      <td>-0.084677</td>\n",
       "      <td>-0.053336</td>\n",
       "      <td>-0.007879</td>\n",
       "      <td>0.023748</td>\n",
       "      <td>-0.047995</td>\n",
       "      <td>-0.052295</td>\n",
       "      <td>-0.162665</td>\n",
       "      <td>0.151628</td>\n",
       "      <td>...</td>\n",
       "      <td>-0.183092</td>\n",
       "      <td>0.059544</td>\n",
       "      <td>0.006961</td>\n",
       "      <td>-0.216699</td>\n",
       "      <td>-0.115350</td>\n",
       "      <td>-0.099875</td>\n",
       "      <td>-0.150089</td>\n",
       "      <td>-0.109590</td>\n",
       "      <td>-0.070168</td>\n",
       "      <td>-0.032683</td>\n",
       "    </tr>\n",
       "    <tr>\n",
       "      <th>ZZEF1</th>\n",
       "      <td>0.035095</td>\n",
       "      <td>-0.018254</td>\n",
       "      <td>0.009669</td>\n",
       "      <td>0.042112</td>\n",
       "      <td>-0.005923</td>\n",
       "      <td>0.018915</td>\n",
       "      <td>0.184730</td>\n",
       "      <td>0.038855</td>\n",
       "      <td>0.068378</td>\n",
       "      <td>-0.138831</td>\n",
       "      <td>...</td>\n",
       "      <td>0.116323</td>\n",
       "      <td>0.208484</td>\n",
       "      <td>-0.014826</td>\n",
       "      <td>0.055695</td>\n",
       "      <td>0.030977</td>\n",
       "      <td>0.007832</td>\n",
       "      <td>-0.003493</td>\n",
       "      <td>0.001023</td>\n",
       "      <td>-0.019596</td>\n",
       "      <td>0.008283</td>\n",
       "    </tr>\n",
       "    <tr>\n",
       "      <th>ZZZ3</th>\n",
       "      <td>0.128918</td>\n",
       "      <td>0.107095</td>\n",
       "      <td>0.101773</td>\n",
       "      <td>0.102311</td>\n",
       "      <td>0.047966</td>\n",
       "      <td>0.020384</td>\n",
       "      <td>-0.022553</td>\n",
       "      <td>0.069965</td>\n",
       "      <td>-0.044482</td>\n",
       "      <td>0.026507</td>\n",
       "      <td>...</td>\n",
       "      <td>0.119179</td>\n",
       "      <td>0.124198</td>\n",
       "      <td>-0.020063</td>\n",
       "      <td>0.003880</td>\n",
       "      <td>0.072688</td>\n",
       "      <td>0.011485</td>\n",
       "      <td>0.018087</td>\n",
       "      <td>0.007768</td>\n",
       "      <td>0.043990</td>\n",
       "      <td>-0.017995</td>\n",
       "    </tr>\n",
       "  </tbody>\n",
       "</table>\n",
       "<p>6419 rows × 343 columns</p>\n",
       "</div>"
      ],
      "text/plain": [
       "              1         2         4         5         6         10        12   \\\n",
       "A3GALT2 -0.058932 -0.051394 -0.049141 -0.059104 -0.045418 -0.050561 -0.052747   \n",
       "AACS     0.122950 -0.054240 -0.088393 -0.041769 -0.068136 -0.063906 -0.082696   \n",
       "AADAT   -0.163353 -0.114843 -0.145136 -0.115454 -0.095814 -0.109591 -0.127227   \n",
       "AAGAB   -0.037842 -0.125161 -0.077449 -0.086551 -0.092218 -0.122875 -0.114673   \n",
       "AAK1    -0.092223 -0.223381 -0.365524 -0.172274 -0.356369 -0.459582 -0.602866   \n",
       "...           ...       ...       ...       ...       ...       ...       ...   \n",
       "ZXDC     0.095771 -0.031870 -0.034394 -0.046409 -0.025727 -0.029313  0.092974   \n",
       "ZYG11A  -0.003656 -0.037865 -0.016913 -0.039433 -0.047951 -0.048472 -0.038200   \n",
       "ZYG11B  -0.008362 -0.192290 -0.084677 -0.053336 -0.007879  0.023748 -0.047995   \n",
       "ZZEF1    0.035095 -0.018254  0.009669  0.042112 -0.005923  0.018915  0.184730   \n",
       "ZZZ3     0.128918  0.107095  0.101773  0.102311  0.047966  0.020384 -0.022553   \n",
       "\n",
       "              13        15        17   ...       501       502       503  \\\n",
       "A3GALT2 -0.051919 -0.041041 -0.035713  ... -0.057861 -0.050554 -0.057745   \n",
       "AACS    -0.063705 -0.053866 -0.056097  ... -0.069656 -0.069894 -0.052723   \n",
       "AADAT   -0.089896 -0.107917 -0.074901  ... -0.130419 -0.112242 -0.100636   \n",
       "AAGAB   -0.144358 -0.148219 -0.077586  ... -0.102200 -0.109266 -0.117144   \n",
       "AAK1    -0.198902 -0.263236 -0.159947  ... -0.183493 -0.447928 -0.169585   \n",
       "...           ...       ...       ...  ...       ...       ...       ...   \n",
       "ZXDC    -0.026194 -0.079246  0.087059  ... -0.037064 -0.030215 -0.038290   \n",
       "ZYG11A  -0.044753 -0.074609 -0.048907  ... -0.043120 -0.036517 -0.057114   \n",
       "ZYG11B  -0.052295 -0.162665  0.151628  ... -0.183092  0.059544  0.006961   \n",
       "ZZEF1    0.038855  0.068378 -0.138831  ...  0.116323  0.208484 -0.014826   \n",
       "ZZZ3     0.069965 -0.044482  0.026507  ...  0.119179  0.124198 -0.020063   \n",
       "\n",
       "              507       508       509       510       511       512       514  \n",
       "A3GALT2 -0.050582 -0.042732 -0.055948 -0.046956 -0.042486 -0.054351 -0.044926  \n",
       "AACS    -0.055513 -0.068969 -0.069731 -0.059906 -0.050935 -0.047182 -0.066402  \n",
       "AADAT   -0.095081 -0.100519 -0.126044 -0.106960 -0.097430 -0.098456 -0.091067  \n",
       "AAGAB   -0.220076  0.068442 -0.141625 -0.003802 -0.112916 -0.097316 -0.162744  \n",
       "AAK1    -0.248790 -0.497516 -0.164097 -0.479005 -0.314824 -0.203545 -0.134468  \n",
       "...           ...       ...       ...       ...       ...       ...       ...  \n",
       "ZXDC     0.017885 -0.010192 -0.011999 -0.038379 -0.043664 -0.050374 -0.013932  \n",
       "ZYG11A  -0.026436 -0.011426 -0.056884 -0.055758 -0.054710 -0.043231 -0.058854  \n",
       "ZYG11B  -0.216699 -0.115350 -0.099875 -0.150089 -0.109590 -0.070168 -0.032683  \n",
       "ZZEF1    0.055695  0.030977  0.007832 -0.003493  0.001023 -0.019596  0.008283  \n",
       "ZZZ3     0.003880  0.072688  0.011485  0.018087  0.007768  0.043990 -0.017995  \n",
       "\n",
       "[6419 rows x 343 columns]"
      ]
     },
     "execution_count": 50,
     "metadata": {},
     "output_type": "execute_result"
    }
   ],
   "source": [
    "fltgeneembdf = pd.DataFrame(geneemb_merge_t,index=sgene)\n",
    "fltgeneembdf = fltgeneembdf.dropna(axis=1)\n",
    "fltgeneembdf"
   ]
  },
  {
   "cell_type": "code",
   "execution_count": 51,
   "id": "be10e7e1-9bc2-45e4-989f-97627e736191",
   "metadata": {
    "scrolled": true,
    "tags": []
   },
   "outputs": [
    {
     "name": "stderr",
     "output_type": "stream",
     "text": [
      "100%|██████████| 614/614 [01:13<00:00,  8.32it/s]\n"
     ]
    }
   ],
   "source": [
    "coexplist=[]\n",
    "# get cosign similarities for TFs\n",
    "for tf in tqdm(fltTF):\n",
    "    tmpsim = cosine_similarity(fltgeneembdf.loc[fltTF[0],:].values.reshape(1,-1),fltgeneembdf)\n",
    "    tmpsim[tmpsim>0.9999]=0\n",
    "    tmpsimdf = pd.DataFrame(tmpsim,columns=sgene,index=['simi']).T\n",
    "    tmpsimdf = tmpsimdf.sort_values('simi',ascending=False)\n",
    "    for idx in range(1000):\n",
    "        coexplist.append([tf,tmpsimdf.index[idx],tmpsimdf.iloc[idx,0]*100])"
   ]
  },
  {
   "cell_type": "code",
   "execution_count": 52,
   "id": "89d1ddd1-6ec2-4486-a904-443f6988cd07",
   "metadata": {},
   "outputs": [],
   "source": [
    "grndf = pd.DataFrame(coexplist,columns=['TF','target','importance'])"
   ]
  },
  {
   "cell_type": "code",
   "execution_count": 53,
   "id": "293bad7c-4490-478b-a819-59faf05f46d7",
   "metadata": {},
   "outputs": [],
   "source": [
    "grndf.to_csv('scf_grn_1000.tsv',index=False,sep='\\t')"
   ]
  },
  {
   "cell_type": "code",
   "execution_count": 54,
   "id": "4072ee02-95c0-42ba-9bb8-3c06973a932c",
   "metadata": {},
   "outputs": [
    {
     "data": {
      "text/html": [
       "<div>\n",
       "<style scoped>\n",
       "    .dataframe tbody tr th:only-of-type {\n",
       "        vertical-align: middle;\n",
       "    }\n",
       "\n",
       "    .dataframe tbody tr th {\n",
       "        vertical-align: top;\n",
       "    }\n",
       "\n",
       "    .dataframe thead th {\n",
       "        text-align: right;\n",
       "    }\n",
       "</style>\n",
       "<table border=\"1\" class=\"dataframe\">\n",
       "  <thead>\n",
       "    <tr style=\"text-align: right;\">\n",
       "      <th></th>\n",
       "      <th>TF</th>\n",
       "      <th>target</th>\n",
       "      <th>importance</th>\n",
       "    </tr>\n",
       "  </thead>\n",
       "  <tbody>\n",
       "    <tr>\n",
       "      <th>0</th>\n",
       "      <td>ZNF8</td>\n",
       "      <td>CDH15</td>\n",
       "      <td>84.269649</td>\n",
       "    </tr>\n",
       "    <tr>\n",
       "      <th>1</th>\n",
       "      <td>ZNF8</td>\n",
       "      <td>SLC5A4</td>\n",
       "      <td>83.318973</td>\n",
       "    </tr>\n",
       "    <tr>\n",
       "      <th>2</th>\n",
       "      <td>ZNF8</td>\n",
       "      <td>ZNF45</td>\n",
       "      <td>83.248663</td>\n",
       "    </tr>\n",
       "    <tr>\n",
       "      <th>3</th>\n",
       "      <td>ZNF8</td>\n",
       "      <td>MAP4K2</td>\n",
       "      <td>83.005190</td>\n",
       "    </tr>\n",
       "    <tr>\n",
       "      <th>4</th>\n",
       "      <td>ZNF8</td>\n",
       "      <td>SKA3</td>\n",
       "      <td>82.514042</td>\n",
       "    </tr>\n",
       "  </tbody>\n",
       "</table>\n",
       "</div>"
      ],
      "text/plain": [
       "     TF  target  importance\n",
       "0  ZNF8   CDH15   84.269649\n",
       "1  ZNF8  SLC5A4   83.318973\n",
       "2  ZNF8   ZNF45   83.248663\n",
       "3  ZNF8  MAP4K2   83.005190\n",
       "4  ZNF8    SKA3   82.514042"
      ]
     },
     "execution_count": 54,
     "metadata": {},
     "output_type": "execute_result"
    }
   ],
   "source": [
    "grndf.head()"
   ]
  },
  {
   "cell_type": "markdown",
   "id": "2e62a0ab-40f6-44a6-8a9c-d405993c2830",
   "metadata": {},
   "source": [
    "feed into pyscenic"
   ]
  },
  {
   "cell_type": "markdown",
   "id": "a37ea25a-da9b-4e73-a1ac-77fd15a3116f",
   "metadata": {},
   "source": [
    "#bin/bash\n",
    "\n",
    "docker run -it --rm \\\n",
    "    -v /nfs_beijing/:/nfs_beijing/ \\\n",
    "    aertslab/pyscenic:0.12.1 pyscenic ctx \\\n",
    "        ./geneemb/scf_grn_1000.tsv \\\n",
    "        ./geneemb/hg38_10kbp_up_10kbp_down_full_tx_v10_clust.genes_vs_motifs.rankings.feather \\\n",
    "        --annotations_fname ./geneemb/motifs-v10nr_clust-nr.hgnc-m0.001-o0.0.tbl \\\n",
    "        --expression_mtx_fname ./geneemb/data/zheng_subset_cd8t_b_mono.tsv \\\n",
    "        --mode \"custom_multiprocessing\" \\\n",
    "        --output ./geneemb/regulons_1000.csv \\\n",
    "        --num_workers 40\n",
    "        \n",
    "docker run -it --rm \\\n",
    "    -v /nfs_beijing/:/nfs_beijing/ \\\n",
    "    aertslab/pyscenic:0.12.1 pyscenic aucell \\\n",
    "        ./geneemb/data/zheng_subset_cd8t_b_mono.tsv \\\n",
    "        ./geneemb/regulons_1000.csv \\\n",
    "        -o ./geneemb/auc_mtx_1000.csv \\\n",
    "        --num_workers 6"
   ]
  },
  {
   "cell_type": "code",
   "execution_count": null,
   "id": "2e966f3f-1af1-413c-8a36-187c02c1fe5c",
   "metadata": {},
   "outputs": [],
   "source": [
    "# from another notebook for post-analysis\n",
    "# import dependencies\n",
    "import os\n",
    "import numpy as np\n",
    "import pandas as pd\n",
    "import scanpy as sc\n",
    "import loompy as lp\n",
    "import json\n",
    "import base64\n",
    "import zlib\n",
    "from pyscenic.plotting import plot_binarization\n",
    "from pyscenic.cli.utils import load_signatures\n",
    "import matplotlib as mpl\n",
    "import matplotlib.pyplot as plt\n",
    "import seaborn as sns\n",
    "from pyscenic.rss import regulon_specificity_scores\n",
    "from pyscenic.plotting import plot_rss\n",
    "from pyscenic.binarization import binarize"
   ]
  },
  {
   "cell_type": "code",
   "execution_count": null,
   "id": "e1d4e750-8908-486e-9819-c6b8d7eae0fd",
   "metadata": {},
   "outputs": [],
   "source": [
    "auc_mtx = pd.read_csv('./auc_mtx_1000.csv',index_col=0)"
   ]
  },
  {
   "cell_type": "code",
   "execution_count": null,
   "id": "678265c2-f47a-4964-8af2-fa6246c492f1",
   "metadata": {},
   "outputs": [],
   "source": [
    "cellanno = pd.DataFrame(['CD8+ Cytotoxic T']*100+['CD19+ B']*100+['CD14+ Monocyte']*100,columns=['anno'])"
   ]
  },
  {
   "cell_type": "code",
   "execution_count": null,
   "id": "6b9a48bc-ea98-4ef3-9567-46775799ec1c",
   "metadata": {},
   "outputs": [],
   "source": [
    "rss_cellType = regulon_specificity_scores( auc_mtx, cellanno['anno'] )\n",
    "rss_cellType.to_csv('RSS.csv')\n",
    "rss_cellType"
   ]
  },
  {
   "cell_type": "code",
   "execution_count": null,
   "id": "19f5ed99-c7ca-4e9d-92b8-db9579d43b97",
   "metadata": {},
   "outputs": [],
   "source": [
    "from adjustText import adjust_text\n",
    "cats = sorted(list(set(cellanno['anno'])))\n",
    "\n",
    "fig = plt.figure(figsize=(15, 5))\n",
    "for c,num in zip(cats, range(1,len(cats)+1)):\n",
    "    x=rss_cellType.T[c]\n",
    "    ax = fig.add_subplot(1,3,num)\n",
    "    plot_rss(rss_cellType, c, top_n=3, max_n=None, ax=ax)\n",
    "    ax.set_ylim( x.min()-(x.max()-x.min())*0.05 , x.max()+(x.max()-x.min())*0.05 )\n",
    "    for t in ax.texts:\n",
    "        t.set_fontsize(12)\n",
    "    ax.set_ylabel('')\n",
    "    ax.set_xlabel('')\n",
    "    adjust_text(ax.texts, autoalign='xy', ha='right', va='bottom', arrowprops=dict(arrowstyle='-',color='lightgrey'), precision=0.001 )\n",
    " \n",
    "fig.text(0.5, 0.0, 'Regulon', ha='center', va='center', size='x-large')\n",
    "fig.text(0.00, 0.5, 'Regulon specificity score (RSS)', ha='center', va='center', rotation='vertical', size='x-large')\n",
    "plt.tight_layout()\n",
    "plt.rcParams.update({\n",
    "    'figure.autolayout': True,\n",
    "        'figure.titlesize': 'large' ,\n",
    "        'axes.labelsize': 'medium',\n",
    "        'axes.titlesize':'large',\n",
    "        'xtick.labelsize':'medium',\n",
    "        'ytick.labelsize':'medium'\n",
    "        })\n",
    "plt.rcParams['pdf.fonttype'] = 42\n",
    "plt.rcParams['ps.fonttype'] = 42\n",
    "plt.savefig('RSS.pdf',bbox_inches='tight')"
   ]
  },
  {
   "cell_type": "code",
   "execution_count": null,
   "id": "a2071205-4fcc-4f0c-a7e7-c4a42986a011",
   "metadata": {},
   "outputs": [],
   "source": []
  }
 ],
 "metadata": {
  "kernelspec": {
   "display_name": "scfound2",
   "language": "python",
   "name": "python3"
  },
  "language_info": {
   "codemirror_mode": {
    "name": "ipython",
    "version": 3
   },
   "file_extension": ".py",
   "mimetype": "text/x-python",
   "name": "python",
   "nbconvert_exporter": "python",
   "pygments_lexer": "ipython3",
   "version": "3.12.8"
  }
 },
 "nbformat": 4,
 "nbformat_minor": 5
}
